{
 "cells": [
  {
   "cell_type": "markdown",
   "metadata": {},
   "source": [
    "# Predição de mortalidade em internações por pneumonias bacterianas sensíveis à Atenção Primária no Brasil, 2017-2021"
   ]
  },
  {
   "cell_type": "markdown",
   "metadata": {},
   "source": [
    "## Análise preditiva"
   ]
  },
  {
   "cell_type": "markdown",
   "metadata": {},
   "source": [
    "### 1. Importando pacotes de análise"
   ]
  },
  {
   "cell_type": "code",
   "execution_count": 14,
   "metadata": {},
   "outputs": [],
   "source": [
    "# IMPORTANDO PACOTES \n",
    "import matplotlib.pyplot as plt\n",
    "import matplotlib.ticker as ticker\n",
    "import numpy as np\n",
    "import pandas as pd  \n",
    "import pylab as pl\n",
    "import chart_studio.plotly as py\n",
    "import plotly.graph_objs as gp \n",
    "import seaborn as sns\n",
    "import statsmodels.formula.api as smf\n",
    "\n",
    "from sklearn.metrics import roc_curve, auc, precision_recall_fscore_support, classification_report\n",
    "from sklearn.model_selection import train_test_split"
   ]
  },
  {
   "cell_type": "markdown",
   "metadata": {},
   "source": [
    "### 2. Importando dados"
   ]
  },
  {
   "cell_type": "code",
   "execution_count": 2,
   "metadata": {},
   "outputs": [
    {
     "name": "stdout",
     "output_type": "stream",
     "text": [
      "<class 'pandas.core.frame.DataFrame'>\n",
      "Int64Index: 658719 entries, 1217100049066 to 1721101761060\n",
      "Data columns (total 8 columns):\n",
      " #   Column      Non-Null Count   Dtype  \n",
      "---  ------      --------------   -----  \n",
      " 0   IDADE       658719 non-null  float64\n",
      " 1   SEXO        658719 non-null  int64  \n",
      " 2   MORTE       658719 non-null  int64  \n",
      " 3   DIAS_PERM   658719 non-null  int64  \n",
      " 4   DIAG_PRINC  658719 non-null  int64  \n",
      " 5   MARCA_UTI   658719 non-null  int64  \n",
      " 6   UTI_MES_TO  658719 non-null  int64  \n",
      " 7   REGIAO      658719 non-null  int64  \n",
      "dtypes: float64(1), int64(7)\n",
      "memory usage: 45.2 MB\n"
     ]
    }
   ],
   "source": [
    "#IMPOTANDO DADOS\n",
    "sih_fn = pd.read_csv(\"sih_pneumonia_1721_trat.csv\", index_col= 'N_AIH')\n",
    "sih_fn.info()"
   ]
  },
  {
   "cell_type": "markdown",
   "metadata": {},
   "source": [
    "### 3. Definindo teste e treino"
   ]
  },
  {
   "cell_type": "code",
   "execution_count": 3,
   "metadata": {},
   "outputs": [],
   "source": [
    "#SEPARANDO OS DADOS\n",
    "train, test = train_test_split(sih_fn, train_size=0.70, random_state=42)"
   ]
  },
  {
   "cell_type": "markdown",
   "metadata": {},
   "source": [
    "### 4. Treinando o modelo de predição"
   ]
  },
  {
   "cell_type": "markdown",
   "metadata": {},
   "source": [
    "#### 4.1 Estimando o modelo por Regressão Logística"
   ]
  },
  {
   "cell_type": "code",
   "execution_count": 4,
   "metadata": {},
   "outputs": [
    {
     "name": "stdout",
     "output_type": "stream",
     "text": [
      "Optimization terminated successfully.\n",
      "         Current function value: 0.257790\n",
      "         Iterations 8\n",
      "                           Logit Regression Results                           \n",
      "==============================================================================\n",
      "Dep. Variable:                  MORTE   No. Observations:               461103\n",
      "Model:                          Logit   Df Residuals:                   461095\n",
      "Method:                           MLE   Df Model:                            7\n",
      "Date:                Mon, 26 Sep 2022   Pseudo R-squ.:                  0.1776\n",
      "Time:                        14:50:38   Log-Likelihood:            -1.1887e+05\n",
      "converged:                       True   LL-Null:                   -1.4453e+05\n",
      "Covariance Type:            nonrobust   LLR p-value:                     0.000\n",
      "==============================================================================\n",
      "                 coef    std err          z      P>|z|      [0.025      0.975]\n",
      "------------------------------------------------------------------------------\n",
      "Intercept     -4.8624      0.022   -219.278      0.000      -4.906      -4.819\n",
      "IDADE          0.0403      0.000    160.325      0.000       0.040       0.041\n",
      "SEXO           0.1254      0.011     11.621      0.000       0.104       0.147\n",
      "DIAS_PERM     -0.0140      0.001    -10.698      0.000      -0.017      -0.011\n",
      "DIAG_PRINC     0.0883      0.011      7.818      0.000       0.066       0.110\n",
      "MARCA_UTI      2.0138      0.036     55.570      0.000       1.943       2.085\n",
      "UTI_MES_TO    -0.0676      0.009     -7.672      0.000      -0.085      -0.050\n",
      "REGIAO         0.1220      0.011     11.203      0.000       0.101       0.143\n",
      "==============================================================================\n"
     ]
    }
   ],
   "source": [
    "#ESTIMANDO O MODELO\n",
    "log_reg = smf.logit(\"MORTE ~ IDADE + SEXO + DIAS_PERM + DIAG_PRINC + MARCA_UTI + UTI_MES_TO + REGIAO\", data = train).fit()\n",
    "print(log_reg.summary())"
   ]
  },
  {
   "cell_type": "markdown",
   "metadata": {},
   "source": [
    "#### 4.2 Avaliando o Modelo de Regressão Logística"
   ]
  },
  {
   "cell_type": "code",
   "execution_count": 5,
   "metadata": {},
   "outputs": [],
   "source": [
    "#ANALISANDO RESULTADOS DO MODELO\n",
    "test_featues = test.drop(\"MORTE\", axis= 1)\n",
    "\n",
    "ytest = test[\"MORTE\"]\n",
    "\n",
    "ypred = log_reg.predict(test_featues)"
   ]
  },
  {
   "cell_type": "code",
   "execution_count": 6,
   "metadata": {},
   "outputs": [
    {
     "data": {
      "text/html": [
       "<div>\n",
       "<style scoped>\n",
       "    .dataframe tbody tr th:only-of-type {\n",
       "        vertical-align: middle;\n",
       "    }\n",
       "\n",
       "    .dataframe tbody tr th {\n",
       "        vertical-align: top;\n",
       "    }\n",
       "\n",
       "    .dataframe thead th {\n",
       "        text-align: right;\n",
       "    }\n",
       "</style>\n",
       "<table border=\"1\" class=\"dataframe\">\n",
       "  <thead>\n",
       "    <tr style=\"text-align: right;\">\n",
       "      <th>col_0</th>\n",
       "      <th>0</th>\n",
       "      <th>1</th>\n",
       "      <th>All</th>\n",
       "    </tr>\n",
       "    <tr>\n",
       "      <th>MORTE</th>\n",
       "      <th></th>\n",
       "      <th></th>\n",
       "      <th></th>\n",
       "    </tr>\n",
       "  </thead>\n",
       "  <tbody>\n",
       "    <tr>\n",
       "      <th>0</th>\n",
       "      <td>177839</td>\n",
       "      <td>1079</td>\n",
       "      <td>178918</td>\n",
       "    </tr>\n",
       "    <tr>\n",
       "      <th>1</th>\n",
       "      <td>17564</td>\n",
       "      <td>1134</td>\n",
       "      <td>18698</td>\n",
       "    </tr>\n",
       "    <tr>\n",
       "      <th>All</th>\n",
       "      <td>195403</td>\n",
       "      <td>2213</td>\n",
       "      <td>197616</td>\n",
       "    </tr>\n",
       "  </tbody>\n",
       "</table>\n",
       "</div>"
      ],
      "text/plain": [
       "col_0       0     1     All\n",
       "MORTE                      \n",
       "0      177839  1079  178918\n",
       "1       17564  1134   18698\n",
       "All    195403  2213  197616"
      ]
     },
     "execution_count": 6,
     "metadata": {},
     "output_type": "execute_result"
    }
   ],
   "source": [
    "#TABELA DE CONTINGÊNCIA PARA OS RESULTADOS - COM THRESHOLD = 0.5\n",
    "ypred2 = np.where(ypred >= 0.5, 1, 0)\n",
    "\n",
    "pd.crosstab(ytest, ypred2, margins= True)"
   ]
  },
  {
   "cell_type": "code",
   "execution_count": 7,
   "metadata": {},
   "outputs": [],
   "source": [
    "#INCLUINDO DADOS DE RESULTADO DA PREDIÇÃO NO DATAFRAME DE TESTE\n",
    "test[\"PRED\"] = ypred"
   ]
  },
  {
   "cell_type": "code",
   "execution_count": 8,
   "metadata": {},
   "outputs": [
    {
     "name": "stdout",
     "output_type": "stream",
     "text": [
      "Área abaixo da curva ROC: 0.801614\n"
     ]
    }
   ],
   "source": [
    "#CALCULANDO MÉTRICAS PARA A CURVA ROC\n",
    "fpr, tpr, thresholds = roc_curve(test[\"MORTE\"], test[\"PRED\"])\n",
    "roc_auc = auc(fpr, tpr)\n",
    "\n",
    "print(\"Área abaixo da curva ROC: %f\" % roc_auc)"
   ]
  },
  {
   "cell_type": "code",
   "execution_count": 17,
   "metadata": {},
   "outputs": [
    {
     "data": {
      "text/plain": [
       "Text(0, 0.5, 'Taxa de Verdadeiros positivos')"
      ]
     },
     "execution_count": 17,
     "metadata": {},
     "output_type": "execute_result"
    },
    {
     "data": {
      "image/png": "[encoded data removed]",
      "text/plain": [
       "<Figure size 1440x720 with 1 Axes>"
      ]
     },
     "metadata": {},
     "output_type": "display_data"
    }
   ],
   "source": [
    "#PLOTANDO CURVA ROC\n",
    "i = np.arange(len(tpr)) \n",
    "roc = pd.DataFrame({'fpr' : pd.Series(fpr, index=i),'tpr' : pd.Series(tpr, index = i), '1-fpr' : pd.Series(1-fpr, index = i), 'tf' : pd.Series(tpr - (1-fpr), index = i), 'thresholds' : pd.Series(thresholds, index = i)})\n",
    "roc.iloc[(roc.tf-0).abs().argsort()[:1]]\n",
    "\n",
    "sns.set(rc={'figure.figsize':(20, 10)})\n",
    "sns.set_theme(style=\"whitegrid\", palette=\"viridis\")\n",
    "\n",
    "pl.plot(roc['tpr'])\n",
    "pl.plot(roc['1-fpr'])\n",
    "pl.xlabel('1-Taxa de Falso Positivo')\n",
    "pl.ylabel('Taxa de Verdadeiros positivos')"
   ]
  },
  {
   "cell_type": "markdown",
   "metadata": {},
   "source": [
    "#### 4.3 Escolhendo o melhor *threshold* de classificação para o modelo"
   ]
  },
  {
   "cell_type": "code",
   "execution_count": 10,
   "metadata": {},
   "outputs": [
    {
     "name": "stdout",
     "output_type": "stream",
     "text": [
      "[0.12679588195891706]\n"
     ]
    }
   ],
   "source": [
    "#DEFININDO MELHOR CUTOFF PARA O MODELO\n",
    "def optimal_cutoff(target, predicted):\n",
    "\n",
    "    fpr, tpr, threshold = roc_curve(target, predicted)\n",
    "    i = np.arange(len(tpr)) \n",
    "    roc = pd.DataFrame({'tf' : pd.Series(tpr-(1-fpr), index=i), 'threshold' : pd.Series(threshold, index=i)})\n",
    "    roc_t = roc.iloc[(roc.tf-0).abs().argsort()[:1]]\n",
    "\n",
    "    return list(roc_t['threshold']) \n",
    "\n",
    "\n",
    "threshold = optimal_cutoff(test[\"MORTE\"], test[\"PRED\"])\n",
    "print(threshold)"
   ]
  },
  {
   "cell_type": "code",
   "execution_count": 11,
   "metadata": {},
   "outputs": [],
   "source": [
    "#INCLUINDO RESULTADOS NO DATAFRAME\n",
    "test[\"PRED_CLASS\"] = np.where(test[\"PRED\"] >= 0.12679588195891706, 1, 0)"
   ]
  },
  {
   "cell_type": "code",
   "execution_count": 12,
   "metadata": {},
   "outputs": [
    {
     "data": {
      "text/html": [
       "<div>\n",
       "<style scoped>\n",
       "    .dataframe tbody tr th:only-of-type {\n",
       "        vertical-align: middle;\n",
       "    }\n",
       "\n",
       "    .dataframe tbody tr th {\n",
       "        vertical-align: top;\n",
       "    }\n",
       "\n",
       "    .dataframe thead th {\n",
       "        text-align: right;\n",
       "    }\n",
       "</style>\n",
       "<table border=\"1\" class=\"dataframe\">\n",
       "  <thead>\n",
       "    <tr style=\"text-align: right;\">\n",
       "      <th>PRED_CLASS</th>\n",
       "      <th>0</th>\n",
       "      <th>1</th>\n",
       "      <th>All</th>\n",
       "    </tr>\n",
       "    <tr>\n",
       "      <th>MORTE</th>\n",
       "      <th></th>\n",
       "      <th></th>\n",
       "      <th></th>\n",
       "    </tr>\n",
       "  </thead>\n",
       "  <tbody>\n",
       "    <tr>\n",
       "      <th>0</th>\n",
       "      <td>128794</td>\n",
       "      <td>50124</td>\n",
       "      <td>178918</td>\n",
       "    </tr>\n",
       "    <tr>\n",
       "      <th>1</th>\n",
       "      <td>5241</td>\n",
       "      <td>13457</td>\n",
       "      <td>18698</td>\n",
       "    </tr>\n",
       "    <tr>\n",
       "      <th>All</th>\n",
       "      <td>134035</td>\n",
       "      <td>63581</td>\n",
       "      <td>197616</td>\n",
       "    </tr>\n",
       "  </tbody>\n",
       "</table>\n",
       "</div>"
      ],
      "text/plain": [
       "PRED_CLASS       0      1     All\n",
       "MORTE                            \n",
       "0           128794  50124  178918\n",
       "1             5241  13457   18698\n",
       "All         134035  63581  197616"
      ]
     },
     "execution_count": 12,
     "metadata": {},
     "output_type": "execute_result"
    }
   ],
   "source": [
    "#MATRIZ DE CONFUSÃO\n",
    "pd.crosstab(test[\"MORTE\"], test[\"PRED_CLASS\"], margins=True)"
   ]
  },
  {
   "cell_type": "code",
   "execution_count": 16,
   "metadata": {},
   "outputs": [
    {
     "name": "stdout",
     "output_type": "stream",
     "text": [
      "              precision    recall  f1-score   support\n",
      "\n",
      "           0       0.96      0.72      0.82    178918\n",
      "           1       0.21      0.72      0.33     18698\n",
      "\n",
      "    accuracy                           0.72    197616\n",
      "   macro avg       0.59      0.72      0.58    197616\n",
      "weighted avg       0.89      0.72      0.78    197616\n",
      "\n"
     ]
    }
   ],
   "source": [
    "#CALCULANDO MÉTRICAS DO MODELO\n",
    "print(classification_report(test[\"MORTE\"], test[\"PRED_CLASS\"]))"
   ]
  }
 ],
 "metadata": {
  "kernelspec": {
   "display_name": "Python 3.8.10 64-bit",
   "language": "python",
   "name": "python3"
  },
  "language_info": {
   "codemirror_mode": {
    "name": "ipython",
    "version": 3
   },
   "file_extension": ".py",
   "mimetype": "text/x-python",
   "name": "python",
   "nbconvert_exporter": "python",
   "pygments_lexer": "ipython3",
   "version": "3.8.10"
  },
  "orig_nbformat": 4,
  "vscode": {
   "interpreter": {
    "hash": "916dbcbb3f70747c44a77c7bcd40155683ae19c65e1c03b4aa3499c5328201f1"
   }
  }
 },
 "nbformat": 4,
 "nbformat_minor": 2
}

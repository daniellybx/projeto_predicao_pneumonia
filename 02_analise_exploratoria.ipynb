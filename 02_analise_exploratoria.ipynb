{
 "cells": [
  {
   "cell_type": "markdown",
   "metadata": {},
   "source": [
    "# Predição de mortalidade em internações por pneumonias bacterianas sensíveis à Atenção Primária no Brasil, 2017-2021"
   ]
  },
  {
   "cell_type": "markdown",
   "metadata": {},
   "source": [
    "## Análise Exploratória"
   ]
  },
  {
   "cell_type": "markdown",
   "metadata": {},
   "source": [
    "### 1. Importando dados"
   ]
  },
  {
   "cell_type": "code",
   "execution_count": 1,
   "metadata": {},
   "outputs": [],
   "source": [
    "# IMPORTANDO PACOTES \n",
    "import matplotlib as plt\n",
    "import matplotlib.ticker as ticker\n",
    "import numpy as np\n",
    "import pandas as pd   \n",
    "import seaborn as sns\n",
    "\n",
    "from sklearn.preprocessing import StandardScaler"
   ]
  },
  {
   "cell_type": "code",
   "execution_count": 2,
   "metadata": {},
   "outputs": [
    {
     "name": "stdout",
     "output_type": "stream",
     "text": [
      "<class 'pandas.core.frame.DataFrame'>\n",
      "RangeIndex: 997695 entries, 0 to 997694\n",
      "Data columns (total 15 columns):\n",
      " #   Column      Non-Null Count   Dtype  \n",
      "---  ------      --------------   -----  \n",
      " 0   MORTE       997695 non-null  int64  \n",
      " 1   CID_MORTE   997695 non-null  int64  \n",
      " 2   DIAG_PRINC  997695 non-null  object \n",
      " 3   DT_INTER    997695 non-null  int64  \n",
      " 4   ANO_CMPT    997695 non-null  int64  \n",
      " 5   MES_CMPT    997695 non-null  int64  \n",
      " 6   DIAG_SECUN  997695 non-null  int64  \n",
      " 7   IDADE       997695 non-null  int64  \n",
      " 8   SEXO        997695 non-null  int64  \n",
      " 9   UF_ZI       997695 non-null  int64  \n",
      " 10  DIAS_PERM   997695 non-null  int64  \n",
      " 11  NUM_FILHOS  997695 non-null  int64  \n",
      " 12  INSTRU      997695 non-null  int64  \n",
      " 13  MARCA_UTI   997695 non-null  int64  \n",
      " 14  INFEHOSP    0 non-null       float64\n",
      "dtypes: float64(1), int64(13), object(1)\n",
      "memory usage: 114.2+ MB\n"
     ]
    }
   ],
   "source": [
    "#IMPORTANDO DADOS DE INTERNAÇÃO POR PNEUMONIA\n",
    "colunas =  [\"MORTE\", \"CID_MORTE\", \"DIAG_PRINC\", \"DT_INTER\", \"ANO_CMPT\", \"MES_CMPT\", \"DIAG_SECUN\",  \"IDADE\", \"SEXO\", \"UF_ZI\", \"DIAS_PERM\", \"NUM_FILHOS\", \"INSTRU\", \"MARCA_UTI\", \"INFEHOSP\"]\n",
    "\n",
    "sih_pneumo = pd.read_csv(\"sih_pneumonia_1721.csv\")\n",
    "sih_pneumo.set_axis(colunas, axis= 1, inplace= True)\n",
    "sih_pneumo.info()"
   ]
  },
  {
   "cell_type": "code",
   "execution_count": 3,
   "metadata": {},
   "outputs": [
    {
     "name": "stdout",
     "output_type": "stream",
     "text": [
      "<class 'pandas.core.frame.DataFrame'>\n",
      "RangeIndex: 28 entries, 0 to 27\n",
      "Data columns (total 7 columns):\n",
      " #   Column  Non-Null Count  Dtype \n",
      "---  ------  --------------  ----- \n",
      " 0   UF      27 non-null     object\n",
      " 1   2017    28 non-null     int64 \n",
      " 2   2018    28 non-null     int64 \n",
      " 3   2019    28 non-null     int64 \n",
      " 4   2020    28 non-null     int64 \n",
      " 5   2021    28 non-null     int64 \n",
      " 6   2022    28 non-null     int64 \n",
      "dtypes: int64(6), object(1)\n",
      "memory usage: 1.7+ KB\n"
     ]
    }
   ],
   "source": [
    "#IMPORTANDO DADOS DE INTERNAÇÃO POR UF E ANO\n",
    "\n",
    "internacoes_br = pd.read_csv(\"A110224189_28_143_208.csv\", encoding= \"UTF-8\", sep = \";\")\n",
    "internacoes_br.rename(columns = {\"Unidade da Federa��o\":\"UF\"}, inplace= True)\n",
    "internacoes_br[\"UF\"] = internacoes_br[\"UF\"].astype('str').str.extractall('(\\d+)').unstack()\n",
    "internacoes_br = internacoes_br[[\"UF\", \"2017\", \"2018\", \"2019\", \"2020\", \"2021\", \"2022\"]]\n",
    "internacoes_br.info()"
   ]
  },
  {
   "cell_type": "markdown",
   "metadata": {},
   "source": [
    "### 2. Preparando os dados"
   ]
  },
  {
   "cell_type": "code",
   "execution_count": 4,
   "metadata": {},
   "outputs": [
    {
     "data": {
      "text/plain": [
       "2016      6966\n",
       "2017    160694\n",
       "2018    170708\n",
       "2019    179618\n",
       "2020     98501\n",
       "2021    127483\n",
       "2022    253725\n",
       "Name: ANO_INT, dtype: int64"
      ]
     },
     "execution_count": 4,
     "metadata": {},
     "output_type": "execute_result"
    }
   ],
   "source": [
    "#VERIFICANDO DATAS DE INTERNAÇÃO\n",
    "sih_pneumo['DT_INTER'] = sih_pneumo['DT_INTER'].astype(\"string\")\n",
    "\n",
    "sih_pneumo['ANO_INT'] = sih_pneumo['DT_INTER'].str.slice(0, 4)\n",
    "sih_pneumo['ANO_INT'] = sih_pneumo['ANO_INT'].astype(int)\n",
    "sih_pneumo['ANO_INT'].value_counts().sort_index()"
   ]
  },
  {
   "cell_type": "code",
   "execution_count": 5,
   "metadata": {},
   "outputs": [
    {
     "data": {
      "text/plain": [
       "2017    159417\n",
       "2018    169893\n",
       "2019    179769\n",
       "2020    102449\n",
       "2021     89492\n",
       "2022    296675\n",
       "Name: ANO_CMPT, dtype: int64"
      ]
     },
     "execution_count": 5,
     "metadata": {},
     "output_type": "execute_result"
    }
   ],
   "source": [
    "#VERIFICANDO ANO DE COMPETENCIA\n",
    "sih_pneumo['ANO_CMPT'] = sih_pneumo['ANO_CMPT'].astype(int)\n",
    "sih_pneumo['ANO_CMPT'].value_counts().sort_index()"
   ]
  },
  {
   "cell_type": "code",
   "execution_count": 6,
   "metadata": {},
   "outputs": [
    {
     "data": {
      "text/plain": [
       "2017    160694\n",
       "2018    170708\n",
       "2019    179618\n",
       "2020     98501\n",
       "2021    127483\n",
       "Name: ANO_INT, dtype: int64"
      ]
     },
     "execution_count": 6,
     "metadata": {},
     "output_type": "execute_result"
    }
   ],
   "source": [
    "#FILTRANDO POR ANO DE INTERNAÇÃO´\n",
    "anos = [2017, 2018, 2019, 2020, 2021]\n",
    "sih_pneumo = sih_pneumo[sih_pneumo['ANO_INT'].isin(anos)]\n",
    "sih_pneumo['ANO_INT'].value_counts().sort_index()"
   ]
  },
  {
   "cell_type": "markdown",
   "metadata": {},
   "source": [
    "#### 2.1 Identificando e classificando os dados"
   ]
  },
  {
   "cell_type": "code",
   "execution_count": 7,
   "metadata": {},
   "outputs": [
    {
     "name": "stdout",
     "output_type": "stream",
     "text": [
      "<class 'pandas.core.frame.DataFrame'>\n",
      "Int64Index: 737004 entries, 0 to 995245\n",
      "Data columns (total 16 columns):\n",
      " #   Column      Non-Null Count   Dtype  \n",
      "---  ------      --------------   -----  \n",
      " 0   MORTE       737004 non-null  int64  \n",
      " 1   CID_MORTE   737004 non-null  int64  \n",
      " 2   DIAG_PRINC  737004 non-null  object \n",
      " 3   DT_INTER    737004 non-null  string \n",
      " 4   ANO_CMPT    737004 non-null  int64  \n",
      " 5   MES_CMPT    737004 non-null  int64  \n",
      " 6   DIAG_SECUN  737004 non-null  int64  \n",
      " 7   IDADE       737004 non-null  int64  \n",
      " 8   SEXO        737004 non-null  int64  \n",
      " 9   UF_ZI       737004 non-null  int64  \n",
      " 10  DIAS_PERM   737004 non-null  int64  \n",
      " 11  NUM_FILHOS  737004 non-null  int64  \n",
      " 12  INSTRU      737004 non-null  int64  \n",
      " 13  MARCA_UTI   737004 non-null  int64  \n",
      " 14  INFEHOSP    0 non-null       float64\n",
      " 15  ANO_INT     737004 non-null  int64  \n",
      "dtypes: float64(1), int64(13), object(1), string(1)\n",
      "memory usage: 95.6+ MB\n"
     ]
    }
   ],
   "source": [
    "#IDENTIFICANDO OS DADOS\n",
    "sih_pneumo2 = sih_pneumo.copy()\n",
    "sih_pneumo2.info()"
   ]
  },
  {
   "cell_type": "code",
   "execution_count": 8,
   "metadata": {},
   "outputs": [
    {
     "name": "stdout",
     "output_type": "stream",
     "text": [
      "<class 'pandas.core.frame.DataFrame'>\n",
      "Int64Index: 737004 entries, 0 to 995245\n",
      "Data columns (total 17 columns):\n",
      " #   Column      Non-Null Count   Dtype         \n",
      "---  ------      --------------   -----         \n",
      " 0   MORTE       737004 non-null  int64         \n",
      " 1   CID_MORTE   737004 non-null  object        \n",
      " 2   DIAG_PRINC  737004 non-null  object        \n",
      " 3   DT_INTER    737004 non-null  datetime64[ns]\n",
      " 4   ANO_CMPT    737004 non-null  int64         \n",
      " 5   MES_CMPT    737004 non-null  int64         \n",
      " 6   DIAG_SECUN  737004 non-null  object        \n",
      " 7   IDADE       737004 non-null  float64       \n",
      " 8   SEXO        737004 non-null  int64         \n",
      " 9   UF_ZI       737004 non-null  object        \n",
      " 10  DIAS_PERM   737004 non-null  int64         \n",
      " 11  NUM_FILHOS  737004 non-null  int64         \n",
      " 12  INSTRU      737004 non-null  int64         \n",
      " 13  MARCA_UTI   737004 non-null  int64         \n",
      " 14  INFEHOSP    0 non-null       float64       \n",
      " 15  ANO_INT     737004 non-null  int64         \n",
      " 16  UF          737004 non-null  object        \n",
      "dtypes: datetime64[ns](1), float64(2), int64(9), object(5)\n",
      "memory usage: 101.2+ MB\n"
     ]
    }
   ],
   "source": [
    "#AJUSTANDO OS DADOS SEGUNDO O TIPO\n",
    "sih_pneumo2['CID_MORTE'] = sih_pneumo2['CID_MORTE'].astype(str)\n",
    "sih_pneumo2['DIAG_PRINC'] = sih_pneumo2['DIAG_PRINC'].astype(str)\n",
    "sih_pneumo2['DIAG_SECUN'] = sih_pneumo2['DIAG_SECUN'].astype(str)\n",
    "sih_pneumo2['UF_ZI'] = sih_pneumo2['UF_ZI'].astype(str)\n",
    "sih_pneumo2['UF'] = sih_pneumo2['UF_ZI'].str.slice(0, 2)\n",
    "sih_pneumo2['IDADE'] = sih_pneumo2['IDADE'].astype(\"float64\")\n",
    "sih_pneumo2['DT_INTER'] = pd.to_datetime(sih_pneumo2['DT_INTER'])\n",
    "\n",
    "sih_pneumo2.info()"
   ]
  },
  {
   "cell_type": "code",
   "execution_count": 9,
   "metadata": {},
   "outputs": [],
   "source": [
    "#INCLUINDO NOME DAS CID NA VARIÁVEL DE DIAGNÓSTICO PRINCIPAL\n",
    "dic_cid = {\"J159\": \"J159 - Pneumonia bacteriana NE\", \"J158\": \"J158 - Pneumonia bacteriana NE\", \"J181\": \"J181 - Pneumonia lobar NE \",\n",
    " \"J154\": \"J154 - Pneumonia por Streptococus\", \"J153\": \"J153 - Pneumonia por Streptococus\", \"J14\": \"J14 - Pneumonia por Haemophilus infuenzae\",\n",
    " \"J13\": \"J13 - Pneumonia Pneumocócica\"}\n",
    "\n",
    "sih_pneumo2['DIAG_PRINC'] = sih_pneumo2['DIAG_PRINC'].replace(dic_cid)"
   ]
  },
  {
   "cell_type": "markdown",
   "metadata": {},
   "source": [
    "#### 2.2 *Missing values*"
   ]
  },
  {
   "cell_type": "code",
   "execution_count": 10,
   "metadata": {},
   "outputs": [],
   "source": [
    "#EXCLUINDO VARIÁVEIS COM TODOS OS VALORES NULOS, VAZIOS OU ÚNICOS\n",
    "sih_pneumo2.drop(['INFEHOSP', 'UF_ZI', 'NUM_FILHOS', 'INSTRU', 'CID_MORTE', 'DIAG_SECUN'], axis= 1, inplace= True)"
   ]
  },
  {
   "cell_type": "markdown",
   "metadata": {},
   "source": [
    "#### 2.3 *Outliers*"
   ]
  },
  {
   "cell_type": "code",
   "execution_count": 11,
   "metadata": {},
   "outputs": [],
   "source": [
    "#SELECIONANDO VARIÁVEIS QUE PODEM APRESENTAR OUTLIERS\n",
    "sih_box = sih_pneumo2[['IDADE', 'DIAS_PERM']]"
   ]
  },
  {
   "cell_type": "code",
   "execution_count": 12,
   "metadata": {},
   "outputs": [],
   "source": [
    "#TRANSFORMANDO DADOS PARA A MESMA ESCALA\n",
    "scale = StandardScaler()\n",
    "\n",
    "sih_box2 = pd.DataFrame(scale.fit_transform(sih_box))\n",
    "sih_box2.set_axis(['IDADE', 'DIAS_PERM'], axis=1, inplace=True)\n",
    "sih_box2 = pd.DataFrame(sih_box2.stack()).reset_index()\n",
    "sih_box2.drop('level_0', axis = 1, inplace = True)\n",
    "sih_box2.rename(columns = {'level_1':'variables', 0:'standard_value'}, inplace = True)"
   ]
  },
  {
   "cell_type": "code",
   "execution_count": 13,
   "metadata": {},
   "outputs": [
    {
     "data": {
      "text/plain": [
       "[Text(0.5, 0, 'Valores padronizados'),\n",
       " Text(0, 0.5, 'Variáveis'),\n",
       " Text(0.5, 1.0, 'Boxplot dias de permanência e idade padronizados')]"
      ]
     },
     "execution_count": 13,
     "metadata": {},
     "output_type": "execute_result"
    },
    {
     "data": {
      "image/png": "[encoded data removed]",
      "text/plain": [
       "<Figure size 432x288 with 1 Axes>"
      ]
     },
     "metadata": {
      "needs_background": "light"
     },
     "output_type": "display_data"
    }
   ],
   "source": [
    "#GERANDO BOXPLOTS\n",
    "sns.set(rc={'figure.figsize':(14, 10)})\n",
    "sns.set_theme(style=\"whitegrid\", palette=\"rocket\")\n",
    "\n",
    "box = sns.boxplot(y = \"variables\", x = \"standard_value\", data = sih_box2)\n",
    "box.set(xlabel =\"Valores padronizados\", ylabel = \"Variáveis\", title ='Boxplot dias de permanência e idade padronizados')"
   ]
  },
  {
   "cell_type": "code",
   "execution_count": 14,
   "metadata": {},
   "outputs": [],
   "source": [
    "#SELECIONANDO DADOS COM DISTRIBUIÇÃO MAIOR QUE -1.96 E MENOR QUE 1.96\n",
    "sih_box = pd.DataFrame(sih_box.stack()).reset_index()\n",
    "sih_box.drop('level_0', axis = 1, inplace = True)\n",
    "sih_box.rename(columns = {'level_1':'variables_originals', 0:'value'}, inplace = True)\n",
    "\n",
    "sih_box = pd.concat([sih_box.reset_index(drop=True), sih_box2.reset_index(drop=True)], axis=1)\n",
    "sih_box = sih_box[(sih_box['standard_value'] >= -1.96) & (sih_box['standard_value'] <= 1.96)]"
   ]
  },
  {
   "cell_type": "code",
   "execution_count": 15,
   "metadata": {},
   "outputs": [
    {
     "data": {
      "text/plain": [
       "(                     value\n",
       " variables_originals       \n",
       " DIAS_PERM              0.0\n",
       " IDADE                  0.0,\n",
       "                      value\n",
       " variables_originals       \n",
       " DIAS_PERM             22.0\n",
       " IDADE                 99.0)"
      ]
     },
     "execution_count": 15,
     "metadata": {},
     "output_type": "execute_result"
    }
   ],
   "source": [
    "#SELECIONANDO VALORES MÍNIMOS E MÁXIMOS \n",
    "min_values = pd.DataFrame(sih_box.groupby('variables_originals')['value'].min())\n",
    "max_values = pd.DataFrame(sih_box.groupby('variables_originals')['value'].max())\n",
    "\n",
    "min_values, max_values"
   ]
  },
  {
   "cell_type": "code",
   "execution_count": 16,
   "metadata": {},
   "outputs": [],
   "source": [
    "sih_pneumo2 = sih_pneumo2[(sih_pneumo2['DIAS_PERM'] <= max_values.loc['DIAS_PERM', 'value']) & (sih_pneumo2['IDADE'] <= max_values.loc['IDADE', 'value'])]"
   ]
  },
  {
   "cell_type": "code",
   "execution_count": 17,
   "metadata": {},
   "outputs": [
    {
     "data": {
      "text/plain": [
       "[Text(0.5, 0, 'Valores'),\n",
       " Text(0, 0.5, ''),\n",
       " Text(0.5, 1.0, 'Boxplot dias de permanência')]"
      ]
     },
     "execution_count": 17,
     "metadata": {},
     "output_type": "execute_result"
    },
    {
     "data": {
      "image/png": "[encoded data removed]",
      "text/plain": [
       "<Figure size 1008x504 with 1 Axes>"
      ]
     },
     "metadata": {},
     "output_type": "display_data"
    }
   ],
   "source": [
    "#GERANDO BOXPLOT DE DIAS DE PERMANÊNCIA\n",
    "sns.set(rc={'figure.figsize':(14, 7)})\n",
    "sns.set_theme(style=\"whitegrid\", palette=\"rocket\")\n",
    "\n",
    "box1 = sns.boxplot(x = \"DIAS_PERM\", data = sih_pneumo2)\n",
    "box1.set(xlabel =\"Valores\", ylabel = \"\", title ='Boxplot dias de permanência')\n"
   ]
  },
  {
   "cell_type": "code",
   "execution_count": 18,
   "metadata": {},
   "outputs": [
    {
     "data": {
      "text/plain": [
       "[Text(0.5, 20.200000000000003, 'Valores'),\n",
       " Text(20.200000000000003, 0.5, ''),\n",
       " Text(0.5, 1.0, 'Boxplot idade')]"
      ]
     },
     "execution_count": 18,
     "metadata": {},
     "output_type": "execute_result"
    },
    {
     "data": {
      "image/png": "[encoded data removed]",
      "text/plain": [
       "<Figure size 1008x504 with 1 Axes>"
      ]
     },
     "metadata": {},
     "output_type": "display_data"
    }
   ],
   "source": [
    "#GERANDO BOXPLOT DE IDADE\n",
    "sns.set(rc={'figure.figsize':(14, 7)})\n",
    "sns.set_theme(style=\"whitegrid\", palette=\"rocket\")\n",
    "\n",
    "box2 = sns.boxplot(x = \"IDADE\", data = sih_pneumo2)\n",
    "box.set(xlabel =\"Valores\", ylabel = \"\", title ='Boxplot idade')"
   ]
  },
  {
   "cell_type": "markdown",
   "metadata": {},
   "source": [
    "## 3. Análise descritiva "
   ]
  },
  {
   "cell_type": "markdown",
   "metadata": {},
   "source": [
    "#### 3.1 Frequencia das variáveis"
   ]
  },
  {
   "cell_type": "code",
   "execution_count": 19,
   "metadata": {},
   "outputs": [
    {
     "data": {
      "text/plain": [
       "(737004, 705916, 31088)"
      ]
     },
     "execution_count": 19,
     "metadata": {},
     "output_type": "execute_result"
    }
   ],
   "source": [
    "#NÚMERO DE INTERNAÇÕES ANTES E DEPOIS DA PREPARAÇÃO DA BASE\n",
    "len(sih_pneumo), len(sih_pneumo2), (len(sih_pneumo)-len(sih_pneumo2))"
   ]
  },
  {
   "cell_type": "code",
   "execution_count": 29,
   "metadata": {},
   "outputs": [
    {
     "data": {
      "text/html": [
       "<div>\n",
       "<style scoped>\n",
       "    .dataframe tbody tr th:only-of-type {\n",
       "        vertical-align: middle;\n",
       "    }\n",
       "\n",
       "    .dataframe tbody tr th {\n",
       "        vertical-align: top;\n",
       "    }\n",
       "\n",
       "    .dataframe thead th {\n",
       "        text-align: right;\n",
       "    }\n",
       "</style>\n",
       "<table border=\"1\" class=\"dataframe\">\n",
       "  <thead>\n",
       "    <tr style=\"text-align: right;\">\n",
       "      <th></th>\n",
       "      <th>SEXO</th>\n",
       "    </tr>\n",
       "  </thead>\n",
       "  <tbody>\n",
       "    <tr>\n",
       "      <th>1</th>\n",
       "      <td>368843</td>\n",
       "    </tr>\n",
       "    <tr>\n",
       "      <th>3</th>\n",
       "      <td>337073</td>\n",
       "    </tr>\n",
       "  </tbody>\n",
       "</table>\n",
       "</div>"
      ],
      "text/plain": [
       "     SEXO\n",
       "1  368843\n",
       "3  337073"
      ]
     },
     "execution_count": 29,
     "metadata": {},
     "output_type": "execute_result"
    }
   ],
   "source": [
    "#FREQUENCIA DE INTERNAÇÕES POR SEXO\n",
    "dic_sexo = {1:\"Masculino\", 3:\"Feminino\"}\n",
    "sih_pneumo2[\"SEXO\"] = sih_pneumo2[\"SEXO\"].replace(dic_sexo)\n",
    "\n",
    "sexo = pd.DataFrame(sih_pneumo2[\"SEXO\"].value_counts())\n",
    "sexo"
   ]
  },
  {
   "cell_type": "code",
   "execution_count": 20,
   "metadata": {},
   "outputs": [
    {
     "data": {
      "text/html": [
       "<div>\n",
       "<style scoped>\n",
       "    .dataframe tbody tr th:only-of-type {\n",
       "        vertical-align: middle;\n",
       "    }\n",
       "\n",
       "    .dataframe tbody tr th {\n",
       "        vertical-align: top;\n",
       "    }\n",
       "\n",
       "    .dataframe thead th {\n",
       "        text-align: right;\n",
       "    }\n",
       "</style>\n",
       "<table border=\"1\" class=\"dataframe\">\n",
       "  <thead>\n",
       "    <tr style=\"text-align: right;\">\n",
       "      <th>ANO_INT</th>\n",
       "      <th>2017</th>\n",
       "      <th>2018</th>\n",
       "      <th>2019</th>\n",
       "      <th>2020</th>\n",
       "      <th>2021</th>\n",
       "      <th>All</th>\n",
       "    </tr>\n",
       "    <tr>\n",
       "      <th>MORTE</th>\n",
       "      <th></th>\n",
       "      <th></th>\n",
       "      <th></th>\n",
       "      <th></th>\n",
       "      <th></th>\n",
       "      <th></th>\n",
       "    </tr>\n",
       "  </thead>\n",
       "  <tbody>\n",
       "    <tr>\n",
       "      <th>0</th>\n",
       "      <td>141430</td>\n",
       "      <td>149668</td>\n",
       "      <td>156165</td>\n",
       "      <td>81728</td>\n",
       "      <td>104607</td>\n",
       "      <td>633598</td>\n",
       "    </tr>\n",
       "    <tr>\n",
       "      <th>1</th>\n",
       "      <td>13060</td>\n",
       "      <td>14622</td>\n",
       "      <td>16521</td>\n",
       "      <td>12594</td>\n",
       "      <td>15521</td>\n",
       "      <td>72318</td>\n",
       "    </tr>\n",
       "    <tr>\n",
       "      <th>All</th>\n",
       "      <td>154490</td>\n",
       "      <td>164290</td>\n",
       "      <td>172686</td>\n",
       "      <td>94322</td>\n",
       "      <td>120128</td>\n",
       "      <td>705916</td>\n",
       "    </tr>\n",
       "  </tbody>\n",
       "</table>\n",
       "</div>"
      ],
      "text/plain": [
       "ANO_INT    2017    2018    2019   2020    2021     All\n",
       "MORTE                                                 \n",
       "0        141430  149668  156165  81728  104607  633598\n",
       "1         13060   14622   16521  12594   15521   72318\n",
       "All      154490  164290  172686  94322  120128  705916"
      ]
     },
     "execution_count": 20,
     "metadata": {},
     "output_type": "execute_result"
    }
   ],
   "source": [
    "#NÚMERO DE MORTES REGISTRADAS POR ANO\n",
    "mortes_por_ano = pd.DataFrame(pd.crosstab(sih_pneumo2['MORTE'], sih_pneumo2['ANO_INT'], margins=True))\n",
    "mortes_por_ano"
   ]
  },
  {
   "cell_type": "code",
   "execution_count": 21,
   "metadata": {},
   "outputs": [
    {
     "data": {
      "text/html": [
       "<div>\n",
       "<style scoped>\n",
       "    .dataframe tbody tr th:only-of-type {\n",
       "        vertical-align: middle;\n",
       "    }\n",
       "\n",
       "    .dataframe tbody tr th {\n",
       "        vertical-align: top;\n",
       "    }\n",
       "\n",
       "    .dataframe thead th {\n",
       "        text-align: right;\n",
       "    }\n",
       "</style>\n",
       "<table border=\"1\" class=\"dataframe\">\n",
       "  <thead>\n",
       "    <tr style=\"text-align: right;\">\n",
       "      <th>ANO_INT</th>\n",
       "      <th>2017</th>\n",
       "      <th>2018</th>\n",
       "      <th>2019</th>\n",
       "      <th>2020</th>\n",
       "      <th>2021</th>\n",
       "      <th>All</th>\n",
       "    </tr>\n",
       "    <tr>\n",
       "      <th>DIAG_PRINC</th>\n",
       "      <th></th>\n",
       "      <th></th>\n",
       "      <th></th>\n",
       "      <th></th>\n",
       "      <th></th>\n",
       "      <th></th>\n",
       "    </tr>\n",
       "  </thead>\n",
       "  <tbody>\n",
       "    <tr>\n",
       "      <th>J13 - Pneumonia Pneumocócica</th>\n",
       "      <td>2638</td>\n",
       "      <td>2750</td>\n",
       "      <td>2413</td>\n",
       "      <td>1023</td>\n",
       "      <td>926</td>\n",
       "      <td>9750</td>\n",
       "    </tr>\n",
       "    <tr>\n",
       "      <th>J14 - Pneumonia por Haemophilus infuenzae</th>\n",
       "      <td>425</td>\n",
       "      <td>184</td>\n",
       "      <td>173</td>\n",
       "      <td>109</td>\n",
       "      <td>182</td>\n",
       "      <td>1073</td>\n",
       "    </tr>\n",
       "    <tr>\n",
       "      <th>J153 - Pneumonia por Streptococus</th>\n",
       "      <td>419</td>\n",
       "      <td>483</td>\n",
       "      <td>315</td>\n",
       "      <td>149</td>\n",
       "      <td>164</td>\n",
       "      <td>1530</td>\n",
       "    </tr>\n",
       "    <tr>\n",
       "      <th>J154 - Pneumonia por Streptococus</th>\n",
       "      <td>1392</td>\n",
       "      <td>1278</td>\n",
       "      <td>1159</td>\n",
       "      <td>494</td>\n",
       "      <td>526</td>\n",
       "      <td>4849</td>\n",
       "    </tr>\n",
       "    <tr>\n",
       "      <th>J158 - Pneumonia bacteriana NE</th>\n",
       "      <td>56673</td>\n",
       "      <td>57029</td>\n",
       "      <td>56928</td>\n",
       "      <td>30266</td>\n",
       "      <td>38761</td>\n",
       "      <td>239657</td>\n",
       "    </tr>\n",
       "    <tr>\n",
       "      <th>J159 - Pneumonia bacteriana NE</th>\n",
       "      <td>87543</td>\n",
       "      <td>97581</td>\n",
       "      <td>107207</td>\n",
       "      <td>59708</td>\n",
       "      <td>75506</td>\n",
       "      <td>427545</td>\n",
       "    </tr>\n",
       "    <tr>\n",
       "      <th>J181 - Pneumonia lobar NE</th>\n",
       "      <td>5400</td>\n",
       "      <td>4985</td>\n",
       "      <td>4491</td>\n",
       "      <td>2573</td>\n",
       "      <td>4063</td>\n",
       "      <td>21512</td>\n",
       "    </tr>\n",
       "    <tr>\n",
       "      <th>All</th>\n",
       "      <td>154490</td>\n",
       "      <td>164290</td>\n",
       "      <td>172686</td>\n",
       "      <td>94322</td>\n",
       "      <td>120128</td>\n",
       "      <td>705916</td>\n",
       "    </tr>\n",
       "  </tbody>\n",
       "</table>\n",
       "</div>"
      ],
      "text/plain": [
       "ANO_INT                                      2017    2018    2019   2020  \\\n",
       "DIAG_PRINC                                                                 \n",
       "J13 - Pneumonia Pneumocócica                 2638    2750    2413   1023   \n",
       "J14 - Pneumonia por Haemophilus infuenzae     425     184     173    109   \n",
       "J153 - Pneumonia por Streptococus             419     483     315    149   \n",
       "J154 - Pneumonia por Streptococus            1392    1278    1159    494   \n",
       "J158 - Pneumonia bacteriana NE              56673   57029   56928  30266   \n",
       "J159 - Pneumonia bacteriana NE              87543   97581  107207  59708   \n",
       "J181 - Pneumonia lobar NE                    5400    4985    4491   2573   \n",
       "All                                        154490  164290  172686  94322   \n",
       "\n",
       "ANO_INT                                      2021     All  \n",
       "DIAG_PRINC                                                 \n",
       "J13 - Pneumonia Pneumocócica                  926    9750  \n",
       "J14 - Pneumonia por Haemophilus infuenzae     182    1073  \n",
       "J153 - Pneumonia por Streptococus             164    1530  \n",
       "J154 - Pneumonia por Streptococus             526    4849  \n",
       "J158 - Pneumonia bacteriana NE              38761  239657  \n",
       "J159 - Pneumonia bacteriana NE              75506  427545  \n",
       "J181 - Pneumonia lobar NE                    4063   21512  \n",
       "All                                        120128  705916  "
      ]
     },
     "execution_count": 21,
     "metadata": {},
     "output_type": "execute_result"
    }
   ],
   "source": [
    "#CID PRINCIPAL POR ANO\n",
    "cid_por_ano = pd.DataFrame(pd.crosstab(sih_pneumo2['DIAG_PRINC'], sih_pneumo2['ANO_INT'], margins=True))\n",
    "cid_por_ano"
   ]
  },
  {
   "cell_type": "code",
   "execution_count": 22,
   "metadata": {},
   "outputs": [
    {
     "data": {
      "text/html": [
       "<div>\n",
       "<style scoped>\n",
       "    .dataframe tbody tr th:only-of-type {\n",
       "        vertical-align: middle;\n",
       "    }\n",
       "\n",
       "    .dataframe tbody tr th {\n",
       "        vertical-align: top;\n",
       "    }\n",
       "\n",
       "    .dataframe thead th {\n",
       "        text-align: right;\n",
       "    }\n",
       "</style>\n",
       "<table border=\"1\" class=\"dataframe\">\n",
       "  <thead>\n",
       "    <tr style=\"text-align: right;\">\n",
       "      <th>DIAG_PRINC</th>\n",
       "      <th>J13 - Pneumonia Pneumocócica</th>\n",
       "      <th>J14 - Pneumonia por Haemophilus infuenzae</th>\n",
       "      <th>J153 - Pneumonia por Streptococus</th>\n",
       "      <th>J154 - Pneumonia por Streptococus</th>\n",
       "      <th>J158 - Pneumonia bacteriana NE</th>\n",
       "      <th>J159 - Pneumonia bacteriana NE</th>\n",
       "      <th>J181 - Pneumonia lobar NE</th>\n",
       "      <th>All</th>\n",
       "    </tr>\n",
       "    <tr>\n",
       "      <th>MORTE</th>\n",
       "      <th></th>\n",
       "      <th></th>\n",
       "      <th></th>\n",
       "      <th></th>\n",
       "      <th></th>\n",
       "      <th></th>\n",
       "      <th></th>\n",
       "      <th></th>\n",
       "    </tr>\n",
       "  </thead>\n",
       "  <tbody>\n",
       "    <tr>\n",
       "      <th>0</th>\n",
       "      <td>8762</td>\n",
       "      <td>1017</td>\n",
       "      <td>1289</td>\n",
       "      <td>4489</td>\n",
       "      <td>218408</td>\n",
       "      <td>380418</td>\n",
       "      <td>19215</td>\n",
       "      <td>633598</td>\n",
       "    </tr>\n",
       "    <tr>\n",
       "      <th>1</th>\n",
       "      <td>988</td>\n",
       "      <td>56</td>\n",
       "      <td>241</td>\n",
       "      <td>360</td>\n",
       "      <td>21249</td>\n",
       "      <td>47127</td>\n",
       "      <td>2297</td>\n",
       "      <td>72318</td>\n",
       "    </tr>\n",
       "    <tr>\n",
       "      <th>All</th>\n",
       "      <td>9750</td>\n",
       "      <td>1073</td>\n",
       "      <td>1530</td>\n",
       "      <td>4849</td>\n",
       "      <td>239657</td>\n",
       "      <td>427545</td>\n",
       "      <td>21512</td>\n",
       "      <td>705916</td>\n",
       "    </tr>\n",
       "  </tbody>\n",
       "</table>\n",
       "</div>"
      ],
      "text/plain": [
       "DIAG_PRINC  J13 - Pneumonia Pneumocócica  \\\n",
       "MORTE                                      \n",
       "0                                   8762   \n",
       "1                                    988   \n",
       "All                                 9750   \n",
       "\n",
       "DIAG_PRINC  J14 - Pneumonia por Haemophilus infuenzae  \\\n",
       "MORTE                                                   \n",
       "0                                                1017   \n",
       "1                                                  56   \n",
       "All                                              1073   \n",
       "\n",
       "DIAG_PRINC  J153 - Pneumonia por Streptococus  \\\n",
       "MORTE                                           \n",
       "0                                        1289   \n",
       "1                                         241   \n",
       "All                                      1530   \n",
       "\n",
       "DIAG_PRINC  J154 - Pneumonia por Streptococus  J158 - Pneumonia bacteriana NE  \\\n",
       "MORTE                                                                           \n",
       "0                                        4489                          218408   \n",
       "1                                         360                           21249   \n",
       "All                                      4849                          239657   \n",
       "\n",
       "DIAG_PRINC  J159 - Pneumonia bacteriana NE  J181 - Pneumonia lobar NE      All  \n",
       "MORTE                                                                           \n",
       "0                                   380418                       19215  633598  \n",
       "1                                    47127                        2297   72318  \n",
       "All                                 427545                       21512  705916  "
      ]
     },
     "execution_count": 22,
     "metadata": {},
     "output_type": "execute_result"
    }
   ],
   "source": [
    "#MORTALIDADE POR CID\n",
    "mortes_por_cid = pd.DataFrame(pd.crosstab(sih_pneumo2['MORTE'], sih_pneumo2['DIAG_PRINC'], margins=True))\n",
    "mortes_por_cid"
   ]
  },
  {
   "cell_type": "markdown",
   "metadata": {},
   "source": [
    "#### 3.2 Medidas resumo "
   ]
  },
  {
   "cell_type": "markdown",
   "metadata": {},
   "source": [
    "#### 3.3 Calculando taxas"
   ]
  },
  {
   "cell_type": "code",
   "execution_count": 23,
   "metadata": {},
   "outputs": [
    {
     "data": {
      "text/html": [
       "<div>\n",
       "<style scoped>\n",
       "    .dataframe tbody tr th:only-of-type {\n",
       "        vertical-align: middle;\n",
       "    }\n",
       "\n",
       "    .dataframe tbody tr th {\n",
       "        vertical-align: top;\n",
       "    }\n",
       "\n",
       "    .dataframe thead th {\n",
       "        text-align: right;\n",
       "    }\n",
       "</style>\n",
       "<table border=\"1\" class=\"dataframe\">\n",
       "  <thead>\n",
       "    <tr style=\"text-align: right;\">\n",
       "      <th></th>\n",
       "      <th>DIAG_PRINC</th>\n",
       "      <th>LETALIDADE</th>\n",
       "    </tr>\n",
       "  </thead>\n",
       "  <tbody>\n",
       "    <tr>\n",
       "      <th>0</th>\n",
       "      <td>J13 - Pneumonia Pneumocócica</td>\n",
       "      <td>10.13</td>\n",
       "    </tr>\n",
       "    <tr>\n",
       "      <th>1</th>\n",
       "      <td>J14 - Pneumonia por Haemophilus infuenzae</td>\n",
       "      <td>5.22</td>\n",
       "    </tr>\n",
       "    <tr>\n",
       "      <th>2</th>\n",
       "      <td>J153 - Pneumonia por Streptococus</td>\n",
       "      <td>15.75</td>\n",
       "    </tr>\n",
       "    <tr>\n",
       "      <th>3</th>\n",
       "      <td>J154 - Pneumonia por Streptococus</td>\n",
       "      <td>7.42</td>\n",
       "    </tr>\n",
       "    <tr>\n",
       "      <th>4</th>\n",
       "      <td>J158 - Pneumonia bacteriana NE</td>\n",
       "      <td>8.87</td>\n",
       "    </tr>\n",
       "    <tr>\n",
       "      <th>5</th>\n",
       "      <td>J159 - Pneumonia bacteriana NE</td>\n",
       "      <td>11.02</td>\n",
       "    </tr>\n",
       "    <tr>\n",
       "      <th>6</th>\n",
       "      <td>J181 - Pneumonia lobar NE</td>\n",
       "      <td>10.68</td>\n",
       "    </tr>\n",
       "    <tr>\n",
       "      <th>7</th>\n",
       "      <td>All</td>\n",
       "      <td>10.24</td>\n",
       "    </tr>\n",
       "  </tbody>\n",
       "</table>\n",
       "</div>"
      ],
      "text/plain": [
       "                                  DIAG_PRINC  LETALIDADE\n",
       "0               J13 - Pneumonia Pneumocócica       10.13\n",
       "1  J14 - Pneumonia por Haemophilus infuenzae        5.22\n",
       "2          J153 - Pneumonia por Streptococus       15.75\n",
       "3          J154 - Pneumonia por Streptococus        7.42\n",
       "4             J158 - Pneumonia bacteriana NE        8.87\n",
       "5             J159 - Pneumonia bacteriana NE       11.02\n",
       "6                 J181 - Pneumonia lobar NE        10.68\n",
       "7                                        All       10.24"
      ]
     },
     "execution_count": 23,
     "metadata": {},
     "output_type": "execute_result"
    }
   ],
   "source": [
    "#LETALIDADE POR CID\n",
    "mortalidade_por_cid = pd.DataFrame((mortes_por_cid.loc[1,]/cid_por_ano[\"All\"]*100).round(2))\n",
    "mortalidade_por_cid.reset_index(inplace= True)\n",
    "mortalidade_por_cid.rename(columns= {0: \"LETALIDADE\"}, inplace= True)\n",
    "mortalidade_por_cid"
   ]
  },
  {
   "cell_type": "code",
   "execution_count": 24,
   "metadata": {},
   "outputs": [
    {
     "data": {
      "text/plain": [
       "[Text(0.5, 0, 'Taxa de letalidade por internação'),\n",
       " Text(0, 0.5, 'Diagnóstico principal'),\n",
       " Text(0.5, 1.0, 'Letalidade por internações por cid específicapor pneumonia sensível à APS, Brasil, 2017 a 2021')]"
      ]
     },
     "execution_count": 24,
     "metadata": {},
     "output_type": "execute_result"
    },
    {
     "data": {
      "image/png": "[encoded data removed]",
      "text/plain": [
       "<Figure size 1008x720 with 1 Axes>"
      ]
     },
     "metadata": {},
     "output_type": "display_data"
    }
   ],
   "source": [
    "#GRÁFICO DE BARRAS POR CID\n",
    "mortalidade_por_cid2 = mortalidade_por_cid.loc[0:6,]\n",
    "\n",
    "sns.set(rc={'figure.figsize':(14, 10)})\n",
    "sns.set_theme(style=\"whitegrid\", palette=\"rocket\")\n",
    "\n",
    "order = mortalidade_por_cid2.groupby('DIAG_PRINC')['LETALIDADE'].sum().sort_values(ascending=False).index.values\n",
    "\n",
    "bar = sns.barplot(x = \"LETALIDADE\", y = \"DIAG_PRINC\", data = mortalidade_por_cid2, order = order)\n",
    "bar.set(xlabel =\"Taxa de letalidade por internação\", ylabel = \"Diagnóstico principal\", title ='Letalidade por internações por cid específicapor pneumonia sensível à APS, Brasil, 2017 a 2021')"
   ]
  },
  {
   "cell_type": "code",
   "execution_count": 25,
   "metadata": {},
   "outputs": [
    {
     "data": {
      "text/html": [
       "<div>\n",
       "<style scoped>\n",
       "    .dataframe tbody tr th:only-of-type {\n",
       "        vertical-align: middle;\n",
       "    }\n",
       "\n",
       "    .dataframe tbody tr th {\n",
       "        vertical-align: top;\n",
       "    }\n",
       "\n",
       "    .dataframe thead th {\n",
       "        text-align: right;\n",
       "    }\n",
       "</style>\n",
       "<table border=\"1\" class=\"dataframe\">\n",
       "  <thead>\n",
       "    <tr style=\"text-align: right;\">\n",
       "      <th></th>\n",
       "      <th>ANO_INT</th>\n",
       "      <th>LETALIDADE</th>\n",
       "    </tr>\n",
       "  </thead>\n",
       "  <tbody>\n",
       "    <tr>\n",
       "      <th>0</th>\n",
       "      <td>2017</td>\n",
       "      <td>8.45</td>\n",
       "    </tr>\n",
       "    <tr>\n",
       "      <th>1</th>\n",
       "      <td>2018</td>\n",
       "      <td>8.90</td>\n",
       "    </tr>\n",
       "    <tr>\n",
       "      <th>2</th>\n",
       "      <td>2019</td>\n",
       "      <td>9.57</td>\n",
       "    </tr>\n",
       "    <tr>\n",
       "      <th>3</th>\n",
       "      <td>2020</td>\n",
       "      <td>13.35</td>\n",
       "    </tr>\n",
       "    <tr>\n",
       "      <th>4</th>\n",
       "      <td>2021</td>\n",
       "      <td>12.92</td>\n",
       "    </tr>\n",
       "    <tr>\n",
       "      <th>5</th>\n",
       "      <td>All</td>\n",
       "      <td>10.24</td>\n",
       "    </tr>\n",
       "  </tbody>\n",
       "</table>\n",
       "</div>"
      ],
      "text/plain": [
       "  ANO_INT  LETALIDADE\n",
       "0    2017        8.45\n",
       "1    2018        8.90\n",
       "2    2019        9.57\n",
       "3    2020       13.35\n",
       "4    2021       12.92\n",
       "5     All       10.24"
      ]
     },
     "execution_count": 25,
     "metadata": {},
     "output_type": "execute_result"
    }
   ],
   "source": [
    "#LETALIDADE POR INTERNAÇÕES\n",
    "letal_por_ano = pd.DataFrame((mortes_por_ano.loc[1,]/cid_por_ano.loc[\"All\",]*100).round(2))\n",
    "letal_por_ano.reset_index(inplace= True)\n",
    "letal_por_ano.rename(columns= {0: \"LETALIDADE\"}, inplace= True)\n",
    "letal_por_ano"
   ]
  },
  {
   "cell_type": "code",
   "execution_count": 26,
   "metadata": {},
   "outputs": [
    {
     "name": "stderr",
     "output_type": "stream",
     "text": [
      "/tmp/ipykernel_16599/1779464746.py:3: SettingWithCopyWarning: \n",
      "A value is trying to be set on a copy of a slice from a DataFrame.\n",
      "Try using .loc[row_indexer,col_indexer] = value instead\n",
      "\n",
      "See the caveats in the documentation: https://pandas.pydata.org/pandas-docs/stable/user_guide/indexing.html#returning-a-view-versus-a-copy\n",
      "  letal_por_ano2[\"ANO_INT\"] = letal_por_ano2[\"ANO_INT\"].astype(\"int64\")\n"
     ]
    },
    {
     "data": {
      "text/plain": [
       "[[<matplotlib.axis.XTick at 0x7fa576566f70>,\n",
       "  <matplotlib.axis.XTick at 0x7fa576566f40>,\n",
       "  <matplotlib.axis.XTick at 0x7fa57658aee0>,\n",
       "  <matplotlib.axis.XTick at 0x7fa57659c3a0>,\n",
       "  <matplotlib.axis.XTick at 0x7fa5765a3040>],\n",
       " [<matplotlib.axis.YTick at 0x7fa57656beb0>,\n",
       "  <matplotlib.axis.YTick at 0x7fa57656b730>,\n",
       "  <matplotlib.axis.YTick at 0x7fa57856e730>,\n",
       "  <matplotlib.axis.YTick at 0x7fa57856eca0>,\n",
       "  <matplotlib.axis.YTick at 0x7fa578573430>,\n",
       "  <matplotlib.axis.YTick at 0x7fa578573b80>,\n",
       "  <matplotlib.axis.YTick at 0x7fa578573820>,\n",
       "  <matplotlib.axis.YTick at 0x7fa5765666a0>]]"
      ]
     },
     "execution_count": 26,
     "metadata": {},
     "output_type": "execute_result"
    },
    {
     "data": {
      "image/png": "[encoded data removed]",
      "text/plain": [
       "<Figure size 1008x504 with 1 Axes>"
      ]
     },
     "metadata": {},
     "output_type": "display_data"
    }
   ],
   "source": [
    "#GRÁFICO DE LETALIDADE POR ANO\n",
    "letal_por_ano2 = letal_por_ano.loc[0:4,]\n",
    "letal_por_ano2[\"ANO_INT\"] = letal_por_ano2[\"ANO_INT\"].astype(\"int64\")\n",
    "\n",
    "sns.set(rc={'figure.figsize':(14, 7)})\n",
    "sns.set_theme(style=\"whitegrid\", palette=\"rocket\")\n",
    "\n",
    "line = sns.lineplot(x = \"ANO_INT\", y = \"LETALIDADE\", linewidth = 3, marker='o', data = letal_por_ano2)\n",
    "line.set(xlabel =\"Ano de internação\", ylabel = \"Letalidade\", title ='Letalidade por internações por pneumonia sensível à APS, Brasil, 2017 a 2021')\n",
    "line.set(xticks=np.arange(2017,2022,1), yticks=np.arange(0,16,2))"
   ]
  },
  {
   "cell_type": "markdown",
   "metadata": {},
   "source": [
    "#### 3.4 Análise de correlação e associação das variáveis"
   ]
  }
 ],
 "metadata": {
  "kernelspec": {
   "display_name": "Python 3.8.10 64-bit",
   "language": "python",
   "name": "python3"
  },
  "language_info": {
   "codemirror_mode": {
    "name": "ipython",
    "version": 3
   },
   "file_extension": ".py",
   "mimetype": "text/x-python",
   "name": "python",
   "nbconvert_exporter": "python",
   "pygments_lexer": "ipython3",
   "version": "3.8.10"
  },
  "orig_nbformat": 4,
  "vscode": {
   "interpreter": {
    "hash": "916dbcbb3f70747c44a77c7bcd40155683ae19c65e1c03b4aa3499c5328201f1"
   }
  }
 },
 "nbformat": 4,
 "nbformat_minor": 2
}

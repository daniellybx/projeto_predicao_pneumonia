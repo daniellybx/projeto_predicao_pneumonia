{
 "cells": [
  {
   "cell_type": "markdown",
   "metadata": {},
   "source": [
    "# Predição de mortalidade em internações por pneumonias bacterianas sensíveis à Atenção Primária no Brasil, 2017-2021"
   ]
  },
  {
   "cell_type": "markdown",
   "metadata": {},
   "source": [
    "## Análise Exploratória"
   ]
  },
  {
   "cell_type": "markdown",
   "metadata": {},
   "source": [
    "### 1. Importando dados"
   ]
  },
  {
   "cell_type": "code",
   "execution_count": 6,
   "metadata": {},
   "outputs": [],
   "source": [
    "# IMPORTANDO PACOTES \n",
    "import numpy as np\n",
    "import pandas as pd   "
   ]
  },
  {
   "cell_type": "code",
   "execution_count": 7,
   "metadata": {},
   "outputs": [
    {
     "name": "stdout",
     "output_type": "stream",
     "text": [
      "<class 'pandas.core.frame.DataFrame'>\n",
      "RangeIndex: 734686 entries, 0 to 734685\n",
      "Data columns (total 15 columns):\n",
      " #   Column      Non-Null Count   Dtype  \n",
      "---  ------      --------------   -----  \n",
      " 0   MORTE       734686 non-null  int64  \n",
      " 1   CID_MORTE   734686 non-null  int64  \n",
      " 2   DIAG_PRINC  734686 non-null  object \n",
      " 3   DT_INTER    734686 non-null  int64  \n",
      " 4   ANO_CMPT    734686 non-null  int64  \n",
      " 5   MES_CMPT    734686 non-null  int64  \n",
      " 6   DIAG_SECUN  734686 non-null  int64  \n",
      " 7   IDADE       734686 non-null  int64  \n",
      " 8   SEXO        734686 non-null  int64  \n",
      " 9   UF_ZI       734686 non-null  int64  \n",
      " 10  DIAS_PERM   734686 non-null  int64  \n",
      " 11  NUM_FILHOS  734686 non-null  int64  \n",
      " 12  INSTRU      734686 non-null  int64  \n",
      " 13  MARCA_UTI   734686 non-null  int64  \n",
      " 14  INFEHOSP    0 non-null       float64\n",
      "dtypes: float64(1), int64(13), object(1)\n",
      "memory usage: 84.1+ MB\n"
     ]
    }
   ],
   "source": [
    "#IMPORTANDO CSV \n",
    "colunas =  [\"MORTE\", \"CID_MORTE\", \"DIAG_PRINC\", \"DT_INTER\", \"ANO_CMPT\", \"MES_CMPT\", \"DIAG_SECUN\",  \"IDADE\", \"SEXO\", \"UF_ZI\", \"DIAS_PERM\", \"NUM_FILHOS\", \"INSTRU\", \"MARCA_UTI\", \"INFEHOSP\"]\n",
    "\n",
    "sih_pneumo = pd.read_csv(\"sih_pneumonia_1721.csv\")\n",
    "sih_pneumo.set_axis(colunas, axis= 1, inplace= True)\n",
    "sih_pneumo.info()"
   ]
  },
  {
   "cell_type": "markdown",
   "metadata": {},
   "source": [
    "### 2. Preparando os dados"
   ]
  },
  {
   "cell_type": "code",
   "execution_count": 16,
   "metadata": {},
   "outputs": [
    {
     "data": {
      "text/plain": [
       "2019    176947\n",
       "2018    167693\n",
       "2017    157542\n",
       "2020     97332\n",
       "2021     92232\n",
       "2022     36126\n",
       "2016      6814\n",
       "Name: ANO_INT, dtype: int64"
      ]
     },
     "execution_count": 16,
     "metadata": {},
     "output_type": "execute_result"
    }
   ],
   "source": [
    "#VERIFICANDO DATAS DE INTERNAÇÃO\n",
    "sih_pneumo['DT_INTER'] = sih_pneumo['DT_INTER'].astype(\"string\")\n",
    "\n",
    "sih_pneumo['ANO_INT'] = sih_pneumo['DT_INTER'].str.slice(0, 4)\n",
    "sih_pneumo['ANO_INT'] = sih_pneumo['ANO_INT'].astype(int)\n",
    "sih_pneumo['ANO_INT'].value_counts()"
   ]
  },
  {
   "cell_type": "code",
   "execution_count": 17,
   "metadata": {},
   "outputs": [
    {
     "data": {
      "text/plain": [
       "2019    177063\n",
       "2018    166903\n",
       "2017    156266\n",
       "2020    101206\n",
       "2021     88625\n",
       "2022     44623\n",
       "Name: ANO_CMPT, dtype: int64"
      ]
     },
     "execution_count": 17,
     "metadata": {},
     "output_type": "execute_result"
    }
   ],
   "source": [
    "#VERIFICANDO ANO DE COMPETENCIA\n",
    "sih_pneumo['ANO_CMPT'] = sih_pneumo['ANO_CMPT'].astype(int)\n",
    "sih_pneumo['ANO_CMPT'].value_counts()"
   ]
  },
  {
   "cell_type": "code",
   "execution_count": 18,
   "metadata": {},
   "outputs": [
    {
     "data": {
      "text/plain": [
       "2019    176947\n",
       "2018    167693\n",
       "2017    157542\n",
       "2020     97332\n",
       "2021     92232\n",
       "Name: ANO_INT, dtype: int64"
      ]
     },
     "execution_count": 18,
     "metadata": {},
     "output_type": "execute_result"
    }
   ],
   "source": [
    "#FILTRANDO POR ANO DE INTERNAÇÃO´\n",
    "anos = [2017, 2018, 2019, 2020, 2021]\n",
    "sih_pneumo2 = sih_pneumo[sih_pneumo['ANO_INT'].isin(anos)]\n",
    "sih_pneumo2['ANO_INT'].value_counts()"
   ]
  },
  {
   "cell_type": "markdown",
   "metadata": {},
   "source": [
    "#### 2.1 Identificando e classificando os dados"
   ]
  },
  {
   "cell_type": "markdown",
   "metadata": {},
   "source": [
    "#### 2.2 *Missing values*"
   ]
  },
  {
   "cell_type": "code",
   "execution_count": null,
   "metadata": {},
   "outputs": [],
   "source": [
    "#EXCLUINDO VARIÁVEL INFECÇÃO HOSPITALAR - TODOS OS VALORES NULOS\n",
    "sih_pneumo2.drop(['INFEHOSP'], axis= 1, inplace= True)"
   ]
  },
  {
   "cell_type": "markdown",
   "metadata": {},
   "source": [
    "#### 2.3 *Outliers*"
   ]
  },
  {
   "cell_type": "markdown",
   "metadata": {},
   "source": [
    "## 3. Análise descritiva "
   ]
  },
  {
   "cell_type": "markdown",
   "metadata": {},
   "source": [
    "#### 3.1 Medidas resumo "
   ]
  },
  {
   "cell_type": "markdown",
   "metadata": {},
   "source": [
    "#### 3.2 Análise de correlação e associação das variáveis"
   ]
  }
 ],
 "metadata": {
  "kernelspec": {
   "display_name": "Python 3.8.10 64-bit",
   "language": "python",
   "name": "python3"
  },
  "language_info": {
   "codemirror_mode": {
    "name": "ipython",
    "version": 3
   },
   "file_extension": ".py",
   "mimetype": "text/x-python",
   "name": "python",
   "nbconvert_exporter": "python",
   "pygments_lexer": "ipython3",
   "version": "3.8.10"
  },
  "orig_nbformat": 4,
  "vscode": {
   "interpreter": {
    "hash": "916dbcbb3f70747c44a77c7bcd40155683ae19c65e1c03b4aa3499c5328201f1"
   }
  }
 },
 "nbformat": 4,
 "nbformat_minor": 2
}

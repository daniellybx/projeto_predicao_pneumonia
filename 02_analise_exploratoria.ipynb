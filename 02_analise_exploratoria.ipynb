{
 "cells": [
  {
   "cell_type": "markdown",
   "metadata": {},
   "source": [
    "# Predição de mortalidade em internações por pneumonias bacterianas sensíveis à Atenção Primária no Brasil, 2017-2021"
   ]
  },
  {
   "cell_type": "markdown",
   "metadata": {},
   "source": [
    "## Análise Exploratória"
   ]
  },
  {
   "cell_type": "markdown",
   "metadata": {},
   "source": [
    "### 1. Importando dados"
   ]
  },
  {
   "cell_type": "code",
   "execution_count": 40,
   "metadata": {},
   "outputs": [],
   "source": [
    "# IMPORTANDO PACOTES \n",
    "import numpy as np\n",
    "import pandas as pd   "
   ]
  },
  {
   "cell_type": "code",
   "execution_count": 41,
   "metadata": {},
   "outputs": [
    {
     "name": "stdout",
     "output_type": "stream",
     "text": [
      "<class 'pandas.core.frame.DataFrame'>\n",
      "RangeIndex: 734686 entries, 0 to 734685\n",
      "Data columns (total 15 columns):\n",
      " #   Column      Non-Null Count   Dtype  \n",
      "---  ------      --------------   -----  \n",
      " 0   MORTE       734686 non-null  int64  \n",
      " 1   CID_MORTE   734686 non-null  int64  \n",
      " 2   DIAG_PRINC  734686 non-null  object \n",
      " 3   DT_INTER    734686 non-null  int64  \n",
      " 4   ANO_CMPT    734686 non-null  int64  \n",
      " 5   MES_CMPT    734686 non-null  int64  \n",
      " 6   DIAG_SECUN  734686 non-null  int64  \n",
      " 7   IDADE       734686 non-null  int64  \n",
      " 8   SEXO        734686 non-null  int64  \n",
      " 9   UF_ZI       734686 non-null  int64  \n",
      " 10  DIAS_PERM   734686 non-null  int64  \n",
      " 11  NUM_FILHOS  734686 non-null  int64  \n",
      " 12  INSTRU      734686 non-null  int64  \n",
      " 13  MARCA_UTI   734686 non-null  int64  \n",
      " 14  INFEHOSP    0 non-null       float64\n",
      "dtypes: float64(1), int64(13), object(1)\n",
      "memory usage: 84.1+ MB\n"
     ]
    }
   ],
   "source": [
    "#IMPORTANDO CSV \n",
    "colunas =  [\"MORTE\", \"CID_MORTE\", \"DIAG_PRINC\", \"DT_INTER\", \"ANO_CMPT\", \"MES_CMPT\", \"DIAG_SECUN\",  \"IDADE\", \"SEXO\", \"UF_ZI\", \"DIAS_PERM\", \"NUM_FILHOS\", \"INSTRU\", \"MARCA_UTI\", \"INFEHOSP\"]\n",
    "\n",
    "sih_pneumo = pd.read_csv(\"sih_pneumonia_1721.csv\")\n",
    "sih_pneumo.set_axis(colunas, axis= 1, inplace= True)\n",
    "sih_pneumo.info()"
   ]
  },
  {
   "cell_type": "markdown",
   "metadata": {},
   "source": [
    "### 2. Preparando os dados"
   ]
  },
  {
   "cell_type": "code",
   "execution_count": 46,
   "metadata": {},
   "outputs": [
    {
     "data": {
      "text/plain": [
       "0         2017\n",
       "1         2016\n",
       "2         2016\n",
       "3         2017\n",
       "4         2016\n",
       "          ... \n",
       "734681    2022\n",
       "734682    2022\n",
       "734683    2022\n",
       "734684    2022\n",
       "734685    2022\n",
       "Name: DT_INTER, Length: 734686, dtype: string"
      ]
     },
     "execution_count": 46,
     "metadata": {},
     "output_type": "execute_result"
    }
   ],
   "source": [
    "sih_pneumo['DT_INTER'] = sih_pneumo['DT_INTER'].astype(\"string\")\n",
    "sih_pneumo['ANO_INT'] = sih_pneumo['DT_INTER'].str.slice(0, 4)\n",
    "sih_pneumo['ANO_INT'].value_counts()"
   ]
  },
  {
   "cell_type": "code",
   "execution_count": 43,
   "metadata": {},
   "outputs": [
    {
     "ename": "TypeError",
     "evalue": "object of type 'int' has no len()",
     "output_type": "error",
     "traceback": [
      "\u001b[0;31m---------------------------------------------------------------------------\u001b[0m",
      "\u001b[0;31mTypeError\u001b[0m                                 Traceback (most recent call last)",
      "\u001b[1;32m/home/daniellybx/projeto_predicao_pneumonia/02_analise_exploratoria.ipynb Cell 8\u001b[0m in \u001b[0;36m<cell line: 1>\u001b[0;34m()\u001b[0m\n\u001b[0;32m----> <a href='vscode-notebook-cell://wsl%2Bubuntu/home/daniellybx/projeto_predicao_pneumonia/02_analise_exploratoria.ipynb#ch0000014vscode-remote?line=0'>1</a>\u001b[0m sih_pneumo[\u001b[39m'\u001b[39;49m\u001b[39mDT_INTER\u001b[39;49m\u001b[39m'\u001b[39;49m]\u001b[39m.\u001b[39;49mstr\u001b[39m.\u001b[39;49msplit(\u001b[39m0\u001b[39;49m, \u001b[39m3\u001b[39;49m)\n",
      "File \u001b[0;32m~/.local/lib/python3.8/site-packages/pandas/core/strings/accessor.py:125\u001b[0m, in \u001b[0;36mforbid_nonstring_types.<locals>._forbid_nonstring_types.<locals>.wrapper\u001b[0;34m(self, *args, **kwargs)\u001b[0m\n\u001b[1;32m    120\u001b[0m     msg \u001b[39m=\u001b[39m (\n\u001b[1;32m    121\u001b[0m         \u001b[39mf\u001b[39m\u001b[39m\"\u001b[39m\u001b[39mCannot use .str.\u001b[39m\u001b[39m{\u001b[39;00mfunc_name\u001b[39m}\u001b[39;00m\u001b[39m with values of \u001b[39m\u001b[39m\"\u001b[39m\n\u001b[1;32m    122\u001b[0m         \u001b[39mf\u001b[39m\u001b[39m\"\u001b[39m\u001b[39minferred dtype \u001b[39m\u001b[39m'\u001b[39m\u001b[39m{\u001b[39;00m\u001b[39mself\u001b[39m\u001b[39m.\u001b[39m_inferred_dtype\u001b[39m}\u001b[39;00m\u001b[39m'\u001b[39m\u001b[39m.\u001b[39m\u001b[39m\"\u001b[39m\n\u001b[1;32m    123\u001b[0m     )\n\u001b[1;32m    124\u001b[0m     \u001b[39mraise\u001b[39;00m \u001b[39mTypeError\u001b[39;00m(msg)\n\u001b[0;32m--> 125\u001b[0m \u001b[39mreturn\u001b[39;00m func(\u001b[39mself\u001b[39;49m, \u001b[39m*\u001b[39;49margs, \u001b[39m*\u001b[39;49m\u001b[39m*\u001b[39;49mkwargs)\n",
      "File \u001b[0;32m~/.local/lib/python3.8/site-packages/pandas/core/strings/accessor.py:850\u001b[0m, in \u001b[0;36mStringMethods.split\u001b[0;34m(self, pat, n, expand, regex)\u001b[0m\n\u001b[1;32m    848\u001b[0m \u001b[39mif\u001b[39;00m is_re(pat):\n\u001b[1;32m    849\u001b[0m     regex \u001b[39m=\u001b[39m \u001b[39mTrue\u001b[39;00m\n\u001b[0;32m--> 850\u001b[0m result \u001b[39m=\u001b[39m \u001b[39mself\u001b[39;49m\u001b[39m.\u001b[39;49m_data\u001b[39m.\u001b[39;49marray\u001b[39m.\u001b[39;49m_str_split(pat, n, expand, regex)\n\u001b[1;32m    851\u001b[0m \u001b[39mreturn\u001b[39;00m \u001b[39mself\u001b[39m\u001b[39m.\u001b[39m_wrap_result(result, returns_string\u001b[39m=\u001b[39mexpand, expand\u001b[39m=\u001b[39mexpand)\n",
      "File \u001b[0;32m~/.local/lib/python3.8/site-packages/pandas/core/strings/object_array.py:328\u001b[0m, in \u001b[0;36mObjectStringArrayMixin._str_split\u001b[0;34m(self, pat, n, expand, regex)\u001b[0m\n\u001b[1;32m    325\u001b[0m     new_pat \u001b[39m=\u001b[39m pat\n\u001b[1;32m    326\u001b[0m \u001b[39m# regex is None so link to old behavior #43563\u001b[39;00m\n\u001b[1;32m    327\u001b[0m \u001b[39melse\u001b[39;00m:\n\u001b[0;32m--> 328\u001b[0m     \u001b[39mif\u001b[39;00m \u001b[39mlen\u001b[39;49m(pat) \u001b[39m==\u001b[39m \u001b[39m1\u001b[39m:\n\u001b[1;32m    329\u001b[0m         new_pat \u001b[39m=\u001b[39m pat\n\u001b[1;32m    330\u001b[0m     \u001b[39melse\u001b[39;00m:\n",
      "\u001b[0;31mTypeError\u001b[0m: object of type 'int' has no len()"
     ]
    }
   ],
   "source": [
    "sih_pneumo['DT_INTER']\n"
   ]
  },
  {
   "cell_type": "code",
   "execution_count": null,
   "metadata": {},
   "outputs": [],
   "source": [
    "sih_pneumo['ANO_INT'] = sih_pneumo['DT_INTER'].str.split(0, 3)\n",
    "sih_pneumo['ANO_CMPT'].value_counts()"
   ]
  },
  {
   "cell_type": "markdown",
   "metadata": {},
   "source": [
    "#### 2.1 Identificando e classificando os dados"
   ]
  },
  {
   "cell_type": "markdown",
   "metadata": {},
   "source": [
    "#### 2.2 *Missing values*"
   ]
  },
  {
   "cell_type": "markdown",
   "metadata": {},
   "source": [
    "#### 2.3 *Outliers*"
   ]
  },
  {
   "cell_type": "markdown",
   "metadata": {},
   "source": [
    "## 3. Análise descritiva "
   ]
  },
  {
   "cell_type": "markdown",
   "metadata": {},
   "source": [
    "#### 3.1 Medidas resumo "
   ]
  },
  {
   "cell_type": "markdown",
   "metadata": {},
   "source": [
    "#### 3.2 Análise de correlação e associação das variáveis"
   ]
  }
 ],
 "metadata": {
  "kernelspec": {
   "display_name": "Python 3.8.10 64-bit",
   "language": "python",
   "name": "python3"
  },
  "language_info": {
   "codemirror_mode": {
    "name": "ipython",
    "version": 3
   },
   "file_extension": ".py",
   "mimetype": "text/x-python",
   "name": "python",
   "nbconvert_exporter": "python",
   "pygments_lexer": "ipython3",
   "version": "3.8.10"
  },
  "orig_nbformat": 4,
  "vscode": {
   "interpreter": {
    "hash": "916dbcbb3f70747c44a77c7bcd40155683ae19c65e1c03b4aa3499c5328201f1"
   }
  }
 },
 "nbformat": 4,
 "nbformat_minor": 2
}

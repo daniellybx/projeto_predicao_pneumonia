{
 "cells": [
  {
   "cell_type": "markdown",
   "metadata": {},
   "source": [
    "# Predição de mortalidade em internações por pneumonias bacterianas sensíveis à Atenção Primária no Brasil, 2017-2021"
   ]
  },
  {
   "cell_type": "markdown",
   "metadata": {},
   "source": [
    "## Análise Exploratória"
   ]
  },
  {
   "cell_type": "markdown",
   "metadata": {},
   "source": [
    "### 1. Importando dados"
   ]
  },
  {
   "cell_type": "code",
   "execution_count": null,
   "metadata": {},
   "outputs": [],
   "source": [
    "# IMPORTANDO PACOTES \n",
    "import numpy as np\n",
    "import pandas as pd   "
   ]
  },
  {
   "cell_type": "code",
   "execution_count": 11,
   "metadata": {},
   "outputs": [
    {
     "name": "stdout",
     "output_type": "stream",
     "text": [
      "<class 'pandas.core.frame.DataFrame'>\n",
      "RangeIndex: 907311 entries, 0 to 907310\n",
      "Data columns (total 14 columns):\n",
      " #   Column      Non-Null Count   Dtype  \n",
      "---  ------      --------------   -----  \n",
      " 0   MORTE       907311 non-null  int64  \n",
      " 1   CID_MORTE   907311 non-null  int64  \n",
      " 2   DIAG_PRINC  907311 non-null  object \n",
      " 3   ANO_CMPT    907311 non-null  int64  \n",
      " 4   MES_CMPT    907311 non-null  int64  \n",
      " 5   DIAG_SECUN  907311 non-null  int64  \n",
      " 6   IDADE       907311 non-null  int64  \n",
      " 7   SEXO        907311 non-null  int64  \n",
      " 8   UF_ZI       907311 non-null  int64  \n",
      " 9   DIAS_PERM   907311 non-null  int64  \n",
      " 10  NUM_FILHOS  907311 non-null  int64  \n",
      " 11  INSTRU      907311 non-null  int64  \n",
      " 12  MARCA_UTI   907311 non-null  int64  \n",
      " 13  INFEHOSP    0 non-null       float64\n",
      "dtypes: float64(1), int64(12), object(1)\n",
      "memory usage: 96.9+ MB\n"
     ]
    }
   ],
   "source": [
    "#IMPORTANDO CSV \n",
    "colunas = [\"MORTE\", \"CID_MORTE\", \"DIAG_PRINC\", \"ANO_CMPT\", \"MES_CMPT\", \"DIAG_SECUN\",  \"IDADE\", \"SEXO\", \"UF_ZI\", \"DIAS_PERM\", \"NUM_FILHOS\", \"INSTRU\", \"MARCA_UTI\", \"INFEHOSP\"]\n",
    "\n",
    "sih_pneumo = pd.read_csv(\"sih_pneumonia_1721.csv\")\n",
    "sih_pneumo.set_axis(colunas, axis= 1, inplace= True)\n",
    "sih_pneumo.info()"
   ]
  },
  {
   "cell_type": "markdown",
   "metadata": {},
   "source": [
    "### 2. Preparando os dados"
   ]
  },
  {
   "cell_type": "code",
   "execution_count": null,
   "metadata": {},
   "outputs": [],
   "source": [
    "sih_pneumo['ANO_CMPT'].value_counts()"
   ]
  },
  {
   "cell_type": "markdown",
   "metadata": {},
   "source": [
    "#### 2.1 Identificando e classificando os dados"
   ]
  },
  {
   "cell_type": "markdown",
   "metadata": {},
   "source": [
    "#### 2.2 *Missing values*"
   ]
  },
  {
   "cell_type": "markdown",
   "metadata": {},
   "source": [
    "#### 2.3 *Outliers*"
   ]
  },
  {
   "cell_type": "markdown",
   "metadata": {},
   "source": [
    "## 3. Análise descritiva "
   ]
  },
  {
   "cell_type": "markdown",
   "metadata": {},
   "source": [
    "#### 3.1 Medidas resumo "
   ]
  },
  {
   "cell_type": "markdown",
   "metadata": {},
   "source": [
    "#### 3.2 Análise de correlação e associação das variáveis"
   ]
  }
 ],
 "metadata": {
  "kernelspec": {
   "display_name": "Python 3.8.10 64-bit",
   "language": "python",
   "name": "python3"
  },
  "language_info": {
   "codemirror_mode": {
    "name": "ipython",
    "version": 3
   },
   "file_extension": ".py",
   "mimetype": "text/x-python",
   "name": "python",
   "nbconvert_exporter": "python",
   "pygments_lexer": "ipython3",
   "version": "3.8.10"
  },
  "orig_nbformat": 4,
  "vscode": {
   "interpreter": {
    "hash": "916dbcbb3f70747c44a77c7bcd40155683ae19c65e1c03b4aa3499c5328201f1"
   }
  }
 },
 "nbformat": 4,
 "nbformat_minor": 2
}

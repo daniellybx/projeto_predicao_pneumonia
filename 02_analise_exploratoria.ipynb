{
 "cells": [
  {
   "cell_type": "markdown",
   "metadata": {},
   "source": [
    "# Predição de mortalidade em internações por pneumonias bacterianas sensíveis à Atenção Primária no Brasil, 2017-2021"
   ]
  },
  {
   "cell_type": "markdown",
   "metadata": {},
   "source": [
    "## Análise Exploratória"
   ]
  },
  {
   "cell_type": "markdown",
   "metadata": {},
   "source": [
    "### 1. Importando dados"
   ]
  },
  {
   "cell_type": "code",
   "execution_count": 1,
   "metadata": {},
   "outputs": [],
   "source": [
    "# IMPORTANDO PACOTES \n",
    "import numpy as np\n",
    "import pandas as pd   \n",
    "import seaborn as sns\n",
    "\n",
    "from sklearn.preprocessing import StandardScaler"
   ]
  },
  {
   "cell_type": "code",
   "execution_count": 2,
   "metadata": {},
   "outputs": [
    {
     "name": "stdout",
     "output_type": "stream",
     "text": [
      "<class 'pandas.core.frame.DataFrame'>\n",
      "RangeIndex: 690217 entries, 0 to 690216\n",
      "Data columns (total 15 columns):\n",
      " #   Column      Non-Null Count   Dtype  \n",
      "---  ------      --------------   -----  \n",
      " 0   MORTE       690217 non-null  int64  \n",
      " 1   CID_MORTE   690217 non-null  int64  \n",
      " 2   DIAG_PRINC  690217 non-null  object \n",
      " 3   DT_INTER    690217 non-null  int64  \n",
      " 4   ANO_CMPT    690217 non-null  int64  \n",
      " 5   MES_CMPT    690217 non-null  int64  \n",
      " 6   DIAG_SECUN  690217 non-null  int64  \n",
      " 7   IDADE       690217 non-null  int64  \n",
      " 8   SEXO        690217 non-null  int64  \n",
      " 9   UF_ZI       690217 non-null  int64  \n",
      " 10  DIAS_PERM   690217 non-null  int64  \n",
      " 11  NUM_FILHOS  690217 non-null  int64  \n",
      " 12  INSTRU      690217 non-null  int64  \n",
      " 13  MARCA_UTI   690217 non-null  int64  \n",
      " 14  INFEHOSP    0 non-null       float64\n",
      "dtypes: float64(1), int64(13), object(1)\n",
      "memory usage: 79.0+ MB\n"
     ]
    }
   ],
   "source": [
    "#IMPORTANDO DADOS DE INTERNAÇÃO POR PNEUMONIA\n",
    "colunas =  [\"MORTE\", \"CID_MORTE\", \"DIAG_PRINC\", \"DT_INTER\", \"ANO_CMPT\", \"MES_CMPT\", \"DIAG_SECUN\",  \"IDADE\", \"SEXO\", \"UF_ZI\", \"DIAS_PERM\", \"NUM_FILHOS\", \"INSTRU\", \"MARCA_UTI\", \"INFEHOSP\"]\n",
    "\n",
    "sih_pneumo = pd.read_csv(\"sih_pneumonia_1721.csv\")\n",
    "sih_pneumo.set_axis(colunas, axis= 1, inplace= True)\n",
    "sih_pneumo.info()"
   ]
  },
  {
   "cell_type": "code",
   "execution_count": 3,
   "metadata": {},
   "outputs": [
    {
     "name": "stdout",
     "output_type": "stream",
     "text": [
      "<class 'pandas.core.frame.DataFrame'>\n",
      "RangeIndex: 28 entries, 0 to 27\n",
      "Data columns (total 7 columns):\n",
      " #   Column  Non-Null Count  Dtype \n",
      "---  ------  --------------  ----- \n",
      " 0   UF      27 non-null     object\n",
      " 1   2017    28 non-null     int64 \n",
      " 2   2018    28 non-null     int64 \n",
      " 3   2019    28 non-null     int64 \n",
      " 4   2020    28 non-null     int64 \n",
      " 5   2021    28 non-null     int64 \n",
      " 6   2022    28 non-null     int64 \n",
      "dtypes: int64(6), object(1)\n",
      "memory usage: 1.7+ KB\n"
     ]
    }
   ],
   "source": [
    "#IMPORTANDO DADOS DE INTERNAÇÃO POR UF E ANO\n",
    "\n",
    "internacoes_br = pd.read_csv(\"A110224189_28_143_208.csv\", encoding= \"UTF-8\", sep = \";\")\n",
    "internacoes_br.rename(columns = {\"Unidade da Federa��o\":\"UF\"}, inplace= True)\n",
    "internacoes_br[\"UF\"] = internacoes_br[\"UF\"].astype('str').str.extractall('(\\d+)').unstack()\n",
    "internacoes_br = internacoes_br[[\"UF\", \"2017\", \"2018\", \"2019\", \"2020\", \"2021\", \"2022\"]]\n",
    "internacoes_br.info()"
   ]
  },
  {
   "cell_type": "markdown",
   "metadata": {},
   "source": [
    "### 2. Preparando os dados"
   ]
  },
  {
   "cell_type": "code",
   "execution_count": 4,
   "metadata": {},
   "outputs": [
    {
     "data": {
      "text/plain": [
       "2016      6814\n",
       "2017    157542\n",
       "2018    167693\n",
       "2019    176947\n",
       "2020     97332\n",
       "2021     83753\n",
       "2022       136\n",
       "Name: ANO_INT, dtype: int64"
      ]
     },
     "execution_count": 4,
     "metadata": {},
     "output_type": "execute_result"
    }
   ],
   "source": [
    "#VERIFICANDO DATAS DE INTERNAÇÃO\n",
    "sih_pneumo['DT_INTER'] = sih_pneumo['DT_INTER'].astype(\"string\")\n",
    "\n",
    "sih_pneumo['ANO_INT'] = sih_pneumo['DT_INTER'].str.slice(0, 4)\n",
    "sih_pneumo['ANO_INT'] = sih_pneumo['ANO_INT'].astype(int)\n",
    "sih_pneumo['ANO_INT'].value_counts().sort_index()"
   ]
  },
  {
   "cell_type": "code",
   "execution_count": 5,
   "metadata": {},
   "outputs": [
    {
     "data": {
      "text/plain": [
       "2017    156266\n",
       "2018    166903\n",
       "2019    177063\n",
       "2020    101206\n",
       "2021     88625\n",
       "2022       154\n",
       "Name: ANO_CMPT, dtype: int64"
      ]
     },
     "execution_count": 5,
     "metadata": {},
     "output_type": "execute_result"
    }
   ],
   "source": [
    "#VERIFICANDO ANO DE COMPETENCIA\n",
    "sih_pneumo['ANO_CMPT'] = sih_pneumo['ANO_CMPT'].astype(int)\n",
    "sih_pneumo['ANO_CMPT'].value_counts().sort_index()"
   ]
  },
  {
   "cell_type": "code",
   "execution_count": 6,
   "metadata": {},
   "outputs": [
    {
     "data": {
      "text/plain": [
       "2017    157542\n",
       "2018    167693\n",
       "2019    176947\n",
       "2020     97332\n",
       "2021     83753\n",
       "Name: ANO_INT, dtype: int64"
      ]
     },
     "execution_count": 6,
     "metadata": {},
     "output_type": "execute_result"
    }
   ],
   "source": [
    "#FILTRANDO POR ANO DE INTERNAÇÃO´\n",
    "anos = [2017, 2018, 2019, 2020, 2021]\n",
    "sih_pneumo2 = sih_pneumo[sih_pneumo['ANO_INT'].isin(anos)]\n",
    "sih_pneumo2['ANO_INT'].value_counts().sort_index()"
   ]
  },
  {
   "cell_type": "markdown",
   "metadata": {},
   "source": [
    "#### 2.1 Identificando e classificando os dados"
   ]
  },
  {
   "cell_type": "code",
   "execution_count": 7,
   "metadata": {},
   "outputs": [
    {
     "name": "stdout",
     "output_type": "stream",
     "text": [
      "<class 'pandas.core.frame.DataFrame'>\n",
      "Int64Index: 683267 entries, 0 to 690153\n",
      "Data columns (total 16 columns):\n",
      " #   Column      Non-Null Count   Dtype  \n",
      "---  ------      --------------   -----  \n",
      " 0   MORTE       683267 non-null  int64  \n",
      " 1   CID_MORTE   683267 non-null  int64  \n",
      " 2   DIAG_PRINC  683267 non-null  object \n",
      " 3   DT_INTER    683267 non-null  string \n",
      " 4   ANO_CMPT    683267 non-null  int64  \n",
      " 5   MES_CMPT    683267 non-null  int64  \n",
      " 6   DIAG_SECUN  683267 non-null  int64  \n",
      " 7   IDADE       683267 non-null  int64  \n",
      " 8   SEXO        683267 non-null  int64  \n",
      " 9   UF_ZI       683267 non-null  int64  \n",
      " 10  DIAS_PERM   683267 non-null  int64  \n",
      " 11  NUM_FILHOS  683267 non-null  int64  \n",
      " 12  INSTRU      683267 non-null  int64  \n",
      " 13  MARCA_UTI   683267 non-null  int64  \n",
      " 14  INFEHOSP    0 non-null       float64\n",
      " 15  ANO_INT     683267 non-null  int64  \n",
      "dtypes: float64(1), int64(13), object(1), string(1)\n",
      "memory usage: 88.6+ MB\n"
     ]
    }
   ],
   "source": [
    "#IDENTIFICANDO OS DADOS\n",
    "sih_pneumo2.info()"
   ]
  },
  {
   "cell_type": "code",
   "execution_count": 8,
   "metadata": {},
   "outputs": [
    {
     "name": "stderr",
     "output_type": "stream",
     "text": [
      "/tmp/ipykernel_10540/2687260563.py:2: SettingWithCopyWarning: \n",
      "A value is trying to be set on a copy of a slice from a DataFrame.\n",
      "Try using .loc[row_indexer,col_indexer] = value instead\n",
      "\n",
      "See the caveats in the documentation: https://pandas.pydata.org/pandas-docs/stable/user_guide/indexing.html#returning-a-view-versus-a-copy\n",
      "  sih_pneumo2['CID_MORTE'] = sih_pneumo2['CID_MORTE'].astype(str)\n",
      "/tmp/ipykernel_10540/2687260563.py:3: SettingWithCopyWarning: \n",
      "A value is trying to be set on a copy of a slice from a DataFrame.\n",
      "Try using .loc[row_indexer,col_indexer] = value instead\n",
      "\n",
      "See the caveats in the documentation: https://pandas.pydata.org/pandas-docs/stable/user_guide/indexing.html#returning-a-view-versus-a-copy\n",
      "  sih_pneumo2['DIAG_PRINC'] = sih_pneumo2['DIAG_PRINC'].astype(str)\n",
      "/tmp/ipykernel_10540/2687260563.py:4: SettingWithCopyWarning: \n",
      "A value is trying to be set on a copy of a slice from a DataFrame.\n",
      "Try using .loc[row_indexer,col_indexer] = value instead\n",
      "\n",
      "See the caveats in the documentation: https://pandas.pydata.org/pandas-docs/stable/user_guide/indexing.html#returning-a-view-versus-a-copy\n",
      "  sih_pneumo2['DIAG_SECUN'] = sih_pneumo2['DIAG_SECUN'].astype(str)\n",
      "/tmp/ipykernel_10540/2687260563.py:5: SettingWithCopyWarning: \n",
      "A value is trying to be set on a copy of a slice from a DataFrame.\n",
      "Try using .loc[row_indexer,col_indexer] = value instead\n",
      "\n",
      "See the caveats in the documentation: https://pandas.pydata.org/pandas-docs/stable/user_guide/indexing.html#returning-a-view-versus-a-copy\n",
      "  sih_pneumo2['UF_ZI'] = sih_pneumo2['UF_ZI'].astype(str)\n",
      "/tmp/ipykernel_10540/2687260563.py:6: SettingWithCopyWarning: \n",
      "A value is trying to be set on a copy of a slice from a DataFrame.\n",
      "Try using .loc[row_indexer,col_indexer] = value instead\n",
      "\n",
      "See the caveats in the documentation: https://pandas.pydata.org/pandas-docs/stable/user_guide/indexing.html#returning-a-view-versus-a-copy\n",
      "  sih_pneumo2['UF'] = sih_pneumo2['UF_ZI'].str.slice(0, 2)\n",
      "/tmp/ipykernel_10540/2687260563.py:7: SettingWithCopyWarning: \n",
      "A value is trying to be set on a copy of a slice from a DataFrame.\n",
      "Try using .loc[row_indexer,col_indexer] = value instead\n",
      "\n",
      "See the caveats in the documentation: https://pandas.pydata.org/pandas-docs/stable/user_guide/indexing.html#returning-a-view-versus-a-copy\n",
      "  sih_pneumo2['IDADE'] = sih_pneumo2['IDADE'].astype(\"float64\")\n",
      "/tmp/ipykernel_10540/2687260563.py:8: SettingWithCopyWarning: \n",
      "A value is trying to be set on a copy of a slice from a DataFrame.\n",
      "Try using .loc[row_indexer,col_indexer] = value instead\n",
      "\n",
      "See the caveats in the documentation: https://pandas.pydata.org/pandas-docs/stable/user_guide/indexing.html#returning-a-view-versus-a-copy\n",
      "  sih_pneumo2['DT_INTER'] = pd.to_datetime(sih_pneumo2['DT_INTER'])\n"
     ]
    },
    {
     "name": "stdout",
     "output_type": "stream",
     "text": [
      "<class 'pandas.core.frame.DataFrame'>\n",
      "Int64Index: 683267 entries, 0 to 690153\n",
      "Data columns (total 17 columns):\n",
      " #   Column      Non-Null Count   Dtype         \n",
      "---  ------      --------------   -----         \n",
      " 0   MORTE       683267 non-null  int64         \n",
      " 1   CID_MORTE   683267 non-null  object        \n",
      " 2   DIAG_PRINC  683267 non-null  object        \n",
      " 3   DT_INTER    683267 non-null  datetime64[ns]\n",
      " 4   ANO_CMPT    683267 non-null  int64         \n",
      " 5   MES_CMPT    683267 non-null  int64         \n",
      " 6   DIAG_SECUN  683267 non-null  object        \n",
      " 7   IDADE       683267 non-null  float64       \n",
      " 8   SEXO        683267 non-null  int64         \n",
      " 9   UF_ZI       683267 non-null  object        \n",
      " 10  DIAS_PERM   683267 non-null  int64         \n",
      " 11  NUM_FILHOS  683267 non-null  int64         \n",
      " 12  INSTRU      683267 non-null  int64         \n",
      " 13  MARCA_UTI   683267 non-null  int64         \n",
      " 14  INFEHOSP    0 non-null       float64       \n",
      " 15  ANO_INT     683267 non-null  int64         \n",
      " 16  UF          683267 non-null  object        \n",
      "dtypes: datetime64[ns](1), float64(2), int64(9), object(5)\n",
      "memory usage: 93.8+ MB\n"
     ]
    }
   ],
   "source": [
    "#AJUSTANDO OS DADOS SEGUNDO O TIPO\n",
    "sih_pneumo2['CID_MORTE'] = sih_pneumo2['CID_MORTE'].astype(str)\n",
    "sih_pneumo2['DIAG_PRINC'] = sih_pneumo2['DIAG_PRINC'].astype(str)\n",
    "sih_pneumo2['DIAG_SECUN'] = sih_pneumo2['DIAG_SECUN'].astype(str)\n",
    "sih_pneumo2['UF_ZI'] = sih_pneumo2['UF_ZI'].astype(str)\n",
    "sih_pneumo2['UF'] = sih_pneumo2['UF_ZI'].str.slice(0, 2)\n",
    "sih_pneumo2['IDADE'] = sih_pneumo2['IDADE'].astype(\"float64\")\n",
    "sih_pneumo2['DT_INTER'] = pd.to_datetime(sih_pneumo2['DT_INTER'])\n",
    "\n",
    "sih_pneumo2.info()"
   ]
  },
  {
   "cell_type": "markdown",
   "metadata": {},
   "source": [
    "#### 2.2 *Missing values*"
   ]
  },
  {
   "cell_type": "code",
   "execution_count": 9,
   "metadata": {},
   "outputs": [
    {
     "name": "stderr",
     "output_type": "stream",
     "text": [
      "/tmp/ipykernel_10540/380722950.py:2: SettingWithCopyWarning: \n",
      "A value is trying to be set on a copy of a slice from a DataFrame\n",
      "\n",
      "See the caveats in the documentation: https://pandas.pydata.org/pandas-docs/stable/user_guide/indexing.html#returning-a-view-versus-a-copy\n",
      "  sih_pneumo2.drop(['INFEHOSP', 'UF_ZI', 'NUM_FILHOS', 'INSTRU'], axis= 1, inplace= True)\n"
     ]
    }
   ],
   "source": [
    "#EXCLUINDO VARIÁVEL INFECÇÃO HOSPITALAR - TODOS OS VALORES NULOS\n",
    "sih_pneumo2.drop(['INFEHOSP', 'UF_ZI', 'NUM_FILHOS', 'INSTRU'], axis= 1, inplace= True)"
   ]
  },
  {
   "cell_type": "markdown",
   "metadata": {},
   "source": [
    "#### 2.3 *Outliers*"
   ]
  },
  {
   "cell_type": "code",
   "execution_count": 10,
   "metadata": {},
   "outputs": [],
   "source": [
    "#SELECIONANDO VARIÁVEIS QUE PODEM APRESENTAR OUTLIERS\n",
    "sih_box = sih_pneumo2[['IDADE', 'DIAS_PERM']]"
   ]
  },
  {
   "cell_type": "code",
   "execution_count": 11,
   "metadata": {},
   "outputs": [],
   "source": [
    "#TRANSFORMANDO DADOS PARA A MESMA ESCALA\n",
    "scale = StandardScaler()\n",
    "\n",
    "sih_box2 = pd.DataFrame(scale.fit_transform(sih_box))\n",
    "sih_box2.set_axis(['IDADE', 'DIAS_PERM'], axis=1, inplace=True)\n",
    "sih_box2 = pd.DataFrame(sih_box2.stack()).reset_index()\n",
    "sih_box2.drop('level_0', axis = 1, inplace = True)\n",
    "sih_box2.rename(columns = {'level_1':'variables', 0:'standard_value'}, inplace = True)"
   ]
  },
  {
   "cell_type": "code",
   "execution_count": 12,
   "metadata": {},
   "outputs": [
    {
     "data": {
      "text/plain": [
       "<AxesSubplot:xlabel='variables', ylabel='standard_value'>"
      ]
     },
     "execution_count": 12,
     "metadata": {},
     "output_type": "execute_result"
    },
    {
     "data": {
      "image/png": "[encoded data removed]",
      "text/plain": [
       "<Figure size 432x288 with 1 Axes>"
      ]
     },
     "metadata": {
      "needs_background": "light"
     },
     "output_type": "display_data"
    }
   ],
   "source": [
    "#GERANDO BOXPLOTS\n",
    "sns.set(rc={'figure.figsize':(15, 11)})\n",
    "\n",
    "box = sns.boxplot(x = \"variables\", y = \"standard_value\", data = sih_box2)\n",
    "box"
   ]
  },
  {
   "cell_type": "code",
   "execution_count": 13,
   "metadata": {},
   "outputs": [],
   "source": [
    "#SELECIONANDO DADOS COM DISTRIBUIÇÃO MAIOR QUE -1.96 E MENOR QUE 1.96\n",
    "sih_box = pd.DataFrame(sih_box.stack()).reset_index()\n",
    "sih_box.drop('level_0', axis = 1, inplace = True)\n",
    "sih_box.rename(columns = {'level_1':'variables_originals', 0:'value'}, inplace = True)\n",
    "\n",
    "sih_box = pd.concat([sih_box.reset_index(drop=True), sih_box2.reset_index(drop=True)], axis=1)\n",
    "sih_box = sih_box[(sih_box['standard_value'] >= -1.96) & (sih_box['standard_value'] <= 1.96)]"
   ]
  },
  {
   "cell_type": "code",
   "execution_count": 22,
   "metadata": {},
   "outputs": [
    {
     "data": {
      "text/plain": [
       "(                     value\n",
       " variables_originals       \n",
       " DIAS_PERM              0.0\n",
       " IDADE                  0.0,\n",
       "                      value\n",
       " variables_originals       \n",
       " DIAS_PERM             21.0\n",
       " IDADE                 99.0)"
      ]
     },
     "execution_count": 22,
     "metadata": {},
     "output_type": "execute_result"
    }
   ],
   "source": [
    "#SELECIONANDO VALORES MÍNIMOS E MÁXIMOS \n",
    "min_values = pd.DataFrame(sih_box.groupby('variables_originals')['value'].min())\n",
    "max_values = pd.DataFrame(sih_box.groupby('variables_originals')['value'].max())\n",
    "\n",
    "min_values, max_values"
   ]
  },
  {
   "cell_type": "code",
   "execution_count": 23,
   "metadata": {},
   "outputs": [],
   "source": [
    "sih_pneumo2 = sih_pneumo2[(sih_pneumo2['DIAS_PERM'] >= max_values.loc['DIAS_PERM', 'value']) & (sih_pneumo2['IDADE'] >= max_values.loc['IDADE', 'value'])]"
   ]
  },
  {
   "cell_type": "markdown",
   "metadata": {},
   "source": [
    "## 3. Análise descritiva "
   ]
  },
  {
   "cell_type": "markdown",
   "metadata": {},
   "source": [
    "#### 3.1 Medidas resumo "
   ]
  },
  {
   "cell_type": "markdown",
   "metadata": {},
   "source": [
    "#### 3.2 Medidas resumo "
   ]
  },
  {
   "cell_type": "markdown",
   "metadata": {},
   "source": [
    "#### 3.3 Calculando taxa de internação"
   ]
  },
  {
   "cell_type": "markdown",
   "metadata": {},
   "source": [
    "#### 3.4 Análise de correlação e associação das variáveis"
   ]
  }
 ],
 "metadata": {
  "kernelspec": {
   "display_name": "Python 3.8.10 64-bit",
   "language": "python",
   "name": "python3"
  },
  "language_info": {
   "codemirror_mode": {
    "name": "ipython",
    "version": 3
   },
   "file_extension": ".py",
   "mimetype": "text/x-python",
   "name": "python",
   "nbconvert_exporter": "python",
   "pygments_lexer": "ipython3",
   "version": "3.8.10"
  },
  "orig_nbformat": 4,
  "vscode": {
   "interpreter": {
    "hash": "916dbcbb3f70747c44a77c7bcd40155683ae19c65e1c03b4aa3499c5328201f1"
   }
  }
 },
 "nbformat": 4,
 "nbformat_minor": 2
}

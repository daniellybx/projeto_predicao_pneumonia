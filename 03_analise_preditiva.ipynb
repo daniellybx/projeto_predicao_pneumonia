{
 "cells": [
  {
   "cell_type": "markdown",
   "metadata": {},
   "source": [
    "# Predição de mortalidade em internações por pneumonias bacterianas sensíveis à Atenção Primária no Brasil, 2017-2021"
   ]
  },
  {
   "cell_type": "markdown",
   "metadata": {},
   "source": [
    "## Análise preditiva"
   ]
  },
  {
   "cell_type": "markdown",
   "metadata": {},
   "source": [
    "### 1. Importando pacotes de análise"
   ]
  },
  {
   "cell_type": "code",
   "execution_count": 87,
   "metadata": {},
   "outputs": [],
   "source": [
    "# IMPORTANDO PACOTES \n",
    "import matplotlib.pyplot as plt\n",
    "import matplotlib.ticker as ticker\n",
    "import numpy as np\n",
    "import pandas as pd  \n",
    "import chart_studio.plotly as py\n",
    "import plotly.graph_objs as gp \n",
    "import seaborn as sns\n",
    "import statsmodels.formula.api as smf\n",
    "\n",
    "from sklearn.model_selection import train_test_split"
   ]
  },
  {
   "cell_type": "markdown",
   "metadata": {},
   "source": [
    "### 2. Importando dados"
   ]
  },
  {
   "cell_type": "code",
   "execution_count": 88,
   "metadata": {},
   "outputs": [
    {
     "name": "stdout",
     "output_type": "stream",
     "text": [
      "<class 'pandas.core.frame.DataFrame'>\n",
      "Int64Index: 658719 entries, 1217100049066 to 1721101761060\n",
      "Data columns (total 8 columns):\n",
      " #   Column      Non-Null Count   Dtype  \n",
      "---  ------      --------------   -----  \n",
      " 0   IDADE       658719 non-null  float64\n",
      " 1   SEXO        658719 non-null  int64  \n",
      " 2   MORTE       658719 non-null  int64  \n",
      " 3   DIAS_PERM   658719 non-null  int64  \n",
      " 4   DIAG_PRINC  658719 non-null  int64  \n",
      " 5   MARCA_UTI   658719 non-null  int64  \n",
      " 6   UTI_MES_TO  658719 non-null  int64  \n",
      " 7   REGIAO      658719 non-null  int64  \n",
      "dtypes: float64(1), int64(7)\n",
      "memory usage: 45.2 MB\n"
     ]
    }
   ],
   "source": [
    "#IMPOTANDO DADOS\n",
    "sih_fn = pd.read_csv(\"sih_pneumonia_1721_trat.csv\", index_col= 'N_AIH')\n",
    "sih_fn.info()"
   ]
  },
  {
   "cell_type": "markdown",
   "metadata": {},
   "source": [
    "### 3. Definindo teste e treino"
   ]
  },
  {
   "cell_type": "code",
   "execution_count": 89,
   "metadata": {},
   "outputs": [],
   "source": [
    "#SEPARANDO OS DADOS\n",
    "train, test = train_test_split(sih_fn, train_size=0.70, random_state=42)"
   ]
  },
  {
   "cell_type": "markdown",
   "metadata": {},
   "source": [
    "### 4. Testando algoritmos de classificação"
   ]
  },
  {
   "cell_type": "markdown",
   "metadata": {},
   "source": [
    "#### 4.1 Regressão Logística"
   ]
  },
  {
   "cell_type": "code",
   "execution_count": 90,
   "metadata": {},
   "outputs": [
    {
     "name": "stdout",
     "output_type": "stream",
     "text": [
      "Optimization terminated successfully.\n",
      "         Current function value: 0.257790\n",
      "         Iterations 8\n",
      "                           Logit Regression Results                           \n",
      "==============================================================================\n",
      "Dep. Variable:                  MORTE   No. Observations:               461103\n",
      "Model:                          Logit   Df Residuals:                   461095\n",
      "Method:                           MLE   Df Model:                            7\n",
      "Date:                Sun, 18 Sep 2022   Pseudo R-squ.:                  0.1776\n",
      "Time:                        10:47:10   Log-Likelihood:            -1.1887e+05\n",
      "converged:                       True   LL-Null:                   -1.4453e+05\n",
      "Covariance Type:            nonrobust   LLR p-value:                     0.000\n",
      "==============================================================================\n",
      "                 coef    std err          z      P>|z|      [0.025      0.975]\n",
      "------------------------------------------------------------------------------\n",
      "Intercept     -4.8624      0.022   -219.278      0.000      -4.906      -4.819\n",
      "IDADE          0.0403      0.000    160.325      0.000       0.040       0.041\n",
      "SEXO           0.1254      0.011     11.621      0.000       0.104       0.147\n",
      "DIAS_PERM     -0.0140      0.001    -10.698      0.000      -0.017      -0.011\n",
      "DIAG_PRINC     0.0883      0.011      7.818      0.000       0.066       0.110\n",
      "MARCA_UTI      2.0138      0.036     55.570      0.000       1.943       2.085\n",
      "UTI_MES_TO    -0.0676      0.009     -7.672      0.000      -0.085      -0.050\n",
      "REGIAO         0.1220      0.011     11.203      0.000       0.101       0.143\n",
      "==============================================================================\n"
     ]
    }
   ],
   "source": [
    "log_reg = smf.logit(\"MORTE ~ IDADE + SEXO + DIAS_PERM + DIAG_PRINC + MARCA_UTI + UTI_MES_TO + REGIAO\", data = train).fit()\n",
    "print(log_reg.summary())"
   ]
  }
 ],
 "metadata": {
  "kernelspec": {
   "display_name": "Python 3.8.10 64-bit",
   "language": "python",
   "name": "python3"
  },
  "language_info": {
   "codemirror_mode": {
    "name": "ipython",
    "version": 3
   },
   "file_extension": ".py",
   "mimetype": "text/x-python",
   "name": "python",
   "nbconvert_exporter": "python",
   "pygments_lexer": "ipython3",
   "version": "3.8.10"
  },
  "orig_nbformat": 4,
  "vscode": {
   "interpreter": {
    "hash": "916dbcbb3f70747c44a77c7bcd40155683ae19c65e1c03b4aa3499c5328201f1"
   }
  }
 },
 "nbformat": 4,
 "nbformat_minor": 2
}

{
 "cells": [
  {
   "cell_type": "markdown",
   "metadata": {},
   "source": [
    "# Predição de mortalidade em internações por pneumonias bacterianas sensíveis à Atenção Primária no Brasil, 2017-2021"
   ]
  },
  {
   "cell_type": "markdown",
   "metadata": {},
   "source": [
    "## Análise Exploratória"
   ]
  },
  {
   "cell_type": "markdown",
   "metadata": {},
   "source": [
    "### 1. Importando dados"
   ]
  },
  {
   "cell_type": "code",
   "execution_count": 184,
   "metadata": {},
   "outputs": [],
   "source": [
    "# IMPORTANDO PACOTES \n",
    "import matplotlib.pyplot as plt\n",
    "import matplotlib.ticker as ticker\n",
    "import numpy as np\n",
    "import pandas as pd  \n",
    "import chart_studio.plotly as py\n",
    "import plotly.graph_objs as gp \n",
    "import rpy2.robjects as robjects\n",
    "import seaborn as sns\n",
    "\n",
    "from scipy.stats import chi2, chi2_contingency, iqr, pearsonr\n",
    "from sklearn.preprocessing import StandardScaler"
   ]
  },
  {
   "cell_type": "code",
   "execution_count": 127,
   "metadata": {},
   "outputs": [
    {
     "name": "stdout",
     "output_type": "stream",
     "text": [
      "<class 'pandas.core.frame.DataFrame'>\n",
      "RangeIndex: 734183 entries, 0 to 734182\n",
      "Data columns (total 17 columns):\n",
      " #   Column      Non-Null Count   Dtype  \n",
      "---  ------      --------------   -----  \n",
      " 0   N_AIH       734183 non-null  int64  \n",
      " 1   IDADE       734183 non-null  int64  \n",
      " 2   SEXO        734183 non-null  int64  \n",
      " 3   UF_ZI       734183 non-null  int64  \n",
      " 4   NUM_FILHOS  734183 non-null  int64  \n",
      " 5   INSTRU      734183 non-null  int64  \n",
      " 6   MORTE       734183 non-null  int64  \n",
      " 7   CID_MORTE   734183 non-null  int64  \n",
      " 8   DIAS_PERM   734183 non-null  int64  \n",
      " 9   DIAG_PRINC  734183 non-null  object \n",
      " 10  DIAG_SECUN  734183 non-null  int64  \n",
      " 11  DT_INTER    734183 non-null  int64  \n",
      " 12  ANO_CMPT    734183 non-null  int64  \n",
      " 13  MES_CMPT    734183 non-null  int64  \n",
      " 14  MARCA_UTI   734183 non-null  int64  \n",
      " 15  UTI_MES_TO  734183 non-null  int64  \n",
      " 16  INFEHOSP    0 non-null       float64\n",
      "dtypes: float64(1), int64(15), object(1)\n",
      "memory usage: 95.2+ MB\n"
     ]
    }
   ],
   "source": [
    "#IMPORTANDO DADOS DE INTERNAÇÃO POR PNEUMONIA\n",
    "colunas =  [ \"N_AIH\",\"IDADE\",\"SEXO\",\"UF_ZI\",\"NUM_FILHOS\",\"INSTRU\",\"MORTE\",\"CID_MORTE\",\"DIAS_PERM\",\"DIAG_PRINC\",\"DIAG_SECUN\",\"DT_INTER\",\"ANO_CMPT\",\"MES_CMPT\",\"MARCA_UTI\",\"UTI_MES_TO\",\"INFEHOSP\"]\n",
    "\n",
    "sih_pneumo = pd.read_csv(\"sih_pneumonia_1721.csv\")\n",
    "sih_pneumo.set_axis(colunas, axis= 1, inplace= True)\n",
    "sih_pneumo.info()"
   ]
  },
  {
   "cell_type": "code",
   "execution_count": 128,
   "metadata": {},
   "outputs": [],
   "source": [
    "#CRIANDO DICIONÁRIO DE REGIÃO\n",
    "regiao = {\"1\":\"Norte\", \"2\":\"Nordeste\", \"3\":\"Sudeste\", \"4\":\"Sul\", \"5\":\"Centro-Oeste\"}"
   ]
  },
  {
   "cell_type": "code",
   "execution_count": 129,
   "metadata": {},
   "outputs": [
    {
     "name": "stdout",
     "output_type": "stream",
     "text": [
      "<class 'pandas.core.frame.DataFrame'>\n",
      "RangeIndex: 27 entries, 0 to 26\n",
      "Data columns (total 7 columns):\n",
      " #   Column  Non-Null Count  Dtype \n",
      "---  ------  --------------  ----- \n",
      " 0   UF      27 non-null     object\n",
      " 1   2017    27 non-null     int64 \n",
      " 2   2018    27 non-null     int64 \n",
      " 3   2019    27 non-null     int64 \n",
      " 4   2020    27 non-null     int64 \n",
      " 5   2021    27 non-null     int64 \n",
      " 6   REGIAO  27 non-null     object\n",
      "dtypes: int64(5), object(2)\n",
      "memory usage: 1.6+ KB\n"
     ]
    }
   ],
   "source": [
    "#IMPORTANDO DADOS DE INTERNAÇÃO POR UF E ANO\n",
    "internacoes_br = pd.read_csv(\"A110224189_28_143_208.csv\", encoding= \"UTF-8\", sep = \";\")\n",
    "internacoes_br.rename(columns = {\"Unidade da Federa��o\":\"UF\"}, inplace= True)\n",
    "internacoes_br[\"UF\"] = internacoes_br[\"UF\"].astype('str').str.extractall('(\\d+)').unstack()\n",
    "internacoes_br = internacoes_br[[\"UF\", \"2017\", \"2018\", \"2019\", \"2020\", \"2021\", \"2022\"]]\n",
    "internacoes_br.drop([\"2022\"], axis = 1, inplace= True)\n",
    "internacoes_br[\"REGIAO\"] = internacoes_br[\"UF\"].str.slice(0,1)\n",
    "internacoes_br[\"REGIAO\"] = internacoes_br[\"REGIAO\"].replace(regiao)\n",
    "internacoes_br = internacoes_br.drop(27, axis= 0)\n",
    "internacoes_br.info()"
   ]
  },
  {
   "cell_type": "markdown",
   "metadata": {},
   "source": [
    "### 2. Preparando os dados"
   ]
  },
  {
   "cell_type": "code",
   "execution_count": 130,
   "metadata": {},
   "outputs": [
    {
     "data": {
      "text/plain": [
       "2016      6966\n",
       "2017    160694\n",
       "2018    170708\n",
       "2019    179618\n",
       "2020     98501\n",
       "2021     92934\n",
       "2022     24762\n",
       "Name: ANO_INT, dtype: int64"
      ]
     },
     "execution_count": 130,
     "metadata": {},
     "output_type": "execute_result"
    }
   ],
   "source": [
    "#VERIFICANDO DATAS DE INTERNAÇÃO\n",
    "sih_pneumo['DT_INTER'] = sih_pneumo['DT_INTER'].astype(\"string\")\n",
    "\n",
    "sih_pneumo['ANO_INT'] = sih_pneumo['DT_INTER'].str.slice(0, 4)\n",
    "sih_pneumo['ANO_INT'] = sih_pneumo['ANO_INT'].astype(int)\n",
    "sih_pneumo['ANO_INT'].value_counts().sort_index()"
   ]
  },
  {
   "cell_type": "code",
   "execution_count": 131,
   "metadata": {},
   "outputs": [
    {
     "data": {
      "text/plain": [
       "2017    159417\n",
       "2018    169893\n",
       "2019    179769\n",
       "2020    102449\n",
       "2021     89492\n",
       "2022     33163\n",
       "Name: ANO_CMPT, dtype: int64"
      ]
     },
     "execution_count": 131,
     "metadata": {},
     "output_type": "execute_result"
    }
   ],
   "source": [
    "#VERIFICANDO ANO DE COMPETENCIA\n",
    "sih_pneumo['ANO_CMPT'] = sih_pneumo['ANO_CMPT'].astype(int)\n",
    "sih_pneumo['ANO_CMPT'].value_counts().sort_index()"
   ]
  },
  {
   "cell_type": "code",
   "execution_count": 132,
   "metadata": {},
   "outputs": [
    {
     "data": {
      "text/plain": [
       "2017    160694\n",
       "2018    170708\n",
       "2019    179618\n",
       "2020     98501\n",
       "2021     92934\n",
       "Name: ANO_INT, dtype: int64"
      ]
     },
     "execution_count": 132,
     "metadata": {},
     "output_type": "execute_result"
    }
   ],
   "source": [
    "#FILTRANDO POR ANO DE INTERNAÇÃO´\n",
    "anos = [2017, 2018, 2019, 2020, 2021]\n",
    "sih_pneumo = sih_pneumo[sih_pneumo['ANO_INT'].isin(anos)]\n",
    "sih_pneumo['ANO_INT'].value_counts().sort_index()"
   ]
  },
  {
   "cell_type": "markdown",
   "metadata": {},
   "source": [
    "#### 2.1 Identificando e classificando os dados"
   ]
  },
  {
   "cell_type": "code",
   "execution_count": 133,
   "metadata": {},
   "outputs": [
    {
     "name": "stdout",
     "output_type": "stream",
     "text": [
      "<class 'pandas.core.frame.DataFrame'>\n",
      "Int64Index: 702455 entries, 0 to 734155\n",
      "Data columns (total 18 columns):\n",
      " #   Column      Non-Null Count   Dtype  \n",
      "---  ------      --------------   -----  \n",
      " 0   N_AIH       702455 non-null  int64  \n",
      " 1   IDADE       702455 non-null  int64  \n",
      " 2   SEXO        702455 non-null  int64  \n",
      " 3   UF_ZI       702455 non-null  int64  \n",
      " 4   NUM_FILHOS  702455 non-null  int64  \n",
      " 5   INSTRU      702455 non-null  int64  \n",
      " 6   MORTE       702455 non-null  int64  \n",
      " 7   CID_MORTE   702455 non-null  int64  \n",
      " 8   DIAS_PERM   702455 non-null  int64  \n",
      " 9   DIAG_PRINC  702455 non-null  object \n",
      " 10  DIAG_SECUN  702455 non-null  int64  \n",
      " 11  DT_INTER    702455 non-null  string \n",
      " 12  ANO_CMPT    702455 non-null  int64  \n",
      " 13  MES_CMPT    702455 non-null  int64  \n",
      " 14  MARCA_UTI   702455 non-null  int64  \n",
      " 15  UTI_MES_TO  702455 non-null  int64  \n",
      " 16  INFEHOSP    0 non-null       float64\n",
      " 17  ANO_INT     702455 non-null  int64  \n",
      "dtypes: float64(1), int64(15), object(1), string(1)\n",
      "memory usage: 101.8+ MB\n"
     ]
    }
   ],
   "source": [
    "#IDENTIFICANDO OS DADOS\n",
    "sih_pneumo2 = sih_pneumo.copy()\n",
    "sih_pneumo2.info()"
   ]
  },
  {
   "cell_type": "code",
   "execution_count": 134,
   "metadata": {},
   "outputs": [
    {
     "name": "stdout",
     "output_type": "stream",
     "text": [
      "<class 'pandas.core.frame.DataFrame'>\n",
      "Int64Index: 702455 entries, 0 to 734155\n",
      "Data columns (total 19 columns):\n",
      " #   Column      Non-Null Count   Dtype         \n",
      "---  ------      --------------   -----         \n",
      " 0   N_AIH       702455 non-null  int64         \n",
      " 1   IDADE       702455 non-null  float64       \n",
      " 2   SEXO        702455 non-null  int64         \n",
      " 3   UF_ZI       702455 non-null  object        \n",
      " 4   NUM_FILHOS  702455 non-null  int64         \n",
      " 5   INSTRU      702455 non-null  int64         \n",
      " 6   MORTE       702455 non-null  int64         \n",
      " 7   CID_MORTE   702455 non-null  object        \n",
      " 8   DIAS_PERM   702455 non-null  int64         \n",
      " 9   DIAG_PRINC  702455 non-null  object        \n",
      " 10  DIAG_SECUN  702455 non-null  object        \n",
      " 11  DT_INTER    702455 non-null  datetime64[ns]\n",
      " 12  ANO_CMPT    702455 non-null  int64         \n",
      " 13  MES_CMPT    702455 non-null  int64         \n",
      " 14  MARCA_UTI   702455 non-null  int64         \n",
      " 15  UTI_MES_TO  702455 non-null  int64         \n",
      " 16  INFEHOSP    0 non-null       float64       \n",
      " 17  ANO_INT     702455 non-null  int64         \n",
      " 18  UF          702455 non-null  object        \n",
      "dtypes: datetime64[ns](1), float64(2), int64(11), object(5)\n",
      "memory usage: 107.2+ MB\n"
     ]
    }
   ],
   "source": [
    "#AJUSTANDO OS DADOS SEGUNDO O TIPO\n",
    "sih_pneumo2['CID_MORTE'] = sih_pneumo2['CID_MORTE'].astype(str)\n",
    "sih_pneumo2['DIAG_PRINC'] = sih_pneumo2['DIAG_PRINC'].astype(str)\n",
    "sih_pneumo2['DIAG_SECUN'] = sih_pneumo2['DIAG_SECUN'].astype(str)\n",
    "sih_pneumo2['UF_ZI'] = sih_pneumo2['UF_ZI'].astype(str)\n",
    "sih_pneumo2['UF'] = sih_pneumo2['UF_ZI'].str.slice(0, 2)\n",
    "sih_pneumo2['IDADE'] = sih_pneumo2['IDADE'].astype(\"float64\")\n",
    "sih_pneumo2['DT_INTER'] = pd.to_datetime(sih_pneumo2['DT_INTER'])\n",
    "\n",
    "sih_pneumo2.info()"
   ]
  },
  {
   "cell_type": "code",
   "execution_count": 135,
   "metadata": {},
   "outputs": [],
   "source": [
    "#INCLUINDO NOME DAS CID NA VARIÁVEL DE DIAGNÓSTICO PRINCIPAL\n",
    "dic_cid = {\"J159\": \"J159 - Pneumonia bacteriana NE\", \"J158\": \"J158 - Pneumonia bacteriana NE\", \"J181\": \"J181 - Pneumonia lobar NE \",\n",
    " \"J154\": \"J154 - Pneumonia por Streptococus\", \"J153\": \"J153 - Pneumonia por Streptococus\", \"J14\": \"J14 - Pneumonia por Haemophilus infuenzae\",\n",
    " \"J13\": \"J13 - Pneumonia Pneumocócica\"}\n",
    "\n",
    "sih_pneumo2['DIAG_PRINC'] = sih_pneumo2['DIAG_PRINC'].replace(dic_cid)"
   ]
  },
  {
   "cell_type": "code",
   "execution_count": 136,
   "metadata": {},
   "outputs": [],
   "source": [
    "#CLASSIFICANDO VALORES DE TIPO DE UTI\n",
    "uti = {0:\"Não usou UTI\", \n",
    "       51:\"UTI adulto - tipo II Covid-19\", \n",
    "       52:\"UTI pediátrica - tipo II Covid-19\",\n",
    "       74:\"UTI adulto - tipo I\",\n",
    "       75:\"UTI adulto - tipo II\",\n",
    "       76:\"UTI adulto - tipo III\",\n",
    "       77:\"UTI infantil - tipo I\",\n",
    "       78:\"UTI infantil - tipo II\",\n",
    "       79:\"UTI infantil - tipo III\",\n",
    "       80:\"UTI neonatal - tipo I\",\n",
    "       81:\"UTI neonatal - tipo II\",\n",
    "       82:\"UTI neonatal - tipo III\",\n",
    "       83:\"UTI de queimados\",\n",
    "       85:\"UTI coronariana tipo II - UCO tipo II\",\n",
    "       86:\"UTI coronariana tipo III - UCO tipo III\",\n",
    "       99:\"UTI Doador\",\n",
    "       1: \"Utilizou mais de um tipo de UTI\"}\n",
    "\n",
    "sih_pneumo2[\"MARCA_UTI\"] = sih_pneumo2[\"MARCA_UTI\"].replace(uti)"
   ]
  },
  {
   "cell_type": "markdown",
   "metadata": {},
   "source": [
    "#### 2.2 *Missing values*"
   ]
  },
  {
   "cell_type": "code",
   "execution_count": 137,
   "metadata": {},
   "outputs": [],
   "source": [
    "#EXCLUINDO VARIÁVEIS COM TODOS OS VALORES NULOS, VAZIOS OU ÚNICOS\n",
    "sih_pneumo2.drop(['INFEHOSP', 'UF_ZI', 'NUM_FILHOS', 'INSTRU', 'CID_MORTE', 'DIAG_SECUN'], axis= 1, inplace= True)"
   ]
  },
  {
   "cell_type": "markdown",
   "metadata": {},
   "source": [
    "#### 2.3 *Outliers*"
   ]
  },
  {
   "cell_type": "code",
   "execution_count": 138,
   "metadata": {},
   "outputs": [],
   "source": [
    "#SELECIONANDO VARIÁVEIS QUE PODEM APRESENTAR OUTLIERS\n",
    "sih_box = sih_pneumo2[['IDADE', 'DIAS_PERM', 'UTI_MES_TO']]"
   ]
  },
  {
   "cell_type": "code",
   "execution_count": 139,
   "metadata": {},
   "outputs": [],
   "source": [
    "#TRANSFORMANDO DADOS PARA A MESMA ESCALA\n",
    "scale = StandardScaler()\n",
    "\n",
    "sih_box2 = pd.DataFrame(scale.fit_transform(sih_box))\n",
    "sih_box2.set_axis(['IDADE', 'DIAS_PERM', 'UTI_MES_TO'], axis=1, inplace=True)\n",
    "sih_box2 = pd.DataFrame(sih_box2.stack()).reset_index()\n",
    "sih_box2.drop('level_0', axis = 1, inplace = True)\n",
    "sih_box2.rename(columns = {'level_1':'variables', 0:'standard_value'}, inplace = True)"
   ]
  },
  {
   "cell_type": "code",
   "execution_count": 140,
   "metadata": {},
   "outputs": [
    {
     "data": {
      "text/plain": [
       "[Text(0.5, 0, 'Valores padronizados'),\n",
       " Text(0, 0.5, 'Variáveis'),\n",
       " Text(0.5, 1.0, 'Boxplot dias de permanência e idade padronizados')]"
      ]
     },
     "execution_count": 140,
     "metadata": {},
     "output_type": "execute_result"
    },
    {
     "data": {
      "image/png": "[encoded data removed]",
      "text/plain": [
       "<Figure size 1008x720 with 1 Axes>"
      ]
     },
     "metadata": {},
     "output_type": "display_data"
    }
   ],
   "source": [
    "#GERANDO BOXPLOTS\n",
    "sns.set(rc={'figure.figsize':(14, 10)})\n",
    "sns.set_theme(style=\"whitegrid\", palette=\"viridis\")\n",
    "\n",
    "box = sns.boxplot(y = \"variables\", x = \"standard_value\", data = sih_box2)\n",
    "box.set(xlabel =\"Valores padronizados\", ylabel = \"Variáveis\", title ='Boxplot dias de permanência e idade padronizados')"
   ]
  },
  {
   "cell_type": "code",
   "execution_count": 141,
   "metadata": {},
   "outputs": [],
   "source": [
    "#SELECIONANDO DADOS COM DISTRIBUIÇÃO MAIOR QUE -1.96 E MENOR QUE 1.96\n",
    "sih_box = pd.DataFrame(sih_box.stack()).reset_index()\n",
    "sih_box.drop('level_0', axis = 1, inplace = True)\n",
    "sih_box.rename(columns = {'level_1':'variables_originals', 0:'value'}, inplace = True)\n",
    "\n",
    "sih_box = pd.concat([sih_box.reset_index(drop=True), sih_box2.reset_index(drop=True)], axis=1)\n",
    "sih_box = sih_box[(sih_box['standard_value'] >= -1.96) & (sih_box['standard_value'] <= 1.96)]"
   ]
  },
  {
   "cell_type": "code",
   "execution_count": 142,
   "metadata": {},
   "outputs": [
    {
     "data": {
      "text/plain": [
       "(                     value\n",
       " variables_originals       \n",
       " DIAS_PERM              0.0\n",
       " IDADE                  0.0\n",
       " UTI_MES_TO             0.0,\n",
       "                      value\n",
       " variables_originals       \n",
       " DIAS_PERM             21.0\n",
       " IDADE                 99.0\n",
       " UTI_MES_TO             7.0)"
      ]
     },
     "execution_count": 142,
     "metadata": {},
     "output_type": "execute_result"
    }
   ],
   "source": [
    "#SELECIONANDO VALORES MÍNIMOS E MÁXIMOS \n",
    "min_values = pd.DataFrame(sih_box.groupby('variables_originals')['value'].min())\n",
    "max_values = pd.DataFrame(sih_box.groupby('variables_originals')['value'].max())\n",
    "\n",
    "min_values, max_values"
   ]
  },
  {
   "cell_type": "code",
   "execution_count": 143,
   "metadata": {},
   "outputs": [],
   "source": [
    "sih_pneumo2 = sih_pneumo2[(sih_pneumo2['IDADE'] <= max_values.loc['IDADE', 'value']) \n",
    "                        & (sih_pneumo2['DIAS_PERM'] <= max_values.loc['DIAS_PERM', 'value'])\n",
    "                        & (sih_pneumo2['UTI_MES_TO'] <= max_values.loc['UTI_MES_TO', 'value'])]"
   ]
  },
  {
   "cell_type": "code",
   "execution_count": 144,
   "metadata": {},
   "outputs": [
    {
     "data": {
      "text/plain": [
       "[Text(0.5, 0, 'Valores'),\n",
       " Text(0, 0.5, ''),\n",
       " Text(0.5, 1.0, 'Boxplot dias de permanência')]"
      ]
     },
     "execution_count": 144,
     "metadata": {},
     "output_type": "execute_result"
    },
    {
     "data": {
      "image/png": "[encoded data removed]",
      "text/plain": [
       "<Figure size 1008x504 with 1 Axes>"
      ]
     },
     "metadata": {},
     "output_type": "display_data"
    }
   ],
   "source": [
    "#GERANDO BOXPLOT DE DIAS DE PERMANÊNCIA\n",
    "sns.set(rc={'figure.figsize':(14, 7)})\n",
    "sns.set_theme(style=\"whitegrid\", palette=\"viridis\")\n",
    "\n",
    "box1 = sns.boxplot(x = \"DIAS_PERM\", data = sih_pneumo2)\n",
    "box1.set(xlabel =\"Valores\", ylabel = \"\", title ='Boxplot dias de permanência')\n"
   ]
  },
  {
   "cell_type": "code",
   "execution_count": 145,
   "metadata": {},
   "outputs": [
    {
     "data": {
      "text/plain": [
       "[Text(0.5, 0, 'Valores'), Text(0, 0.5, ''), Text(0.5, 1.0, 'Boxplot idade')]"
      ]
     },
     "execution_count": 145,
     "metadata": {},
     "output_type": "execute_result"
    },
    {
     "data": {
      "image/png": "[encoded data removed]",
      "text/plain": [
       "<Figure size 1008x504 with 1 Axes>"
      ]
     },
     "metadata": {},
     "output_type": "display_data"
    }
   ],
   "source": [
    "#GERANDO BOXPLOT DE IDADE\n",
    "sns.set(rc={'figure.figsize':(14, 7)})\n",
    "sns.set_theme(style=\"whitegrid\", palette=\"viridis\")\n",
    "\n",
    "box2 = sns.boxplot(x = \"IDADE\", data = sih_pneumo2)\n",
    "box2.set(xlabel =\"Valores\", ylabel = \"\", title ='Boxplot idade')"
   ]
  },
  {
   "cell_type": "code",
   "execution_count": 146,
   "metadata": {},
   "outputs": [
    {
     "data": {
      "text/plain": [
       "[Text(0.5, 0, 'Valores'),\n",
       " Text(0, 0.5, ''),\n",
       " Text(0.5, 1.0, 'Boxplot dias de permanência em UTI')]"
      ]
     },
     "execution_count": 146,
     "metadata": {},
     "output_type": "execute_result"
    },
    {
     "data": {
      "image/png": "[encoded data removed]",
      "text/plain": [
       "<Figure size 1008x504 with 1 Axes>"
      ]
     },
     "metadata": {},
     "output_type": "display_data"
    }
   ],
   "source": [
    "#GERANDO BOXPLOT DE DIAS DE PERMANÊNCIA EM UTI\n",
    "sns.set(rc={'figure.figsize':(14, 7)})\n",
    "sns.set_theme(style=\"whitegrid\", palette=\"viridis\")\n",
    "\n",
    "box3 = sns.boxplot(x = \"UTI_MES_TO\", data = sih_pneumo2)\n",
    "box3.set(xlabel =\"Valores\", ylabel = \"\", title ='Boxplot dias de permanência em UTI')"
   ]
  },
  {
   "cell_type": "markdown",
   "metadata": {},
   "source": [
    "## 3. Análise descritiva "
   ]
  },
  {
   "cell_type": "markdown",
   "metadata": {},
   "source": [
    "#### 3.1 Frequencia - variáveis categóricas"
   ]
  },
  {
   "cell_type": "code",
   "execution_count": 147,
   "metadata": {},
   "outputs": [
    {
     "data": {
      "text/plain": [
       "(702455, 658719, 43736)"
      ]
     },
     "execution_count": 147,
     "metadata": {},
     "output_type": "execute_result"
    }
   ],
   "source": [
    "#NÚMERO DE INTERNAÇÕES ANTES E DEPOIS DA PREPARAÇÃO DA BASE\n",
    "len(sih_pneumo), len(sih_pneumo2), (len(sih_pneumo)-len(sih_pneumo2))"
   ]
  },
  {
   "cell_type": "code",
   "execution_count": 148,
   "metadata": {},
   "outputs": [
    {
     "data": {
      "text/html": [
       "<div>\n",
       "<style scoped>\n",
       "    .dataframe tbody tr th:only-of-type {\n",
       "        vertical-align: middle;\n",
       "    }\n",
       "\n",
       "    .dataframe tbody tr th {\n",
       "        vertical-align: top;\n",
       "    }\n",
       "\n",
       "    .dataframe thead th {\n",
       "        text-align: right;\n",
       "    }\n",
       "</style>\n",
       "<table border=\"1\" class=\"dataframe\">\n",
       "  <thead>\n",
       "    <tr style=\"text-align: right;\">\n",
       "      <th></th>\n",
       "      <th>SEXO</th>\n",
       "    </tr>\n",
       "  </thead>\n",
       "  <tbody>\n",
       "    <tr>\n",
       "      <th>Masculino</th>\n",
       "      <td>343908</td>\n",
       "    </tr>\n",
       "    <tr>\n",
       "      <th>Feminino</th>\n",
       "      <td>314811</td>\n",
       "    </tr>\n",
       "  </tbody>\n",
       "</table>\n",
       "</div>"
      ],
      "text/plain": [
       "             SEXO\n",
       "Masculino  343908\n",
       "Feminino   314811"
      ]
     },
     "execution_count": 148,
     "metadata": {},
     "output_type": "execute_result"
    }
   ],
   "source": [
    "#FREQUENCIA DE INTERNAÇÕES POR SEXO\n",
    "dic_sexo = {1:\"Masculino\", 3:\"Feminino\"}\n",
    "sih_pneumo2[\"SEXO\"] = sih_pneumo2[\"SEXO\"].replace(dic_sexo)\n",
    "\n",
    "sexo = pd.DataFrame(sih_pneumo2[\"SEXO\"].value_counts())\n",
    "sexo"
   ]
  },
  {
   "cell_type": "code",
   "execution_count": 149,
   "metadata": {},
   "outputs": [],
   "source": [
    "#TABELA DE FREQUÊNCIA POR FAIXA ETÁRIA\n",
    "sih_pneumo2[\"FAIXA_ETARIA\"] = np.where(sih_pneumo2[\"IDADE\"] <= 10, '0 - 10',\n",
    "                              np.where(sih_pneumo2[\"IDADE\"] < 20, '11-19',\n",
    "                              np.where(sih_pneumo2[\"IDADE\"] <= 60, '20-59', \n",
    "                              np.where(sih_pneumo2[\"IDADE\"] <= 100, '60+',\n",
    "                              'não informado'))))"
   ]
  },
  {
   "cell_type": "code",
   "execution_count": 150,
   "metadata": {},
   "outputs": [
    {
     "data": {
      "text/html": [
       "<div>\n",
       "<style scoped>\n",
       "    .dataframe tbody tr th:only-of-type {\n",
       "        vertical-align: middle;\n",
       "    }\n",
       "\n",
       "    .dataframe tbody tr th {\n",
       "        vertical-align: top;\n",
       "    }\n",
       "\n",
       "    .dataframe thead th {\n",
       "        text-align: right;\n",
       "    }\n",
       "</style>\n",
       "<table border=\"1\" class=\"dataframe\">\n",
       "  <thead>\n",
       "    <tr style=\"text-align: right;\">\n",
       "      <th>MORTE</th>\n",
       "      <th>0</th>\n",
       "      <th>1</th>\n",
       "      <th>All</th>\n",
       "    </tr>\n",
       "    <tr>\n",
       "      <th>FAIXA_ETARIA</th>\n",
       "      <th></th>\n",
       "      <th></th>\n",
       "      <th></th>\n",
       "    </tr>\n",
       "  </thead>\n",
       "  <tbody>\n",
       "    <tr>\n",
       "      <th>0 - 10</th>\n",
       "      <td>219309</td>\n",
       "      <td>1855</td>\n",
       "      <td>221164</td>\n",
       "    </tr>\n",
       "    <tr>\n",
       "      <th>11-19</th>\n",
       "      <td>25900</td>\n",
       "      <td>402</td>\n",
       "      <td>26302</td>\n",
       "    </tr>\n",
       "    <tr>\n",
       "      <th>20-59</th>\n",
       "      <td>126782</td>\n",
       "      <td>9870</td>\n",
       "      <td>136652</td>\n",
       "    </tr>\n",
       "    <tr>\n",
       "      <th>60+</th>\n",
       "      <td>224330</td>\n",
       "      <td>50271</td>\n",
       "      <td>274601</td>\n",
       "    </tr>\n",
       "    <tr>\n",
       "      <th>All</th>\n",
       "      <td>596321</td>\n",
       "      <td>62398</td>\n",
       "      <td>658719</td>\n",
       "    </tr>\n",
       "  </tbody>\n",
       "</table>\n",
       "</div>"
      ],
      "text/plain": [
       "MORTE              0      1     All\n",
       "FAIXA_ETARIA                       \n",
       "0 - 10        219309   1855  221164\n",
       "11-19          25900    402   26302\n",
       "20-59         126782   9870  136652\n",
       "60+           224330  50271  274601\n",
       "All           596321  62398  658719"
      ]
     },
     "execution_count": 150,
     "metadata": {},
     "output_type": "execute_result"
    }
   ],
   "source": [
    "#MORTALIDADE POR FAIXA ETÁRIA\n",
    "mortalidade_por_fe = pd.DataFrame(pd.crosstab(sih_pneumo2[\"FAIXA_ETARIA\"], sih_pneumo2[\"MORTE\"], margins=True))\n",
    "mortalidade_por_fe"
   ]
  },
  {
   "cell_type": "code",
   "execution_count": 151,
   "metadata": {},
   "outputs": [
    {
     "data": {
      "application/vnd.plotly.v1+json": {
       "config": {
        "plotlyServerURL": "https://plot.ly"
       },
       "data": [
        {
         "marker": {
          "color": "#21918c"
         },
         "name": "Masculino",
         "orientation": "h",
         "type": "bar",
         "x": [
          120324,
          13732,
          74684,
          135168
         ],
         "y": [
          "0 - 10",
          "11-19",
          "20-59",
          "60+"
         ]
        },
        {
         "marker": {
          "color": "#440154"
         },
         "name": "Feminino",
         "orientation": "h",
         "type": "bar",
         "x": [
          -100840,
          -12570,
          -61968,
          -139433
         ],
         "y": [
          "0 - 10",
          "11-19",
          "20-59",
          "60+"
         ]
        }
       ],
       "layout": {
        "bargap": 0,
        "bargroupgap": 0,
        "barmode": "relative",
        "template": {
         "data": {
          "bar": [
           {
            "error_x": {
             "color": "#2a3f5f"
            },
            "error_y": {
             "color": "#2a3f5f"
            },
            "marker": {
             "line": {
              "color": "#E5ECF6",
              "width": 0.5
             },
             "pattern": {
              "fillmode": "overlay",
              "size": 10,
              "solidity": 0.2
             }
            },
            "type": "bar"
           }
          ],
          "barpolar": [
           {
            "marker": {
             "line": {
              "color": "#E5ECF6",
              "width": 0.5
             },
             "pattern": {
              "fillmode": "overlay",
              "size": 10,
              "solidity": 0.2
             }
            },
            "type": "barpolar"
           }
          ],
          "carpet": [
           {
            "aaxis": {
             "endlinecolor": "#2a3f5f",
             "gridcolor": "white",
             "linecolor": "white",
             "minorgridcolor": "white",
             "startlinecolor": "#2a3f5f"
            },
            "baxis": {
             "endlinecolor": "#2a3f5f",
             "gridcolor": "white",
             "linecolor": "white",
             "minorgridcolor": "white",
             "startlinecolor": "#2a3f5f"
            },
            "type": "carpet"
           }
          ],
          "choropleth": [
           {
            "colorbar": {
             "outlinewidth": 0,
             "ticks": ""
            },
            "type": "choropleth"
           }
          ],
          "contour": [
           {
            "colorbar": {
             "outlinewidth": 0,
             "ticks": ""
            },
            "colorscale": [
             [
              0,
              "#0d0887"
             ],
             [
              0.1111111111111111,
              "#46039f"
             ],
             [
              0.2222222222222222,
              "#7201a8"
             ],
             [
              0.3333333333333333,
              "#9c179e"
             ],
             [
              0.4444444444444444,
              "#bd3786"
             ],
             [
              0.5555555555555556,
              "#d8576b"
             ],
             [
              0.6666666666666666,
              "#ed7953"
             ],
             [
              0.7777777777777778,
              "#fb9f3a"
             ],
             [
              0.8888888888888888,
              "#fdca26"
             ],
             [
              1,
              "#f0f921"
             ]
            ],
            "type": "contour"
           }
          ],
          "contourcarpet": [
           {
            "colorbar": {
             "outlinewidth": 0,
             "ticks": ""
            },
            "type": "contourcarpet"
           }
          ],
          "heatmap": [
           {
            "colorbar": {
             "outlinewidth": 0,
             "ticks": ""
            },
            "colorscale": [
             [
              0,
              "#0d0887"
             ],
             [
              0.1111111111111111,
              "#46039f"
             ],
             [
              0.2222222222222222,
              "#7201a8"
             ],
             [
              0.3333333333333333,
              "#9c179e"
             ],
             [
              0.4444444444444444,
              "#bd3786"
             ],
             [
              0.5555555555555556,
              "#d8576b"
             ],
             [
              0.6666666666666666,
              "#ed7953"
             ],
             [
              0.7777777777777778,
              "#fb9f3a"
             ],
             [
              0.8888888888888888,
              "#fdca26"
             ],
             [
              1,
              "#f0f921"
             ]
            ],
            "type": "heatmap"
           }
          ],
          "heatmapgl": [
           {
            "colorbar": {
             "outlinewidth": 0,
             "ticks": ""
            },
            "colorscale": [
             [
              0,
              "#0d0887"
             ],
             [
              0.1111111111111111,
              "#46039f"
             ],
             [
              0.2222222222222222,
              "#7201a8"
             ],
             [
              0.3333333333333333,
              "#9c179e"
             ],
             [
              0.4444444444444444,
              "#bd3786"
             ],
             [
              0.5555555555555556,
              "#d8576b"
             ],
             [
              0.6666666666666666,
              "#ed7953"
             ],
             [
              0.7777777777777778,
              "#fb9f3a"
             ],
             [
              0.8888888888888888,
              "#fdca26"
             ],
             [
              1,
              "#f0f921"
             ]
            ],
            "type": "heatmapgl"
           }
          ],
          "histogram": [
           {
            "marker": {
             "pattern": {
              "fillmode": "overlay",
              "size": 10,
              "solidity": 0.2
             }
            },
            "type": "histogram"
           }
          ],
          "histogram2d": [
           {
            "colorbar": {
             "outlinewidth": 0,
             "ticks": ""
            },
            "colorscale": [
             [
              0,
              "#0d0887"
             ],
             [
              0.1111111111111111,
              "#46039f"
             ],
             [
              0.2222222222222222,
              "#7201a8"
             ],
             [
              0.3333333333333333,
              "#9c179e"
             ],
             [
              0.4444444444444444,
              "#bd3786"
             ],
             [
              0.5555555555555556,
              "#d8576b"
             ],
             [
              0.6666666666666666,
              "#ed7953"
             ],
             [
              0.7777777777777778,
              "#fb9f3a"
             ],
             [
              0.8888888888888888,
              "#fdca26"
             ],
             [
              1,
              "#f0f921"
             ]
            ],
            "type": "histogram2d"
           }
          ],
          "histogram2dcontour": [
           {
            "colorbar": {
             "outlinewidth": 0,
             "ticks": ""
            },
            "colorscale": [
             [
              0,
              "#0d0887"
             ],
             [
              0.1111111111111111,
              "#46039f"
             ],
             [
              0.2222222222222222,
              "#7201a8"
             ],
             [
              0.3333333333333333,
              "#9c179e"
             ],
             [
              0.4444444444444444,
              "#bd3786"
             ],
             [
              0.5555555555555556,
              "#d8576b"
             ],
             [
              0.6666666666666666,
              "#ed7953"
             ],
             [
              0.7777777777777778,
              "#fb9f3a"
             ],
             [
              0.8888888888888888,
              "#fdca26"
             ],
             [
              1,
              "#f0f921"
             ]
            ],
            "type": "histogram2dcontour"
           }
          ],
          "mesh3d": [
           {
            "colorbar": {
             "outlinewidth": 0,
             "ticks": ""
            },
            "type": "mesh3d"
           }
          ],
          "parcoords": [
           {
            "line": {
             "colorbar": {
              "outlinewidth": 0,
              "ticks": ""
             }
            },
            "type": "parcoords"
           }
          ],
          "pie": [
           {
            "automargin": true,
            "type": "pie"
           }
          ],
          "scatter": [
           {
            "fillpattern": {
             "fillmode": "overlay",
             "size": 10,
             "solidity": 0.2
            },
            "type": "scatter"
           }
          ],
          "scatter3d": [
           {
            "line": {
             "colorbar": {
              "outlinewidth": 0,
              "ticks": ""
             }
            },
            "marker": {
             "colorbar": {
              "outlinewidth": 0,
              "ticks": ""
             }
            },
            "type": "scatter3d"
           }
          ],
          "scattercarpet": [
           {
            "marker": {
             "colorbar": {
              "outlinewidth": 0,
              "ticks": ""
             }
            },
            "type": "scattercarpet"
           }
          ],
          "scattergeo": [
           {
            "marker": {
             "colorbar": {
              "outlinewidth": 0,
              "ticks": ""
             }
            },
            "type": "scattergeo"
           }
          ],
          "scattergl": [
           {
            "marker": {
             "colorbar": {
              "outlinewidth": 0,
              "ticks": ""
             }
            },
            "type": "scattergl"
           }
          ],
          "scattermapbox": [
           {
            "marker": {
             "colorbar": {
              "outlinewidth": 0,
              "ticks": ""
             }
            },
            "type": "scattermapbox"
           }
          ],
          "scatterpolar": [
           {
            "marker": {
             "colorbar": {
              "outlinewidth": 0,
              "ticks": ""
             }
            },
            "type": "scatterpolar"
           }
          ],
          "scatterpolargl": [
           {
            "marker": {
             "colorbar": {
              "outlinewidth": 0,
              "ticks": ""
             }
            },
            "type": "scatterpolargl"
           }
          ],
          "scatterternary": [
           {
            "marker": {
             "colorbar": {
              "outlinewidth": 0,
              "ticks": ""
             }
            },
            "type": "scatterternary"
           }
          ],
          "surface": [
           {
            "colorbar": {
             "outlinewidth": 0,
             "ticks": ""
            },
            "colorscale": [
             [
              0,
              "#0d0887"
             ],
             [
              0.1111111111111111,
              "#46039f"
             ],
             [
              0.2222222222222222,
              "#7201a8"
             ],
             [
              0.3333333333333333,
              "#9c179e"
             ],
             [
              0.4444444444444444,
              "#bd3786"
             ],
             [
              0.5555555555555556,
              "#d8576b"
             ],
             [
              0.6666666666666666,
              "#ed7953"
             ],
             [
              0.7777777777777778,
              "#fb9f3a"
             ],
             [
              0.8888888888888888,
              "#fdca26"
             ],
             [
              1,
              "#f0f921"
             ]
            ],
            "type": "surface"
           }
          ],
          "table": [
           {
            "cells": {
             "fill": {
              "color": "#EBF0F8"
             },
             "line": {
              "color": "white"
             }
            },
            "header": {
             "fill": {
              "color": "#C8D4E3"
             },
             "line": {
              "color": "white"
             }
            },
            "type": "table"
           }
          ]
         },
         "layout": {
          "annotationdefaults": {
           "arrowcolor": "#2a3f5f",
           "arrowhead": 0,
           "arrowwidth": 1
          },
          "autotypenumbers": "strict",
          "coloraxis": {
           "colorbar": {
            "outlinewidth": 0,
            "ticks": ""
           }
          },
          "colorscale": {
           "diverging": [
            [
             0,
             "#8e0152"
            ],
            [
             0.1,
             "#c51b7d"
            ],
            [
             0.2,
             "#de77ae"
            ],
            [
             0.3,
             "#f1b6da"
            ],
            [
             0.4,
             "#fde0ef"
            ],
            [
             0.5,
             "#f7f7f7"
            ],
            [
             0.6,
             "#e6f5d0"
            ],
            [
             0.7,
             "#b8e186"
            ],
            [
             0.8,
             "#7fbc41"
            ],
            [
             0.9,
             "#4d9221"
            ],
            [
             1,
             "#276419"
            ]
           ],
           "sequential": [
            [
             0,
             "#0d0887"
            ],
            [
             0.1111111111111111,
             "#46039f"
            ],
            [
             0.2222222222222222,
             "#7201a8"
            ],
            [
             0.3333333333333333,
             "#9c179e"
            ],
            [
             0.4444444444444444,
             "#bd3786"
            ],
            [
             0.5555555555555556,
             "#d8576b"
            ],
            [
             0.6666666666666666,
             "#ed7953"
            ],
            [
             0.7777777777777778,
             "#fb9f3a"
            ],
            [
             0.8888888888888888,
             "#fdca26"
            ],
            [
             1,
             "#f0f921"
            ]
           ],
           "sequentialminus": [
            [
             0,
             "#0d0887"
            ],
            [
             0.1111111111111111,
             "#46039f"
            ],
            [
             0.2222222222222222,
             "#7201a8"
            ],
            [
             0.3333333333333333,
             "#9c179e"
            ],
            [
             0.4444444444444444,
             "#bd3786"
            ],
            [
             0.5555555555555556,
             "#d8576b"
            ],
            [
             0.6666666666666666,
             "#ed7953"
            ],
            [
             0.7777777777777778,
             "#fb9f3a"
            ],
            [
             0.8888888888888888,
             "#fdca26"
            ],
            [
             1,
             "#f0f921"
            ]
           ]
          },
          "colorway": [
           "#636efa",
           "#EF553B",
           "#00cc96",
           "#ab63fa",
           "#FFA15A",
           "#19d3f3",
           "#FF6692",
           "#B6E880",
           "#FF97FF",
           "#FECB52"
          ],
          "font": {
           "color": "#2a3f5f"
          },
          "geo": {
           "bgcolor": "white",
           "lakecolor": "white",
           "landcolor": "#E5ECF6",
           "showlakes": true,
           "showland": true,
           "subunitcolor": "white"
          },
          "hoverlabel": {
           "align": "left"
          },
          "hovermode": "closest",
          "mapbox": {
           "style": "light"
          },
          "paper_bgcolor": "white",
          "plot_bgcolor": "#E5ECF6",
          "polar": {
           "angularaxis": {
            "gridcolor": "white",
            "linecolor": "white",
            "ticks": ""
           },
           "bgcolor": "#E5ECF6",
           "radialaxis": {
            "gridcolor": "white",
            "linecolor": "white",
            "ticks": ""
           }
          },
          "scene": {
           "xaxis": {
            "backgroundcolor": "#E5ECF6",
            "gridcolor": "white",
            "gridwidth": 2,
            "linecolor": "white",
            "showbackground": true,
            "ticks": "",
            "zerolinecolor": "white"
           },
           "yaxis": {
            "backgroundcolor": "#E5ECF6",
            "gridcolor": "white",
            "gridwidth": 2,
            "linecolor": "white",
            "showbackground": true,
            "ticks": "",
            "zerolinecolor": "white"
           },
           "zaxis": {
            "backgroundcolor": "#E5ECF6",
            "gridcolor": "white",
            "gridwidth": 2,
            "linecolor": "white",
            "showbackground": true,
            "ticks": "",
            "zerolinecolor": "white"
           }
          },
          "shapedefaults": {
           "line": {
            "color": "#2a3f5f"
           }
          },
          "ternary": {
           "aaxis": {
            "gridcolor": "white",
            "linecolor": "white",
            "ticks": ""
           },
           "baxis": {
            "gridcolor": "white",
            "linecolor": "white",
            "ticks": ""
           },
           "bgcolor": "#E5ECF6",
           "caxis": {
            "gridcolor": "white",
            "linecolor": "white",
            "ticks": ""
           }
          },
          "title": {
           "x": 0.05
          },
          "xaxis": {
           "automargin": true,
           "gridcolor": "white",
           "linecolor": "white",
           "ticks": "",
           "title": {
            "standoff": 15
           },
           "zerolinecolor": "white",
           "zerolinewidth": 2
          },
          "yaxis": {
           "automargin": true,
           "gridcolor": "white",
           "linecolor": "white",
           "ticks": "",
           "title": {
            "standoff": 15
           },
           "zerolinecolor": "white",
           "zerolinewidth": 2
          }
         }
        },
        "title": {
         "font": {
          "size": 22
         },
         "text": "Número de internações por sexo e faixa etária, Brasil, 2017-2021"
        },
        "xaxis": {
         "title": {
          "font": {
           "size": 14
          },
          "text": "Frequência"
         }
        }
       }
      },
      "text/html": [
       "<div>                            <div id=\"df6f1dc3-5bb5-414b-92ca-570e3058ba7a\" class=\"plotly-graph-div\" style=\"height:525px; width:100%;\"></div>            <script type=\"text/javascript\">                require([\"plotly\"], function(Plotly) {                    window.PLOTLYENV=window.PLOTLYENV || {};                                    if (document.getElementById(\"df6f1dc3-5bb5-414b-92ca-570e3058ba7a\")) {                    Plotly.newPlot(                        \"df6f1dc3-5bb5-414b-92ca-570e3058ba7a\",                        [{\"marker\":{\"color\":\"#21918c\"},\"name\":\"Masculino\",\"orientation\":\"h\",\"x\":[120324,13732,74684,135168],\"y\":[\"0 - 10\",\"11-19\",\"20-59\",\"60+\"],\"type\":\"bar\"},{\"marker\":{\"color\":\"#440154\"},\"name\":\"Feminino\",\"orientation\":\"h\",\"x\":[-100840,-12570,-61968,-139433],\"y\":[\"0 - 10\",\"11-19\",\"20-59\",\"60+\"],\"type\":\"bar\"}],                        {\"template\":{\"data\":{\"histogram2dcontour\":[{\"type\":\"histogram2dcontour\",\"colorbar\":{\"outlinewidth\":0,\"ticks\":\"\"},\"colorscale\":[[0.0,\"#0d0887\"],[0.1111111111111111,\"#46039f\"],[0.2222222222222222,\"#7201a8\"],[0.3333333333333333,\"#9c179e\"],[0.4444444444444444,\"#bd3786\"],[0.5555555555555556,\"#d8576b\"],[0.6666666666666666,\"#ed7953\"],[0.7777777777777778,\"#fb9f3a\"],[0.8888888888888888,\"#fdca26\"],[1.0,\"#f0f921\"]]}],\"choropleth\":[{\"type\":\"choropleth\",\"colorbar\":{\"outlinewidth\":0,\"ticks\":\"\"}}],\"histogram2d\":[{\"type\":\"histogram2d\",\"colorbar\":{\"outlinewidth\":0,\"ticks\":\"\"},\"colorscale\":[[0.0,\"#0d0887\"],[0.1111111111111111,\"#46039f\"],[0.2222222222222222,\"#7201a8\"],[0.3333333333333333,\"#9c179e\"],[0.4444444444444444,\"#bd3786\"],[0.5555555555555556,\"#d8576b\"],[0.6666666666666666,\"#ed7953\"],[0.7777777777777778,\"#fb9f3a\"],[0.8888888888888888,\"#fdca26\"],[1.0,\"#f0f921\"]]}],\"heatmap\":[{\"type\":\"heatmap\",\"colorbar\":{\"outlinewidth\":0,\"ticks\":\"\"},\"colorscale\":[[0.0,\"#0d0887\"],[0.1111111111111111,\"#46039f\"],[0.2222222222222222,\"#7201a8\"],[0.3333333333333333,\"#9c179e\"],[0.4444444444444444,\"#bd3786\"],[0.5555555555555556,\"#d8576b\"],[0.6666666666666666,\"#ed7953\"],[0.7777777777777778,\"#fb9f3a\"],[0.8888888888888888,\"#fdca26\"],[1.0,\"#f0f921\"]]}],\"heatmapgl\":[{\"type\":\"heatmapgl\",\"colorbar\":{\"outlinewidth\":0,\"ticks\":\"\"},\"colorscale\":[[0.0,\"#0d0887\"],[0.1111111111111111,\"#46039f\"],[0.2222222222222222,\"#7201a8\"],[0.3333333333333333,\"#9c179e\"],[0.4444444444444444,\"#bd3786\"],[0.5555555555555556,\"#d8576b\"],[0.6666666666666666,\"#ed7953\"],[0.7777777777777778,\"#fb9f3a\"],[0.8888888888888888,\"#fdca26\"],[1.0,\"#f0f921\"]]}],\"contourcarpet\":[{\"type\":\"contourcarpet\",\"colorbar\":{\"outlinewidth\":0,\"ticks\":\"\"}}],\"contour\":[{\"type\":\"contour\",\"colorbar\":{\"outlinewidth\":0,\"ticks\":\"\"},\"colorscale\":[[0.0,\"#0d0887\"],[0.1111111111111111,\"#46039f\"],[0.2222222222222222,\"#7201a8\"],[0.3333333333333333,\"#9c179e\"],[0.4444444444444444,\"#bd3786\"],[0.5555555555555556,\"#d8576b\"],[0.6666666666666666,\"#ed7953\"],[0.7777777777777778,\"#fb9f3a\"],[0.8888888888888888,\"#fdca26\"],[1.0,\"#f0f921\"]]}],\"surface\":[{\"type\":\"surface\",\"colorbar\":{\"outlinewidth\":0,\"ticks\":\"\"},\"colorscale\":[[0.0,\"#0d0887\"],[0.1111111111111111,\"#46039f\"],[0.2222222222222222,\"#7201a8\"],[0.3333333333333333,\"#9c179e\"],[0.4444444444444444,\"#bd3786\"],[0.5555555555555556,\"#d8576b\"],[0.6666666666666666,\"#ed7953\"],[0.7777777777777778,\"#fb9f3a\"],[0.8888888888888888,\"#fdca26\"],[1.0,\"#f0f921\"]]}],\"mesh3d\":[{\"type\":\"mesh3d\",\"colorbar\":{\"outlinewidth\":0,\"ticks\":\"\"}}],\"scatter\":[{\"fillpattern\":{\"fillmode\":\"overlay\",\"size\":10,\"solidity\":0.2},\"type\":\"scatter\"}],\"parcoords\":[{\"type\":\"parcoords\",\"line\":{\"colorbar\":{\"outlinewidth\":0,\"ticks\":\"\"}}}],\"scatterpolargl\":[{\"type\":\"scatterpolargl\",\"marker\":{\"colorbar\":{\"outlinewidth\":0,\"ticks\":\"\"}}}],\"bar\":[{\"error_x\":{\"color\":\"#2a3f5f\"},\"error_y\":{\"color\":\"#2a3f5f\"},\"marker\":{\"line\":{\"color\":\"#E5ECF6\",\"width\":0.5},\"pattern\":{\"fillmode\":\"overlay\",\"size\":10,\"solidity\":0.2}},\"type\":\"bar\"}],\"scattergeo\":[{\"type\":\"scattergeo\",\"marker\":{\"colorbar\":{\"outlinewidth\":0,\"ticks\":\"\"}}}],\"scatterpolar\":[{\"type\":\"scatterpolar\",\"marker\":{\"colorbar\":{\"outlinewidth\":0,\"ticks\":\"\"}}}],\"histogram\":[{\"marker\":{\"pattern\":{\"fillmode\":\"overlay\",\"size\":10,\"solidity\":0.2}},\"type\":\"histogram\"}],\"scattergl\":[{\"type\":\"scattergl\",\"marker\":{\"colorbar\":{\"outlinewidth\":0,\"ticks\":\"\"}}}],\"scatter3d\":[{\"type\":\"scatter3d\",\"line\":{\"colorbar\":{\"outlinewidth\":0,\"ticks\":\"\"}},\"marker\":{\"colorbar\":{\"outlinewidth\":0,\"ticks\":\"\"}}}],\"scattermapbox\":[{\"type\":\"scattermapbox\",\"marker\":{\"colorbar\":{\"outlinewidth\":0,\"ticks\":\"\"}}}],\"scatterternary\":[{\"type\":\"scatterternary\",\"marker\":{\"colorbar\":{\"outlinewidth\":0,\"ticks\":\"\"}}}],\"scattercarpet\":[{\"type\":\"scattercarpet\",\"marker\":{\"colorbar\":{\"outlinewidth\":0,\"ticks\":\"\"}}}],\"carpet\":[{\"aaxis\":{\"endlinecolor\":\"#2a3f5f\",\"gridcolor\":\"white\",\"linecolor\":\"white\",\"minorgridcolor\":\"white\",\"startlinecolor\":\"#2a3f5f\"},\"baxis\":{\"endlinecolor\":\"#2a3f5f\",\"gridcolor\":\"white\",\"linecolor\":\"white\",\"minorgridcolor\":\"white\",\"startlinecolor\":\"#2a3f5f\"},\"type\":\"carpet\"}],\"table\":[{\"cells\":{\"fill\":{\"color\":\"#EBF0F8\"},\"line\":{\"color\":\"white\"}},\"header\":{\"fill\":{\"color\":\"#C8D4E3\"},\"line\":{\"color\":\"white\"}},\"type\":\"table\"}],\"barpolar\":[{\"marker\":{\"line\":{\"color\":\"#E5ECF6\",\"width\":0.5},\"pattern\":{\"fillmode\":\"overlay\",\"size\":10,\"solidity\":0.2}},\"type\":\"barpolar\"}],\"pie\":[{\"automargin\":true,\"type\":\"pie\"}]},\"layout\":{\"autotypenumbers\":\"strict\",\"colorway\":[\"#636efa\",\"#EF553B\",\"#00cc96\",\"#ab63fa\",\"#FFA15A\",\"#19d3f3\",\"#FF6692\",\"#B6E880\",\"#FF97FF\",\"#FECB52\"],\"font\":{\"color\":\"#2a3f5f\"},\"hovermode\":\"closest\",\"hoverlabel\":{\"align\":\"left\"},\"paper_bgcolor\":\"white\",\"plot_bgcolor\":\"#E5ECF6\",\"polar\":{\"bgcolor\":\"#E5ECF6\",\"angularaxis\":{\"gridcolor\":\"white\",\"linecolor\":\"white\",\"ticks\":\"\"},\"radialaxis\":{\"gridcolor\":\"white\",\"linecolor\":\"white\",\"ticks\":\"\"}},\"ternary\":{\"bgcolor\":\"#E5ECF6\",\"aaxis\":{\"gridcolor\":\"white\",\"linecolor\":\"white\",\"ticks\":\"\"},\"baxis\":{\"gridcolor\":\"white\",\"linecolor\":\"white\",\"ticks\":\"\"},\"caxis\":{\"gridcolor\":\"white\",\"linecolor\":\"white\",\"ticks\":\"\"}},\"coloraxis\":{\"colorbar\":{\"outlinewidth\":0,\"ticks\":\"\"}},\"colorscale\":{\"sequential\":[[0.0,\"#0d0887\"],[0.1111111111111111,\"#46039f\"],[0.2222222222222222,\"#7201a8\"],[0.3333333333333333,\"#9c179e\"],[0.4444444444444444,\"#bd3786\"],[0.5555555555555556,\"#d8576b\"],[0.6666666666666666,\"#ed7953\"],[0.7777777777777778,\"#fb9f3a\"],[0.8888888888888888,\"#fdca26\"],[1.0,\"#f0f921\"]],\"sequentialminus\":[[0.0,\"#0d0887\"],[0.1111111111111111,\"#46039f\"],[0.2222222222222222,\"#7201a8\"],[0.3333333333333333,\"#9c179e\"],[0.4444444444444444,\"#bd3786\"],[0.5555555555555556,\"#d8576b\"],[0.6666666666666666,\"#ed7953\"],[0.7777777777777778,\"#fb9f3a\"],[0.8888888888888888,\"#fdca26\"],[1.0,\"#f0f921\"]],\"diverging\":[[0,\"#8e0152\"],[0.1,\"#c51b7d\"],[0.2,\"#de77ae\"],[0.3,\"#f1b6da\"],[0.4,\"#fde0ef\"],[0.5,\"#f7f7f7\"],[0.6,\"#e6f5d0\"],[0.7,\"#b8e186\"],[0.8,\"#7fbc41\"],[0.9,\"#4d9221\"],[1,\"#276419\"]]},\"xaxis\":{\"gridcolor\":\"white\",\"linecolor\":\"white\",\"ticks\":\"\",\"title\":{\"standoff\":15},\"zerolinecolor\":\"white\",\"automargin\":true,\"zerolinewidth\":2},\"yaxis\":{\"gridcolor\":\"white\",\"linecolor\":\"white\",\"ticks\":\"\",\"title\":{\"standoff\":15},\"zerolinecolor\":\"white\",\"automargin\":true,\"zerolinewidth\":2},\"scene\":{\"xaxis\":{\"backgroundcolor\":\"#E5ECF6\",\"gridcolor\":\"white\",\"linecolor\":\"white\",\"showbackground\":true,\"ticks\":\"\",\"zerolinecolor\":\"white\",\"gridwidth\":2},\"yaxis\":{\"backgroundcolor\":\"#E5ECF6\",\"gridcolor\":\"white\",\"linecolor\":\"white\",\"showbackground\":true,\"ticks\":\"\",\"zerolinecolor\":\"white\",\"gridwidth\":2},\"zaxis\":{\"backgroundcolor\":\"#E5ECF6\",\"gridcolor\":\"white\",\"linecolor\":\"white\",\"showbackground\":true,\"ticks\":\"\",\"zerolinecolor\":\"white\",\"gridwidth\":2}},\"shapedefaults\":{\"line\":{\"color\":\"#2a3f5f\"}},\"annotationdefaults\":{\"arrowcolor\":\"#2a3f5f\",\"arrowhead\":0,\"arrowwidth\":1},\"geo\":{\"bgcolor\":\"white\",\"landcolor\":\"#E5ECF6\",\"subunitcolor\":\"white\",\"showland\":true,\"showlakes\":true,\"lakecolor\":\"white\"},\"title\":{\"x\":0.05},\"mapbox\":{\"style\":\"light\"}}},\"title\":{\"text\":\"N\\u00famero de interna\\u00e7\\u00f5es por sexo e faixa et\\u00e1ria, Brasil, 2017-2021\",\"font\":{\"size\":22}},\"xaxis\":{\"title\":{\"text\":\"Frequ\\u00eancia\",\"font\":{\"size\":14}}},\"barmode\":\"relative\",\"bargap\":0.0,\"bargroupgap\":0},                        {\"responsive\": true}                    ).then(function(){\n",
       "                            \n",
       "var gd = document.getElementById('df6f1dc3-5bb5-414b-92ca-570e3058ba7a');\n",
       "var x = new MutationObserver(function (mutations, observer) {{\n",
       "        var display = window.getComputedStyle(gd).display;\n",
       "        if (!display || display === 'none') {{\n",
       "            console.log([gd, 'removed!']);\n",
       "            Plotly.purge(gd);\n",
       "            observer.disconnect();\n",
       "        }}\n",
       "}});\n",
       "\n",
       "// Listen for the removal of the full notebook cells\n",
       "var notebookContainer = gd.closest('#notebook-container');\n",
       "if (notebookContainer) {{\n",
       "    x.observe(notebookContainer, {childList: true});\n",
       "}}\n",
       "\n",
       "// Listen for the clearing of the current output cell\n",
       "var outputEl = gd.closest('.output');\n",
       "if (outputEl) {{\n",
       "    x.observe(outputEl, {childList: true});\n",
       "}}\n",
       "\n",
       "                        })                };                });            </script>        </div>"
      ]
     },
     "metadata": {},
     "output_type": "display_data"
    }
   ],
   "source": [
    "#PIRAMIDE ETÁRIA DAS INTERNAÇÕES\n",
    "sexo_idade = pd.DataFrame(sih_pneumo2[[\"SEXO\", \"FAIXA_ETARIA\"]])\n",
    "sexo_idade[\"FREQUENCIA\"] = 1\n",
    "sexo_idade = pd.DataFrame(sexo_idade.groupby([\"SEXO\", \"FAIXA_ETARIA\"])[\"FREQUENCIA\"].sum())\n",
    "sexo_idade.reset_index(inplace=True)\n",
    "sexo_idade = sexo_idade.pivot_table(index=[\"FAIXA_ETARIA\"], \n",
    "                                    columns='SEXO', \n",
    "                                    values='FREQUENCIA')\n",
    "sexo_idade.reset_index(inplace=True)\n",
    "sexo_idade.index.names = ['index']\n",
    "\n",
    "y_age = sexo_idade[\"FAIXA_ETARIA\"]\n",
    "x_F = sexo_idade[\"Feminino\"]*-1\n",
    "x_M = sexo_idade[\"Masculino\"]\n",
    "\n",
    "fig = gp.Figure()\n",
    "fig.add_trace(gp.Bar(y= y_age, x = x_M, \n",
    "                     name = 'Masculino', \n",
    "                     orientation = 'h',\n",
    "                     marker_color='#21918c'))\n",
    "fig.add_trace(gp.Bar(y = y_age, x = x_F,\n",
    "                     name = 'Feminino', \n",
    "                     orientation = 'h',\n",
    "                     marker_color='#440154'))\n",
    "fig.update_layout(title = 'Número de internações por sexo e faixa etária, Brasil, 2017-2021',\n",
    "                 title_font_size = 22, barmode = 'relative',\n",
    "                 bargap = 0.0, bargroupgap = 0,\n",
    "                 xaxis = dict(                                \n",
    "                              title = 'Frequência',\n",
    "                              title_font_size = 14)\n",
    "                 ) \n",
    "fig.show()"
   ]
  },
  {
   "cell_type": "code",
   "execution_count": 152,
   "metadata": {},
   "outputs": [
    {
     "data": {
      "text/html": [
       "<div>\n",
       "<style scoped>\n",
       "    .dataframe tbody tr th:only-of-type {\n",
       "        vertical-align: middle;\n",
       "    }\n",
       "\n",
       "    .dataframe tbody tr th {\n",
       "        vertical-align: top;\n",
       "    }\n",
       "\n",
       "    .dataframe thead th {\n",
       "        text-align: right;\n",
       "    }\n",
       "</style>\n",
       "<table border=\"1\" class=\"dataframe\">\n",
       "  <thead>\n",
       "    <tr style=\"text-align: right;\">\n",
       "      <th>ANO_INT</th>\n",
       "      <th>2017</th>\n",
       "      <th>2018</th>\n",
       "      <th>2019</th>\n",
       "      <th>2020</th>\n",
       "      <th>2021</th>\n",
       "      <th>All</th>\n",
       "    </tr>\n",
       "    <tr>\n",
       "      <th>MORTE</th>\n",
       "      <th></th>\n",
       "      <th></th>\n",
       "      <th></th>\n",
       "      <th></th>\n",
       "      <th></th>\n",
       "      <th></th>\n",
       "    </tr>\n",
       "  </thead>\n",
       "  <tbody>\n",
       "    <tr>\n",
       "      <th>0</th>\n",
       "      <td>139205</td>\n",
       "      <td>147447</td>\n",
       "      <td>153599</td>\n",
       "      <td>79974</td>\n",
       "      <td>76096</td>\n",
       "      <td>596321</td>\n",
       "    </tr>\n",
       "    <tr>\n",
       "      <th>1</th>\n",
       "      <td>12014</td>\n",
       "      <td>13471</td>\n",
       "      <td>15228</td>\n",
       "      <td>11544</td>\n",
       "      <td>10141</td>\n",
       "      <td>62398</td>\n",
       "    </tr>\n",
       "    <tr>\n",
       "      <th>All</th>\n",
       "      <td>151219</td>\n",
       "      <td>160918</td>\n",
       "      <td>168827</td>\n",
       "      <td>91518</td>\n",
       "      <td>86237</td>\n",
       "      <td>658719</td>\n",
       "    </tr>\n",
       "  </tbody>\n",
       "</table>\n",
       "</div>"
      ],
      "text/plain": [
       "ANO_INT    2017    2018    2019   2020   2021     All\n",
       "MORTE                                                \n",
       "0        139205  147447  153599  79974  76096  596321\n",
       "1         12014   13471   15228  11544  10141   62398\n",
       "All      151219  160918  168827  91518  86237  658719"
      ]
     },
     "execution_count": 152,
     "metadata": {},
     "output_type": "execute_result"
    }
   ],
   "source": [
    "#NÚMERO DE MORTES REGISTRADAS POR ANO\n",
    "mortes_por_ano = pd.DataFrame(pd.crosstab(sih_pneumo2['MORTE'], sih_pneumo2['ANO_INT'], margins=True))\n",
    "mortes_por_ano"
   ]
  },
  {
   "cell_type": "code",
   "execution_count": 153,
   "metadata": {},
   "outputs": [
    {
     "data": {
      "text/html": [
       "<div>\n",
       "<style scoped>\n",
       "    .dataframe tbody tr th:only-of-type {\n",
       "        vertical-align: middle;\n",
       "    }\n",
       "\n",
       "    .dataframe tbody tr th {\n",
       "        vertical-align: top;\n",
       "    }\n",
       "\n",
       "    .dataframe thead th {\n",
       "        text-align: right;\n",
       "    }\n",
       "</style>\n",
       "<table border=\"1\" class=\"dataframe\">\n",
       "  <thead>\n",
       "    <tr style=\"text-align: right;\">\n",
       "      <th>ANO_INT</th>\n",
       "      <th>2017</th>\n",
       "      <th>2018</th>\n",
       "      <th>2019</th>\n",
       "      <th>2020</th>\n",
       "      <th>2021</th>\n",
       "      <th>All</th>\n",
       "    </tr>\n",
       "    <tr>\n",
       "      <th>DIAG_PRINC</th>\n",
       "      <th></th>\n",
       "      <th></th>\n",
       "      <th></th>\n",
       "      <th></th>\n",
       "      <th></th>\n",
       "      <th></th>\n",
       "    </tr>\n",
       "  </thead>\n",
       "  <tbody>\n",
       "    <tr>\n",
       "      <th>J13 - Pneumonia Pneumocócica</th>\n",
       "      <td>2573</td>\n",
       "      <td>2702</td>\n",
       "      <td>2374</td>\n",
       "      <td>1008</td>\n",
       "      <td>690</td>\n",
       "      <td>9347</td>\n",
       "    </tr>\n",
       "    <tr>\n",
       "      <th>J14 - Pneumonia por Haemophilus infuenzae</th>\n",
       "      <td>422</td>\n",
       "      <td>183</td>\n",
       "      <td>165</td>\n",
       "      <td>105</td>\n",
       "      <td>132</td>\n",
       "      <td>1007</td>\n",
       "    </tr>\n",
       "    <tr>\n",
       "      <th>J153 - Pneumonia por Streptococus</th>\n",
       "      <td>409</td>\n",
       "      <td>471</td>\n",
       "      <td>301</td>\n",
       "      <td>144</td>\n",
       "      <td>112</td>\n",
       "      <td>1437</td>\n",
       "    </tr>\n",
       "    <tr>\n",
       "      <th>J154 - Pneumonia por Streptococus</th>\n",
       "      <td>1377</td>\n",
       "      <td>1272</td>\n",
       "      <td>1151</td>\n",
       "      <td>491</td>\n",
       "      <td>398</td>\n",
       "      <td>4689</td>\n",
       "    </tr>\n",
       "    <tr>\n",
       "      <th>J158 - Pneumonia bacteriana NE</th>\n",
       "      <td>55534</td>\n",
       "      <td>55849</td>\n",
       "      <td>55573</td>\n",
       "      <td>29364</td>\n",
       "      <td>28586</td>\n",
       "      <td>224906</td>\n",
       "    </tr>\n",
       "    <tr>\n",
       "      <th>J159 - Pneumonia bacteriana NE</th>\n",
       "      <td>85583</td>\n",
       "      <td>95533</td>\n",
       "      <td>104856</td>\n",
       "      <td>57946</td>\n",
       "      <td>53480</td>\n",
       "      <td>397398</td>\n",
       "    </tr>\n",
       "    <tr>\n",
       "      <th>J181 - Pneumonia lobar NE</th>\n",
       "      <td>5321</td>\n",
       "      <td>4908</td>\n",
       "      <td>4407</td>\n",
       "      <td>2460</td>\n",
       "      <td>2839</td>\n",
       "      <td>19935</td>\n",
       "    </tr>\n",
       "    <tr>\n",
       "      <th>All</th>\n",
       "      <td>151219</td>\n",
       "      <td>160918</td>\n",
       "      <td>168827</td>\n",
       "      <td>91518</td>\n",
       "      <td>86237</td>\n",
       "      <td>658719</td>\n",
       "    </tr>\n",
       "  </tbody>\n",
       "</table>\n",
       "</div>"
      ],
      "text/plain": [
       "ANO_INT                                      2017    2018    2019   2020  \\\n",
       "DIAG_PRINC                                                                 \n",
       "J13 - Pneumonia Pneumocócica                 2573    2702    2374   1008   \n",
       "J14 - Pneumonia por Haemophilus infuenzae     422     183     165    105   \n",
       "J153 - Pneumonia por Streptococus             409     471     301    144   \n",
       "J154 - Pneumonia por Streptococus            1377    1272    1151    491   \n",
       "J158 - Pneumonia bacteriana NE              55534   55849   55573  29364   \n",
       "J159 - Pneumonia bacteriana NE              85583   95533  104856  57946   \n",
       "J181 - Pneumonia lobar NE                    5321    4908    4407   2460   \n",
       "All                                        151219  160918  168827  91518   \n",
       "\n",
       "ANO_INT                                     2021     All  \n",
       "DIAG_PRINC                                                \n",
       "J13 - Pneumonia Pneumocócica                 690    9347  \n",
       "J14 - Pneumonia por Haemophilus infuenzae    132    1007  \n",
       "J153 - Pneumonia por Streptococus            112    1437  \n",
       "J154 - Pneumonia por Streptococus            398    4689  \n",
       "J158 - Pneumonia bacteriana NE             28586  224906  \n",
       "J159 - Pneumonia bacteriana NE             53480  397398  \n",
       "J181 - Pneumonia lobar NE                   2839   19935  \n",
       "All                                        86237  658719  "
      ]
     },
     "execution_count": 153,
     "metadata": {},
     "output_type": "execute_result"
    }
   ],
   "source": [
    "#CID PRINCIPAL POR ANO\n",
    "cid_por_ano = pd.DataFrame(pd.crosstab(sih_pneumo2['DIAG_PRINC'], sih_pneumo2['ANO_INT'], margins=True))\n",
    "cid_por_ano"
   ]
  },
  {
   "cell_type": "code",
   "execution_count": 154,
   "metadata": {},
   "outputs": [
    {
     "data": {
      "text/html": [
       "<div>\n",
       "<style scoped>\n",
       "    .dataframe tbody tr th:only-of-type {\n",
       "        vertical-align: middle;\n",
       "    }\n",
       "\n",
       "    .dataframe tbody tr th {\n",
       "        vertical-align: top;\n",
       "    }\n",
       "\n",
       "    .dataframe thead th {\n",
       "        text-align: right;\n",
       "    }\n",
       "</style>\n",
       "<table border=\"1\" class=\"dataframe\">\n",
       "  <thead>\n",
       "    <tr style=\"text-align: right;\">\n",
       "      <th>DIAG_PRINC</th>\n",
       "      <th>J13 - Pneumonia Pneumocócica</th>\n",
       "      <th>J14 - Pneumonia por Haemophilus infuenzae</th>\n",
       "      <th>J153 - Pneumonia por Streptococus</th>\n",
       "      <th>J154 - Pneumonia por Streptococus</th>\n",
       "      <th>J158 - Pneumonia bacteriana NE</th>\n",
       "      <th>J159 - Pneumonia bacteriana NE</th>\n",
       "      <th>J181 - Pneumonia lobar NE</th>\n",
       "      <th>All</th>\n",
       "    </tr>\n",
       "    <tr>\n",
       "      <th>MORTE</th>\n",
       "      <th></th>\n",
       "      <th></th>\n",
       "      <th></th>\n",
       "      <th></th>\n",
       "      <th></th>\n",
       "      <th></th>\n",
       "      <th></th>\n",
       "      <th></th>\n",
       "    </tr>\n",
       "  </thead>\n",
       "  <tbody>\n",
       "    <tr>\n",
       "      <th>0</th>\n",
       "      <td>8480</td>\n",
       "      <td>956</td>\n",
       "      <td>1217</td>\n",
       "      <td>4362</td>\n",
       "      <td>206761</td>\n",
       "      <td>356624</td>\n",
       "      <td>17921</td>\n",
       "      <td>596321</td>\n",
       "    </tr>\n",
       "    <tr>\n",
       "      <th>1</th>\n",
       "      <td>867</td>\n",
       "      <td>51</td>\n",
       "      <td>220</td>\n",
       "      <td>327</td>\n",
       "      <td>18145</td>\n",
       "      <td>40774</td>\n",
       "      <td>2014</td>\n",
       "      <td>62398</td>\n",
       "    </tr>\n",
       "    <tr>\n",
       "      <th>All</th>\n",
       "      <td>9347</td>\n",
       "      <td>1007</td>\n",
       "      <td>1437</td>\n",
       "      <td>4689</td>\n",
       "      <td>224906</td>\n",
       "      <td>397398</td>\n",
       "      <td>19935</td>\n",
       "      <td>658719</td>\n",
       "    </tr>\n",
       "  </tbody>\n",
       "</table>\n",
       "</div>"
      ],
      "text/plain": [
       "DIAG_PRINC  J13 - Pneumonia Pneumocócica  \\\n",
       "MORTE                                      \n",
       "0                                   8480   \n",
       "1                                    867   \n",
       "All                                 9347   \n",
       "\n",
       "DIAG_PRINC  J14 - Pneumonia por Haemophilus infuenzae  \\\n",
       "MORTE                                                   \n",
       "0                                                 956   \n",
       "1                                                  51   \n",
       "All                                              1007   \n",
       "\n",
       "DIAG_PRINC  J153 - Pneumonia por Streptococus  \\\n",
       "MORTE                                           \n",
       "0                                        1217   \n",
       "1                                         220   \n",
       "All                                      1437   \n",
       "\n",
       "DIAG_PRINC  J154 - Pneumonia por Streptococus  J158 - Pneumonia bacteriana NE  \\\n",
       "MORTE                                                                           \n",
       "0                                        4362                          206761   \n",
       "1                                         327                           18145   \n",
       "All                                      4689                          224906   \n",
       "\n",
       "DIAG_PRINC  J159 - Pneumonia bacteriana NE  J181 - Pneumonia lobar NE      All  \n",
       "MORTE                                                                           \n",
       "0                                   356624                       17921  596321  \n",
       "1                                    40774                        2014   62398  \n",
       "All                                 397398                       19935  658719  "
      ]
     },
     "execution_count": 154,
     "metadata": {},
     "output_type": "execute_result"
    }
   ],
   "source": [
    "#MORTALIDADE POR CID\n",
    "mortes_por_cid = pd.DataFrame(pd.crosstab(sih_pneumo2['MORTE'], sih_pneumo2['DIAG_PRINC'], margins=True))\n",
    "mortes_por_cid"
   ]
  },
  {
   "cell_type": "markdown",
   "metadata": {},
   "source": [
    "#### 3.2 Medidas resumo - variáveis numéricas"
   ]
  },
  {
   "cell_type": "code",
   "execution_count": 155,
   "metadata": {},
   "outputs": [
    {
     "data": {
      "text/plain": [
       "[Text(0.5, 0, 'Valores'),\n",
       " Text(0, 0.5, ''),\n",
       " Text(0.5, 1.0, 'Histograma de idade por internação, Brasil, 2017 - 2021')]"
      ]
     },
     "execution_count": 155,
     "metadata": {},
     "output_type": "execute_result"
    },
    {
     "data": {
      "image/png": "[encoded data removed]",
      "text/plain": [
       "<Figure size 1008x504 with 1 Axes>"
      ]
     },
     "metadata": {},
     "output_type": "display_data"
    }
   ],
   "source": [
    "#CRIANDO HISTOGRAMA DE IDADE\n",
    "sns.set(rc={'figure.figsize':(14, 7)})\n",
    "sns.set_theme(style=\"whitegrid\", palette=\"viridis\")\n",
    "\n",
    "hist1 = sns.histplot(x = \"IDADE\", data = sih_pneumo2, binwidth=5)\n",
    "hist1.set(xlabel =\"Valores\", ylabel = \"\", title ='Histograma de idade por internação, Brasil, 2017 - 2021')"
   ]
  },
  {
   "cell_type": "code",
   "execution_count": 156,
   "metadata": {},
   "outputs": [
    {
     "data": {
      "text/html": [
       "<div>\n",
       "<style scoped>\n",
       "    .dataframe tbody tr th:only-of-type {\n",
       "        vertical-align: middle;\n",
       "    }\n",
       "\n",
       "    .dataframe tbody tr th {\n",
       "        vertical-align: top;\n",
       "    }\n",
       "\n",
       "    .dataframe thead th {\n",
       "        text-align: right;\n",
       "    }\n",
       "</style>\n",
       "<table border=\"1\" class=\"dataframe\">\n",
       "  <thead>\n",
       "    <tr style=\"text-align: right;\">\n",
       "      <th></th>\n",
       "      <th>IDADE</th>\n",
       "    </tr>\n",
       "  </thead>\n",
       "  <tbody>\n",
       "    <tr>\n",
       "      <th>mean</th>\n",
       "      <td>43.2</td>\n",
       "    </tr>\n",
       "    <tr>\n",
       "      <th>std</th>\n",
       "      <td>33.4</td>\n",
       "    </tr>\n",
       "    <tr>\n",
       "      <th>median</th>\n",
       "      <td>49.0</td>\n",
       "    </tr>\n",
       "    <tr>\n",
       "      <th>min</th>\n",
       "      <td>0.0</td>\n",
       "    </tr>\n",
       "    <tr>\n",
       "      <th>max</th>\n",
       "      <td>99.0</td>\n",
       "    </tr>\n",
       "    <tr>\n",
       "      <th>iqr_25</th>\n",
       "      <td>6.0</td>\n",
       "    </tr>\n",
       "    <tr>\n",
       "      <th>iqr_75</th>\n",
       "      <td>75.0</td>\n",
       "    </tr>\n",
       "  </tbody>\n",
       "</table>\n",
       "</div>"
      ],
      "text/plain": [
       "        IDADE\n",
       "mean     43.2\n",
       "std      33.4\n",
       "median   49.0\n",
       "min       0.0\n",
       "max      99.0\n",
       "iqr_25    6.0\n",
       "iqr_75   75.0"
      ]
     },
     "execution_count": 156,
     "metadata": {},
     "output_type": "execute_result"
    }
   ],
   "source": [
    "#MEDIDAS RESUMO PARA A IDADE\n",
    "idade_resumo = pd.DataFrame(sih_pneumo2.agg({\"IDADE\":[\"mean\", \"std\", \"median\", \"min\", \"max\"]}).round(1))\n",
    "idade_resumo.loc[\"iqr_25\", 'IDADE'] = sih_pneumo2[\"IDADE\"].quantile(0.25)\n",
    "idade_resumo.loc[\"iqr_75\", 'IDADE'] = sih_pneumo2[\"IDADE\"].quantile(0.75)\n",
    "idade_resumo"
   ]
  },
  {
   "cell_type": "code",
   "execution_count": 157,
   "metadata": {},
   "outputs": [
    {
     "data": {
      "text/plain": [
       "[Text(0.5, 0, 'Valores'),\n",
       " Text(0, 0.5, ''),\n",
       " Text(0.5, 1.0, 'Histograma dias de permanencia por internação, Brasil, 2017 - 2021')]"
      ]
     },
     "execution_count": 157,
     "metadata": {},
     "output_type": "execute_result"
    },
    {
     "data": {
      "image/png": "[encoded data removed]",
      "text/plain": [
       "<Figure size 1008x504 with 1 Axes>"
      ]
     },
     "metadata": {},
     "output_type": "display_data"
    }
   ],
   "source": [
    "#CRIANDO HISTOGRAMA DE DIAS DE PERMANÊNCIA\n",
    "sns.set(rc={'figure.figsize':(14, 7)})\n",
    "sns.set_theme(style=\"whitegrid\", palette=\"viridis\")\n",
    "\n",
    "hist1 = sns.histplot(x = \"DIAS_PERM\", data = sih_pneumo2, binwidth=5)\n",
    "hist1.set(xlabel =\"Valores\", ylabel = \"\", title ='Histograma dias de permanencia por internação, Brasil, 2017 - 2021')"
   ]
  },
  {
   "cell_type": "code",
   "execution_count": 158,
   "metadata": {},
   "outputs": [
    {
     "data": {
      "text/html": [
       "<div>\n",
       "<style scoped>\n",
       "    .dataframe tbody tr th:only-of-type {\n",
       "        vertical-align: middle;\n",
       "    }\n",
       "\n",
       "    .dataframe tbody tr th {\n",
       "        vertical-align: top;\n",
       "    }\n",
       "\n",
       "    .dataframe thead th {\n",
       "        text-align: right;\n",
       "    }\n",
       "</style>\n",
       "<table border=\"1\" class=\"dataframe\">\n",
       "  <thead>\n",
       "    <tr style=\"text-align: right;\">\n",
       "      <th></th>\n",
       "      <th>DIAS_PERM</th>\n",
       "    </tr>\n",
       "  </thead>\n",
       "  <tbody>\n",
       "    <tr>\n",
       "      <th>mean</th>\n",
       "      <td>5.4</td>\n",
       "    </tr>\n",
       "    <tr>\n",
       "      <th>std</th>\n",
       "      <td>4.0</td>\n",
       "    </tr>\n",
       "    <tr>\n",
       "      <th>median</th>\n",
       "      <td>4.0</td>\n",
       "    </tr>\n",
       "    <tr>\n",
       "      <th>min</th>\n",
       "      <td>0.0</td>\n",
       "    </tr>\n",
       "    <tr>\n",
       "      <th>max</th>\n",
       "      <td>21.0</td>\n",
       "    </tr>\n",
       "    <tr>\n",
       "      <th>iqr_25</th>\n",
       "      <td>3.0</td>\n",
       "    </tr>\n",
       "    <tr>\n",
       "      <th>iqr_75</th>\n",
       "      <td>7.0</td>\n",
       "    </tr>\n",
       "  </tbody>\n",
       "</table>\n",
       "</div>"
      ],
      "text/plain": [
       "        DIAS_PERM\n",
       "mean          5.4\n",
       "std           4.0\n",
       "median        4.0\n",
       "min           0.0\n",
       "max          21.0\n",
       "iqr_25        3.0\n",
       "iqr_75        7.0"
      ]
     },
     "execution_count": 158,
     "metadata": {},
     "output_type": "execute_result"
    }
   ],
   "source": [
    "#MEDIDAS RESUMO PARA A DIAS DE PERMANENCIA \n",
    "diasperm_resumo = pd.DataFrame(sih_pneumo2.agg({\"DIAS_PERM\":[\"mean\", \"std\", \"median\", \"min\", \"max\"]}).round(1))\n",
    "diasperm_resumo.loc[\"iqr_25\", 'DIAS_PERM'] = sih_pneumo2[\"DIAS_PERM\"].quantile(0.25)\n",
    "diasperm_resumo.loc[\"iqr_75\", 'DIAS_PERM'] = sih_pneumo2[\"DIAS_PERM\"].quantile(0.75)\n",
    "diasperm_resumo"
   ]
  },
  {
   "cell_type": "code",
   "execution_count": 159,
   "metadata": {},
   "outputs": [
    {
     "data": {
      "text/plain": [
       "[Text(0.5, 0, 'Valores'),\n",
       " Text(0, 0.5, ''),\n",
       " Text(0.5, 1.0, 'Histograma dias de permanencia na UTI por internação, Brasil, 2017 - 2021')]"
      ]
     },
     "execution_count": 159,
     "metadata": {},
     "output_type": "execute_result"
    },
    {
     "data": {
      "image/png": "[encoded data removed]",
      "text/plain": [
       "<Figure size 1008x504 with 1 Axes>"
      ]
     },
     "metadata": {},
     "output_type": "display_data"
    }
   ],
   "source": [
    "#CRIANDO HISTOGRAMA DE DIAS DE PERMANÊNCIA NA UTI\n",
    "sns.set(rc={'figure.figsize':(14, 7)})\n",
    "sns.set_theme(style=\"whitegrid\", palette=\"viridis\")\n",
    "\n",
    "hist1 = sns.histplot(x = \"UTI_MES_TO\", data = sih_pneumo2, binwidth=1)\n",
    "hist1.set(xlabel =\"Valores\", ylabel = \"\", title ='Histograma dias de permanencia na UTI por internação, Brasil, 2017 - 2021')"
   ]
  },
  {
   "cell_type": "code",
   "execution_count": 160,
   "metadata": {},
   "outputs": [
    {
     "data": {
      "text/html": [
       "<div>\n",
       "<style scoped>\n",
       "    .dataframe tbody tr th:only-of-type {\n",
       "        vertical-align: middle;\n",
       "    }\n",
       "\n",
       "    .dataframe tbody tr th {\n",
       "        vertical-align: top;\n",
       "    }\n",
       "\n",
       "    .dataframe thead th {\n",
       "        text-align: right;\n",
       "    }\n",
       "</style>\n",
       "<table border=\"1\" class=\"dataframe\">\n",
       "  <thead>\n",
       "    <tr style=\"text-align: right;\">\n",
       "      <th></th>\n",
       "      <th>UTI_MES_TO</th>\n",
       "    </tr>\n",
       "  </thead>\n",
       "  <tbody>\n",
       "    <tr>\n",
       "      <th>mean</th>\n",
       "      <td>0.2</td>\n",
       "    </tr>\n",
       "    <tr>\n",
       "      <th>std</th>\n",
       "      <td>0.8</td>\n",
       "    </tr>\n",
       "    <tr>\n",
       "      <th>median</th>\n",
       "      <td>0.0</td>\n",
       "    </tr>\n",
       "    <tr>\n",
       "      <th>min</th>\n",
       "      <td>0.0</td>\n",
       "    </tr>\n",
       "    <tr>\n",
       "      <th>max</th>\n",
       "      <td>7.0</td>\n",
       "    </tr>\n",
       "    <tr>\n",
       "      <th>iqr_25</th>\n",
       "      <td>3.0</td>\n",
       "    </tr>\n",
       "    <tr>\n",
       "      <th>iqr_75</th>\n",
       "      <td>0.0</td>\n",
       "    </tr>\n",
       "  </tbody>\n",
       "</table>\n",
       "</div>"
      ],
      "text/plain": [
       "        UTI_MES_TO\n",
       "mean           0.2\n",
       "std            0.8\n",
       "median         0.0\n",
       "min            0.0\n",
       "max            7.0\n",
       "iqr_25         3.0\n",
       "iqr_75         0.0"
      ]
     },
     "execution_count": 160,
     "metadata": {},
     "output_type": "execute_result"
    }
   ],
   "source": [
    "#MEDIDAS RESUMO PARA A DIAS DE PERMANENCIA NA UTI\n",
    "diasperm_resumo = pd.DataFrame(sih_pneumo2.agg({\"UTI_MES_TO\":[\"mean\", \"std\", \"median\", \"min\", \"max\"]}).round(1))\n",
    "diasperm_resumo.loc[\"iqr_25\", 'UTI_MES_TO'] = sih_pneumo2[\"DIAS_PERM\"].quantile(0.25)\n",
    "diasperm_resumo.loc[\"iqr_75\", 'UTI_MES_TO'] = sih_pneumo2[\"UTI_MES_TO\"].quantile(0.75)\n",
    "diasperm_resumo"
   ]
  },
  {
   "cell_type": "markdown",
   "metadata": {},
   "source": [
    "#### 3.3 Calculando taxas"
   ]
  },
  {
   "cell_type": "code",
   "execution_count": 161,
   "metadata": {},
   "outputs": [
    {
     "data": {
      "text/html": [
       "<div>\n",
       "<style scoped>\n",
       "    .dataframe tbody tr th:only-of-type {\n",
       "        vertical-align: middle;\n",
       "    }\n",
       "\n",
       "    .dataframe tbody tr th {\n",
       "        vertical-align: top;\n",
       "    }\n",
       "\n",
       "    .dataframe thead th {\n",
       "        text-align: right;\n",
       "    }\n",
       "</style>\n",
       "<table border=\"1\" class=\"dataframe\">\n",
       "  <thead>\n",
       "    <tr style=\"text-align: right;\">\n",
       "      <th></th>\n",
       "      <th>DIAG_PRINC</th>\n",
       "      <th>LETALIDADE</th>\n",
       "    </tr>\n",
       "  </thead>\n",
       "  <tbody>\n",
       "    <tr>\n",
       "      <th>0</th>\n",
       "      <td>J13 - Pneumonia Pneumocócica</td>\n",
       "      <td>9.28</td>\n",
       "    </tr>\n",
       "    <tr>\n",
       "      <th>1</th>\n",
       "      <td>J14 - Pneumonia por Haemophilus infuenzae</td>\n",
       "      <td>5.06</td>\n",
       "    </tr>\n",
       "    <tr>\n",
       "      <th>2</th>\n",
       "      <td>J153 - Pneumonia por Streptococus</td>\n",
       "      <td>15.31</td>\n",
       "    </tr>\n",
       "    <tr>\n",
       "      <th>3</th>\n",
       "      <td>J154 - Pneumonia por Streptococus</td>\n",
       "      <td>6.97</td>\n",
       "    </tr>\n",
       "    <tr>\n",
       "      <th>4</th>\n",
       "      <td>J158 - Pneumonia bacteriana NE</td>\n",
       "      <td>8.07</td>\n",
       "    </tr>\n",
       "    <tr>\n",
       "      <th>5</th>\n",
       "      <td>J159 - Pneumonia bacteriana NE</td>\n",
       "      <td>10.26</td>\n",
       "    </tr>\n",
       "    <tr>\n",
       "      <th>6</th>\n",
       "      <td>J181 - Pneumonia lobar NE</td>\n",
       "      <td>10.10</td>\n",
       "    </tr>\n",
       "    <tr>\n",
       "      <th>7</th>\n",
       "      <td>All</td>\n",
       "      <td>9.47</td>\n",
       "    </tr>\n",
       "  </tbody>\n",
       "</table>\n",
       "</div>"
      ],
      "text/plain": [
       "                                  DIAG_PRINC  LETALIDADE\n",
       "0               J13 - Pneumonia Pneumocócica        9.28\n",
       "1  J14 - Pneumonia por Haemophilus infuenzae        5.06\n",
       "2          J153 - Pneumonia por Streptococus       15.31\n",
       "3          J154 - Pneumonia por Streptococus        6.97\n",
       "4             J158 - Pneumonia bacteriana NE        8.07\n",
       "5             J159 - Pneumonia bacteriana NE       10.26\n",
       "6                 J181 - Pneumonia lobar NE        10.10\n",
       "7                                        All        9.47"
      ]
     },
     "execution_count": 161,
     "metadata": {},
     "output_type": "execute_result"
    }
   ],
   "source": [
    "#LETALIDADE POR CID\n",
    "mortalidade_por_cid = pd.DataFrame((mortes_por_cid.loc[1,]/cid_por_ano[\"All\"]*100).round(2))\n",
    "mortalidade_por_cid.reset_index(inplace= True)\n",
    "mortalidade_por_cid.rename(columns= {0: \"LETALIDADE\"}, inplace= True)\n",
    "mortalidade_por_cid"
   ]
  },
  {
   "cell_type": "code",
   "execution_count": 162,
   "metadata": {},
   "outputs": [
    {
     "data": {
      "text/plain": [
       "[Text(0.5, 0, 'Taxa de letalidade por internação'),\n",
       " Text(0, 0.5, 'Diagnóstico principal'),\n",
       " Text(0.5, 1.0, 'Letalidade por internações por cid específica por pneumonia sensível à APS, Brasil, 2017 a 2021')]"
      ]
     },
     "execution_count": 162,
     "metadata": {},
     "output_type": "execute_result"
    },
    {
     "data": {
      "image/png": "[encoded data removed]",
      "text/plain": [
       "<Figure size 1008x720 with 1 Axes>"
      ]
     },
     "metadata": {},
     "output_type": "display_data"
    }
   ],
   "source": [
    "#GRÁFICO DE BARRAS POR CID\n",
    "mortalidade_por_cid2 = mortalidade_por_cid.loc[0:6,]\n",
    "\n",
    "order = mortalidade_por_cid2.groupby('DIAG_PRINC')['LETALIDADE'].sum().sort_values(ascending=False).index.values\n",
    "\n",
    "sns.set(rc={'figure.figsize':(14, 10)})\n",
    "sns.set_theme(style=\"whitegrid\", palette=\"viridis\")\n",
    "\n",
    "bar = sns.barplot(x = \"LETALIDADE\", y = \"DIAG_PRINC\", data = mortalidade_por_cid2, order = order)\n",
    "bar.set(xlabel =\"Taxa de letalidade por internação\", ylabel = \"Diagnóstico principal\", title ='Letalidade por internações por cid específica por pneumonia sensível à APS, Brasil, 2017 a 2021')"
   ]
  },
  {
   "cell_type": "code",
   "execution_count": 163,
   "metadata": {},
   "outputs": [
    {
     "data": {
      "text/html": [
       "<div>\n",
       "<style scoped>\n",
       "    .dataframe tbody tr th:only-of-type {\n",
       "        vertical-align: middle;\n",
       "    }\n",
       "\n",
       "    .dataframe tbody tr th {\n",
       "        vertical-align: top;\n",
       "    }\n",
       "\n",
       "    .dataframe thead th {\n",
       "        text-align: right;\n",
       "    }\n",
       "</style>\n",
       "<table border=\"1\" class=\"dataframe\">\n",
       "  <thead>\n",
       "    <tr style=\"text-align: right;\">\n",
       "      <th></th>\n",
       "      <th>ANO_INT</th>\n",
       "      <th>LETALIDADE</th>\n",
       "    </tr>\n",
       "  </thead>\n",
       "  <tbody>\n",
       "    <tr>\n",
       "      <th>0</th>\n",
       "      <td>2017</td>\n",
       "      <td>7.94</td>\n",
       "    </tr>\n",
       "    <tr>\n",
       "      <th>1</th>\n",
       "      <td>2018</td>\n",
       "      <td>8.37</td>\n",
       "    </tr>\n",
       "    <tr>\n",
       "      <th>2</th>\n",
       "      <td>2019</td>\n",
       "      <td>9.02</td>\n",
       "    </tr>\n",
       "    <tr>\n",
       "      <th>3</th>\n",
       "      <td>2020</td>\n",
       "      <td>12.61</td>\n",
       "    </tr>\n",
       "    <tr>\n",
       "      <th>4</th>\n",
       "      <td>2021</td>\n",
       "      <td>11.76</td>\n",
       "    </tr>\n",
       "    <tr>\n",
       "      <th>5</th>\n",
       "      <td>All</td>\n",
       "      <td>9.47</td>\n",
       "    </tr>\n",
       "  </tbody>\n",
       "</table>\n",
       "</div>"
      ],
      "text/plain": [
       "  ANO_INT  LETALIDADE\n",
       "0    2017        7.94\n",
       "1    2018        8.37\n",
       "2    2019        9.02\n",
       "3    2020       12.61\n",
       "4    2021       11.76\n",
       "5     All        9.47"
      ]
     },
     "execution_count": 163,
     "metadata": {},
     "output_type": "execute_result"
    }
   ],
   "source": [
    "#LETALIDADE POR INTERNAÇÕES\n",
    "letal_por_ano = pd.DataFrame((mortes_por_ano.loc[1,]/cid_por_ano.loc[\"All\",]*100).round(2))\n",
    "letal_por_ano.reset_index(inplace= True)\n",
    "letal_por_ano.rename(columns= {0: \"LETALIDADE\"}, inplace= True)\n",
    "letal_por_ano"
   ]
  },
  {
   "cell_type": "code",
   "execution_count": 164,
   "metadata": {},
   "outputs": [
    {
     "name": "stderr",
     "output_type": "stream",
     "text": [
      "/tmp/ipykernel_2050/1556816475.py:3: SettingWithCopyWarning:\n",
      "\n",
      "\n",
      "A value is trying to be set on a copy of a slice from a DataFrame.\n",
      "Try using .loc[row_indexer,col_indexer] = value instead\n",
      "\n",
      "See the caveats in the documentation: https://pandas.pydata.org/pandas-docs/stable/user_guide/indexing.html#returning-a-view-versus-a-copy\n",
      "\n"
     ]
    },
    {
     "data": {
      "text/plain": [
       "[[<matplotlib.axis.XTick at 0x7f1f391118e0>,\n",
       "  <matplotlib.axis.XTick at 0x7f1f391118b0>,\n",
       "  <matplotlib.axis.XTick at 0x7f1f390ab9d0>,\n",
       "  <matplotlib.axis.XTick at 0x7f1f390bc040>,\n",
       "  <matplotlib.axis.XTick at 0x7f1f390b7e80>],\n",
       " [<matplotlib.axis.YTick at 0x7f1f39095820>,\n",
       "  <matplotlib.axis.YTick at 0x7f1f390950a0>,\n",
       "  <matplotlib.axis.YTick at 0x7f1f390c7640>,\n",
       "  <matplotlib.axis.YTick at 0x7f1f390b7850>,\n",
       "  <matplotlib.axis.YTick at 0x7f1f390d26a0>,\n",
       "  <matplotlib.axis.YTick at 0x7f1f390d2df0>,\n",
       "  <matplotlib.axis.YTick at 0x7f1f3905a580>,\n",
       "  <matplotlib.axis.YTick at 0x7f1f39111100>]]"
      ]
     },
     "execution_count": 164,
     "metadata": {},
     "output_type": "execute_result"
    },
    {
     "data": {
      "image/png": "[encoded data removed]",
      "text/plain": [
       "<Figure size 1008x504 with 1 Axes>"
      ]
     },
     "metadata": {},
     "output_type": "display_data"
    }
   ],
   "source": [
    "#GRÁFICO DE LETALIDADE POR ANO\n",
    "letal_por_ano2 = letal_por_ano.loc[0:4,]\n",
    "letal_por_ano2[\"ANO_INT\"] = letal_por_ano2[\"ANO_INT\"].astype(\"int64\")\n",
    "\n",
    "sns.set(rc={'figure.figsize':(14, 7)})\n",
    "sns.set_theme(style=\"whitegrid\", palette=\"viridis\")\n",
    "\n",
    "line = sns.lineplot(x = \"ANO_INT\", y = \"LETALIDADE\", linewidth = 3, marker='o', data = letal_por_ano2)\n",
    "line.set(xlabel =\"Ano de internação\", ylabel = \"Letalidade\", title ='Letalidade por internações por pneumonia sensível à APS, Brasil, 2017 a 2021')\n",
    "line.set(xticks=np.arange(2017,2022,1), yticks=np.arange(0,16,2))"
   ]
  },
  {
   "cell_type": "code",
   "execution_count": 165,
   "metadata": {},
   "outputs": [
    {
     "data": {
      "text/html": [
       "<div>\n",
       "<style scoped>\n",
       "    .dataframe tbody tr th:only-of-type {\n",
       "        vertical-align: middle;\n",
       "    }\n",
       "\n",
       "    .dataframe tbody tr th {\n",
       "        vertical-align: top;\n",
       "    }\n",
       "\n",
       "    .dataframe thead th {\n",
       "        text-align: right;\n",
       "    }\n",
       "</style>\n",
       "<table border=\"1\" class=\"dataframe\">\n",
       "  <thead>\n",
       "    <tr style=\"text-align: right;\">\n",
       "      <th></th>\n",
       "      <th>FAIXA_ETARIA</th>\n",
       "      <th>LETALIDADE</th>\n",
       "    </tr>\n",
       "  </thead>\n",
       "  <tbody>\n",
       "    <tr>\n",
       "      <th>0</th>\n",
       "      <td>0 - 10</td>\n",
       "      <td>0.84</td>\n",
       "    </tr>\n",
       "    <tr>\n",
       "      <th>1</th>\n",
       "      <td>11-19</td>\n",
       "      <td>1.53</td>\n",
       "    </tr>\n",
       "    <tr>\n",
       "      <th>2</th>\n",
       "      <td>20-59</td>\n",
       "      <td>7.22</td>\n",
       "    </tr>\n",
       "    <tr>\n",
       "      <th>3</th>\n",
       "      <td>60+</td>\n",
       "      <td>18.31</td>\n",
       "    </tr>\n",
       "    <tr>\n",
       "      <th>4</th>\n",
       "      <td>All</td>\n",
       "      <td>9.47</td>\n",
       "    </tr>\n",
       "  </tbody>\n",
       "</table>\n",
       "</div>"
      ],
      "text/plain": [
       "  FAIXA_ETARIA  LETALIDADE\n",
       "0       0 - 10        0.84\n",
       "1        11-19        1.53\n",
       "2        20-59        7.22\n",
       "3          60+       18.31\n",
       "4          All        9.47"
      ]
     },
     "execution_count": 165,
     "metadata": {},
     "output_type": "execute_result"
    }
   ],
   "source": [
    "#LETALIDADE PADRONIZADA POR FAIXA ETÁRIA\n",
    "letal_por_fe = pd.DataFrame((mortalidade_por_fe[1]/mortalidade_por_fe['All']*100).round(2))\n",
    "letal_por_fe.reset_index(inplace = True)\n",
    "letal_por_fe.set_axis([\"FAIXA_ETARIA\", \"LETALIDADE\"], axis = 1, inplace = True)\n",
    "letal_por_fe\n"
   ]
  },
  {
   "cell_type": "code",
   "execution_count": 166,
   "metadata": {},
   "outputs": [
    {
     "data": {
      "text/plain": [
       "[Text(0.5, 0, 'Taxa de letalidade por faixa etária'),\n",
       " Text(0, 0.5, 'Faixa etária'),\n",
       " Text(0.5, 1.0, 'Letalidade por internações por faixa etária por pneumonia sensível à APS, Brasil, 2017 a 2021')]"
      ]
     },
     "execution_count": 166,
     "metadata": {},
     "output_type": "execute_result"
    },
    {
     "data": {
      "image/png": "[encoded data removed]",
      "text/plain": [
       "<Figure size 1008x720 with 1 Axes>"
      ]
     },
     "metadata": {},
     "output_type": "display_data"
    }
   ],
   "source": [
    "#GRÁFICO DE BARRAS DE LETALIDADE POR FAIXA DE IDADE\n",
    "letal_por_fe = letal_por_fe.loc[0:3,]\n",
    "\n",
    "sns.set(rc={'figure.figsize':(14, 10)})\n",
    "sns.set_theme(style=\"whitegrid\", palette=\"viridis\")\n",
    "\n",
    "bar2 = sns.barplot(x = \"LETALIDADE\", y = \"FAIXA_ETARIA\", data = letal_por_fe)\n",
    "bar2.set(xlabel =\"Taxa de letalidade por faixa etária\", ylabel = \"Faixa etária\", title ='Letalidade por internações por faixa etária por pneumonia sensível à APS, Brasil, 2017 a 2021')"
   ]
  },
  {
   "cell_type": "code",
   "execution_count": 167,
   "metadata": {},
   "outputs": [],
   "source": [
    "#TRATANDO DADOS DE REGIÃO DOS CASOS DE PNEUMONIA PARA CALCULAR TAXAS DE INTERNAÇÃO\n",
    "sih_pneumo2[\"REGIAO\"] = sih_pneumo2[\"UF\"].str.slice(0,1)\n",
    "sih_pneumo2[\"REGIAO\"] = sih_pneumo2[\"REGIAO\"].replace(regiao)"
   ]
  },
  {
   "cell_type": "code",
   "execution_count": 168,
   "metadata": {},
   "outputs": [
    {
     "data": {
      "text/html": [
       "<div>\n",
       "<style scoped>\n",
       "    .dataframe tbody tr th:only-of-type {\n",
       "        vertical-align: middle;\n",
       "    }\n",
       "\n",
       "    .dataframe tbody tr th {\n",
       "        vertical-align: top;\n",
       "    }\n",
       "\n",
       "    .dataframe thead th {\n",
       "        text-align: right;\n",
       "    }\n",
       "</style>\n",
       "<table border=\"1\" class=\"dataframe\">\n",
       "  <thead>\n",
       "    <tr style=\"text-align: right;\">\n",
       "      <th>REGIAO</th>\n",
       "      <th>ANO_INT</th>\n",
       "      <th>Centro_Oeste</th>\n",
       "      <th>Nordeste</th>\n",
       "      <th>Norte</th>\n",
       "      <th>Sudeste</th>\n",
       "      <th>Sul</th>\n",
       "    </tr>\n",
       "  </thead>\n",
       "  <tbody>\n",
       "    <tr>\n",
       "      <th>0</th>\n",
       "      <td>2017</td>\n",
       "      <td>74.6675</td>\n",
       "      <td>176.973333</td>\n",
       "      <td>232.137143</td>\n",
       "      <td>96.4275</td>\n",
       "      <td>40.086667</td>\n",
       "    </tr>\n",
       "    <tr>\n",
       "      <th>1</th>\n",
       "      <td>2018</td>\n",
       "      <td>76.0475</td>\n",
       "      <td>192.023333</td>\n",
       "      <td>225.270000</td>\n",
       "      <td>100.3475</td>\n",
       "      <td>40.340000</td>\n",
       "    </tr>\n",
       "    <tr>\n",
       "      <th>2</th>\n",
       "      <td>2019</td>\n",
       "      <td>84.2250</td>\n",
       "      <td>195.101111</td>\n",
       "      <td>222.355714</td>\n",
       "      <td>101.4100</td>\n",
       "      <td>40.020000</td>\n",
       "    </tr>\n",
       "    <tr>\n",
       "      <th>3</th>\n",
       "      <td>2020</td>\n",
       "      <td>46.3700</td>\n",
       "      <td>107.280000</td>\n",
       "      <td>140.718571</td>\n",
       "      <td>71.8050</td>\n",
       "      <td>23.303333</td>\n",
       "    </tr>\n",
       "    <tr>\n",
       "      <th>4</th>\n",
       "      <td>2021</td>\n",
       "      <td>33.8400</td>\n",
       "      <td>90.272222</td>\n",
       "      <td>152.111429</td>\n",
       "      <td>56.6025</td>\n",
       "      <td>20.143333</td>\n",
       "    </tr>\n",
       "  </tbody>\n",
       "</table>\n",
       "</div>"
      ],
      "text/plain": [
       "REGIAO  ANO_INT  Centro_Oeste    Nordeste       Norte   Sudeste        Sul\n",
       "0          2017       74.6675  176.973333  232.137143   96.4275  40.086667\n",
       "1          2018       76.0475  192.023333  225.270000  100.3475  40.340000\n",
       "2          2019       84.2250  195.101111  222.355714  101.4100  40.020000\n",
       "3          2020       46.3700  107.280000  140.718571   71.8050  23.303333\n",
       "4          2021       33.8400   90.272222  152.111429   56.6025  20.143333"
      ]
     },
     "execution_count": 168,
     "metadata": {},
     "output_type": "execute_result"
    }
   ],
   "source": [
    "#TAXA DE INTERNAÇÃO POR ANO E REGIÃO\n",
    "sih_pneumo3 = pd.DataFrame(sih_pneumo2.groupby(['REGIAO', 'ANO_INT'])['ANO_INT'].count())\n",
    "sih_pneumo3.rename(columns= {'ANO_INT':'CASOS_PNEUMONIA'}, inplace= True)\n",
    "sih_pneumo3.reset_index(inplace = True)\n",
    "sih_pneumo3['ANO_INT'] = sih_pneumo3['ANO_INT'].astype(str)\n",
    "sih_pneumo3.set_index(['REGIAO', 'ANO_INT'], inplace= True)\n",
    "\n",
    "internacoes_br2 = internacoes_br.drop(\"UF\", axis=1)\n",
    "internacoes_br2 = pd.melt(internacoes_br2, id_vars=[\"REGIAO\"])\n",
    "internacoes_br2.rename(columns= {'variable':'ANO_INT', 'value':'INTERNACOES'}, inplace= True)\n",
    "internacoes_br2.set_index(['REGIAO', 'ANO_INT'], inplace= True)\n",
    "\n",
    "taxa_uf_ano = internacoes_br2.merge(sih_pneumo3, right_index = True, left_index= True)\n",
    "taxa_uf_ano.reset_index(inplace = True)\n",
    "taxa_uf_ano['TAXA_INTERNACAO'] = (taxa_uf_ano['CASOS_PNEUMONIA']/taxa_uf_ano['INTERNACOES']*1000).round(2)\n",
    "\n",
    "taxa_uf_ano1 = taxa_uf_ano[['REGIAO', 'ANO_INT', 'TAXA_INTERNACAO']].copy()\n",
    "taxa_uf_ano1 = pd.pivot_table(taxa_uf_ano1, index = 'ANO_INT', columns='REGIAO', values= 'TAXA_INTERNACAO')\n",
    "taxa_uf_ano1.reset_index(inplace= True)\n",
    "taxa_uf_ano1.rename(columns={\"Centro-Oeste\":\"Centro_Oeste\"}, inplace= True)\n",
    "taxa_uf_ano1[\"ANO_INT\"] = taxa_uf_ano1[\"ANO_INT\"].astype(\"int64\")\n",
    "taxa_uf_ano1"
   ]
  },
  {
   "cell_type": "code",
   "execution_count": 169,
   "metadata": {},
   "outputs": [],
   "source": [
    "#SALVANDO DADOS EM LISTAS\n",
    "x = taxa_uf_ano1['ANO_INT']\n",
    "y1 = taxa_uf_ano1['Centro_Oeste']\n",
    "y2 = taxa_uf_ano1['Nordeste']\n",
    "y3 = taxa_uf_ano1['Norte']\n",
    "y4 = taxa_uf_ano1['Sudeste']\n",
    "y5 = taxa_uf_ano1['Sul']"
   ]
  },
  {
   "cell_type": "code",
   "execution_count": 170,
   "metadata": {},
   "outputs": [
    {
     "data": {
      "text/plain": [
       "Text(0, 0.5, 'Taxa de internação')"
      ]
     },
     "execution_count": 170,
     "metadata": {},
     "output_type": "execute_result"
    },
    {
     "data": {
      "image/png": "[encoded data removed]",
      "text/plain": [
       "<Figure size 1440x720 with 1 Axes>"
      ]
     },
     "metadata": {},
     "output_type": "display_data"
    }
   ],
   "source": [
    "#GRÁFICO DE ÁREA DE TAXA DE INTERNAÇÃO POR ANO \n",
    "sns.set(rc={'figure.figsize':(20, 10)})\n",
    "sns.set_theme(style=\"whitegrid\", palette=\"viridis\")\n",
    "\n",
    "plt.stackplot(x, y1, y2, y3, y4, y5, labels=['Centro-Oeste','Nordeste','Norte', 'Sudeste', 'Sul'])\n",
    "plt.xticks(x, x, rotation ='horizontal')\n",
    "plt.legend(loc='upper right')\n",
    "plt.title(\"Taxa de internação por Pneumonia sensível à APS por região, Brasil, 2017 - 2021\")\n",
    "plt.xlabel(\"Ano\")\n",
    "plt.ylabel(\"Taxa de internação\")"
   ]
  },
  {
   "cell_type": "markdown",
   "metadata": {},
   "source": [
    "#### 3.4 Análise de correlação e associação das variáveis"
   ]
  },
  {
   "cell_type": "code",
   "execution_count": 171,
   "metadata": {},
   "outputs": [
    {
     "data": {
      "text/html": [
       "<div>\n",
       "<style scoped>\n",
       "    .dataframe tbody tr th:only-of-type {\n",
       "        vertical-align: middle;\n",
       "    }\n",
       "\n",
       "    .dataframe tbody tr th {\n",
       "        vertical-align: top;\n",
       "    }\n",
       "\n",
       "    .dataframe thead th {\n",
       "        text-align: right;\n",
       "    }\n",
       "</style>\n",
       "<table border=\"1\" class=\"dataframe\">\n",
       "  <thead>\n",
       "    <tr style=\"text-align: right;\">\n",
       "      <th></th>\n",
       "      <th>N_AIH</th>\n",
       "      <th>IDADE</th>\n",
       "      <th>SEXO</th>\n",
       "      <th>MORTE</th>\n",
       "      <th>DIAS_PERM</th>\n",
       "      <th>DIAG_PRINC</th>\n",
       "      <th>DT_INTER</th>\n",
       "      <th>ANO_CMPT</th>\n",
       "      <th>MES_CMPT</th>\n",
       "      <th>MARCA_UTI</th>\n",
       "      <th>UTI_MES_TO</th>\n",
       "      <th>ANO_INT</th>\n",
       "      <th>UF</th>\n",
       "      <th>FAIXA_ETARIA</th>\n",
       "      <th>REGIAO</th>\n",
       "    </tr>\n",
       "  </thead>\n",
       "  <tbody>\n",
       "    <tr>\n",
       "      <th>0</th>\n",
       "      <td>1217100049066</td>\n",
       "      <td>74.0</td>\n",
       "      <td>Masculino</td>\n",
       "      <td>1</td>\n",
       "      <td>8</td>\n",
       "      <td>J159 - Pneumonia bacteriana NE</td>\n",
       "      <td>2017-01-23</td>\n",
       "      <td>2017</td>\n",
       "      <td>1</td>\n",
       "      <td>Não usou UTI</td>\n",
       "      <td>0</td>\n",
       "      <td>2017</td>\n",
       "      <td>12</td>\n",
       "      <td>60+</td>\n",
       "      <td>Norte</td>\n",
       "    </tr>\n",
       "    <tr>\n",
       "      <th>3</th>\n",
       "      <td>1217100051343</td>\n",
       "      <td>63.0</td>\n",
       "      <td>Masculino</td>\n",
       "      <td>0</td>\n",
       "      <td>1</td>\n",
       "      <td>J159 - Pneumonia bacteriana NE</td>\n",
       "      <td>2017-01-11</td>\n",
       "      <td>2017</td>\n",
       "      <td>1</td>\n",
       "      <td>Não usou UTI</td>\n",
       "      <td>0</td>\n",
       "      <td>2017</td>\n",
       "      <td>12</td>\n",
       "      <td>60+</td>\n",
       "      <td>Norte</td>\n",
       "    </tr>\n",
       "    <tr>\n",
       "      <th>5</th>\n",
       "      <td>1216100558520</td>\n",
       "      <td>74.0</td>\n",
       "      <td>Feminino</td>\n",
       "      <td>0</td>\n",
       "      <td>8</td>\n",
       "      <td>J159 - Pneumonia bacteriana NE</td>\n",
       "      <td>2017-01-17</td>\n",
       "      <td>2017</td>\n",
       "      <td>1</td>\n",
       "      <td>Não usou UTI</td>\n",
       "      <td>0</td>\n",
       "      <td>2017</td>\n",
       "      <td>12</td>\n",
       "      <td>60+</td>\n",
       "      <td>Norte</td>\n",
       "    </tr>\n",
       "    <tr>\n",
       "      <th>6</th>\n",
       "      <td>1216100558937</td>\n",
       "      <td>32.0</td>\n",
       "      <td>Feminino</td>\n",
       "      <td>1</td>\n",
       "      <td>7</td>\n",
       "      <td>J159 - Pneumonia bacteriana NE</td>\n",
       "      <td>2017-01-20</td>\n",
       "      <td>2017</td>\n",
       "      <td>1</td>\n",
       "      <td>Não usou UTI</td>\n",
       "      <td>0</td>\n",
       "      <td>2017</td>\n",
       "      <td>12</td>\n",
       "      <td>20-59</td>\n",
       "      <td>Norte</td>\n",
       "    </tr>\n",
       "    <tr>\n",
       "      <th>7</th>\n",
       "      <td>1217100046118</td>\n",
       "      <td>1.0</td>\n",
       "      <td>Feminino</td>\n",
       "      <td>0</td>\n",
       "      <td>5</td>\n",
       "      <td>J158 - Pneumonia bacteriana NE</td>\n",
       "      <td>2017-01-08</td>\n",
       "      <td>2017</td>\n",
       "      <td>1</td>\n",
       "      <td>Não usou UTI</td>\n",
       "      <td>0</td>\n",
       "      <td>2017</td>\n",
       "      <td>12</td>\n",
       "      <td>0 - 10</td>\n",
       "      <td>Norte</td>\n",
       "    </tr>\n",
       "  </tbody>\n",
       "</table>\n",
       "</div>"
      ],
      "text/plain": [
       "           N_AIH  IDADE       SEXO  MORTE  DIAS_PERM  \\\n",
       "0  1217100049066   74.0  Masculino      1          8   \n",
       "3  1217100051343   63.0  Masculino      0          1   \n",
       "5  1216100558520   74.0   Feminino      0          8   \n",
       "6  1216100558937   32.0   Feminino      1          7   \n",
       "7  1217100046118    1.0   Feminino      0          5   \n",
       "\n",
       "                       DIAG_PRINC   DT_INTER  ANO_CMPT  MES_CMPT  \\\n",
       "0  J159 - Pneumonia bacteriana NE 2017-01-23      2017         1   \n",
       "3  J159 - Pneumonia bacteriana NE 2017-01-11      2017         1   \n",
       "5  J159 - Pneumonia bacteriana NE 2017-01-17      2017         1   \n",
       "6  J159 - Pneumonia bacteriana NE 2017-01-20      2017         1   \n",
       "7  J158 - Pneumonia bacteriana NE 2017-01-08      2017         1   \n",
       "\n",
       "      MARCA_UTI  UTI_MES_TO  ANO_INT  UF FAIXA_ETARIA REGIAO  \n",
       "0  Não usou UTI           0     2017  12          60+  Norte  \n",
       "3  Não usou UTI           0     2017  12          60+  Norte  \n",
       "5  Não usou UTI           0     2017  12          60+  Norte  \n",
       "6  Não usou UTI           0     2017  12        20-59  Norte  \n",
       "7  Não usou UTI           0     2017  12       0 - 10  Norte  "
      ]
     },
     "execution_count": 171,
     "metadata": {},
     "output_type": "execute_result"
    }
   ],
   "source": [
    "sih_pneumo2.head()"
   ]
  },
  {
   "cell_type": "code",
   "execution_count": 172,
   "metadata": {},
   "outputs": [
    {
     "name": "stdout",
     "output_type": "stream",
     "text": [
      "<class 'pandas.core.frame.DataFrame'>\n",
      "Int64Index: 658719 entries, 1217100049066 to 1721101761060\n",
      "Data columns (total 8 columns):\n",
      " #   Column      Non-Null Count   Dtype  \n",
      "---  ------      --------------   -----  \n",
      " 0   IDADE       658719 non-null  float64\n",
      " 1   SEXO        658719 non-null  int64  \n",
      " 2   MORTE       658719 non-null  int64  \n",
      " 3   DIAS_PERM   658719 non-null  int64  \n",
      " 4   DIAG_PRINC  658719 non-null  int64  \n",
      " 5   MARCA_UTI   658719 non-null  int64  \n",
      " 6   UTI_MES_TO  658719 non-null  int64  \n",
      " 7   REGIAO      658719 non-null  int64  \n",
      "dtypes: float64(1), int64(7)\n",
      "memory usage: 45.2 MB\n"
     ]
    }
   ],
   "source": [
    "#TRANSFORMANDO DADOS PARA A ANÁLISE\n",
    "sih_fn = sih_pneumo2.copy()\n",
    "sih_fn.drop(['DT_INTER', 'ANO_CMPT', 'MES_CMPT', 'ANO_INT', 'UF', 'FAIXA_ETARIA'], axis = 1, inplace= True)\n",
    "sih_fn.set_index(\"N_AIH\", inplace = True)\n",
    "sih_fn['SEXO'] = np.where(sih_fn['SEXO'] == 'Masculino', 1, 0)\n",
    "sih_fn['DIAG_PRINC'] = np.where(sih_fn['DIAG_PRINC'] == 'J159 - Pneumonia bacteriana NE', 1, 0)\n",
    "sih_fn['MARCA_UTI'] = np.where(sih_fn['MARCA_UTI'] == 'Não usou UTI', 0, 1)\n",
    "sih_fn['REGIAO'] = np.where(sih_fn['REGIAO'] == 'Sudeste', 1, 0)\n",
    "sih_fn['REGIAO'] = np.where(sih_fn['REGIAO'] == 'Sudeste', 1, 0)\n",
    "\n",
    "sih_fn.info()"
   ]
  },
  {
   "cell_type": "code",
   "execution_count": 173,
   "metadata": {},
   "outputs": [],
   "source": [
    "#SALVANDO DATA.FRAME FINAL PARA O MODELO\n",
    "sih_fn = pd.read_csv(\"sih_pneumonia_1721_trat.csv\")"
   ]
  },
  {
   "cell_type": "markdown",
   "metadata": {},
   "source": [
    "##### 3.4.1 Correlação de variáveis numéricas"
   ]
  },
  {
   "cell_type": "code",
   "execution_count": 174,
   "metadata": {},
   "outputs": [
    {
     "data": {
      "text/plain": [
       "PearsonRResult(statistic=0.12088475909432952, pvalue=0.0)"
      ]
     },
     "execution_count": 174,
     "metadata": {},
     "output_type": "execute_result"
    }
   ],
   "source": [
    "#CORRELAÇÃO ENTRE IDADE E DIAS DE PERMANENCIA\n",
    "corr_idade_perm = pearsonr(sih_fn['IDADE'], sih_fn['DIAS_PERM'])\n",
    "corr_idade_perm"
   ]
  },
  {
   "cell_type": "code",
   "execution_count": 178,
   "metadata": {},
   "outputs": [
    {
     "data": {
      "text/plain": [
       "PearsonRResult(statistic=0.0415492485143513, pvalue=1.6866608274755888e-249)"
      ]
     },
     "execution_count": 178,
     "metadata": {},
     "output_type": "execute_result"
    }
   ],
   "source": [
    "#CORRELAÇÃO ENTRE IDADE E DIAS DE PERMANENCIA\n",
    "corr_idade_uti = pearsonr(sih_fn['IDADE'], sih_fn['UTI_MES_TO'])\n",
    "corr_idade_uti"
   ]
  },
  {
   "cell_type": "markdown",
   "metadata": {},
   "source": [
    "##### 3.4.2 Associação entre as variáveis"
   ]
  },
  {
   "cell_type": "code",
   "execution_count": 190,
   "metadata": {},
   "outputs": [
    {
     "name": "stdout",
     "output_type": "stream",
     "text": [
      "Não se pode rejeitar H0\n",
      "significancia=0.050, p=0.383\n",
      "Não se pode rejeitar H0\n"
     ]
    }
   ],
   "source": [
    "#ASSOCIAÇÃO ENTRE MORTE E SEXO\n",
    "sexo2 = pd.crosstab(sih_pneumo2['SEXO'], sih_pneumo2['MORTE'])\n",
    "\n",
    "stat, p, dof, expected = chi2_contingency(sexo2)\n",
    "\n",
    "prob = 0.95\n",
    "\n",
    "critical = chi2.ppf(prob, dof)\n",
    "\n",
    "if abs(stat) >= critical:\n",
    "\tprint('Rejeitar H0')\n",
    "else:\n",
    "\tprint('Não se pode rejeitar H0')\n",
    "\n",
    "alpha = 1.0 - prob\n",
    "\n",
    "print('significancia=%.3f, p=%.3f' % (alpha, p))\n",
    "\n",
    "if p <= alpha:\n",
    "\tprint('Rejeitar H0')\n",
    "else:\n",
    "\tprint('Não se pode rejeitar H0')"
   ]
  },
  {
   "cell_type": "code",
   "execution_count": 192,
   "metadata": {},
   "outputs": [
    {
     "data": {
      "text/html": [
       "<div>\n",
       "<style scoped>\n",
       "    .dataframe tbody tr th:only-of-type {\n",
       "        vertical-align: middle;\n",
       "    }\n",
       "\n",
       "    .dataframe tbody tr th {\n",
       "        vertical-align: top;\n",
       "    }\n",
       "\n",
       "    .dataframe thead th {\n",
       "        text-align: right;\n",
       "    }\n",
       "</style>\n",
       "<table border=\"1\" class=\"dataframe\">\n",
       "  <thead>\n",
       "    <tr style=\"text-align: right;\">\n",
       "      <th></th>\n",
       "      <th>N_AIH</th>\n",
       "      <th>IDADE</th>\n",
       "      <th>SEXO</th>\n",
       "      <th>MORTE</th>\n",
       "      <th>DIAS_PERM</th>\n",
       "      <th>DIAG_PRINC</th>\n",
       "      <th>DT_INTER</th>\n",
       "      <th>ANO_CMPT</th>\n",
       "      <th>MES_CMPT</th>\n",
       "      <th>MARCA_UTI</th>\n",
       "      <th>UTI_MES_TO</th>\n",
       "      <th>ANO_INT</th>\n",
       "      <th>UF</th>\n",
       "      <th>FAIXA_ETARIA</th>\n",
       "      <th>REGIAO</th>\n",
       "    </tr>\n",
       "  </thead>\n",
       "  <tbody>\n",
       "    <tr>\n",
       "      <th>0</th>\n",
       "      <td>1217100049066</td>\n",
       "      <td>74.0</td>\n",
       "      <td>Masculino</td>\n",
       "      <td>1</td>\n",
       "      <td>8</td>\n",
       "      <td>J159 - Pneumonia bacteriana NE</td>\n",
       "      <td>2017-01-23</td>\n",
       "      <td>2017</td>\n",
       "      <td>1</td>\n",
       "      <td>Não usou UTI</td>\n",
       "      <td>0</td>\n",
       "      <td>2017</td>\n",
       "      <td>12</td>\n",
       "      <td>60+</td>\n",
       "      <td>Norte</td>\n",
       "    </tr>\n",
       "    <tr>\n",
       "      <th>3</th>\n",
       "      <td>1217100051343</td>\n",
       "      <td>63.0</td>\n",
       "      <td>Masculino</td>\n",
       "      <td>0</td>\n",
       "      <td>1</td>\n",
       "      <td>J159 - Pneumonia bacteriana NE</td>\n",
       "      <td>2017-01-11</td>\n",
       "      <td>2017</td>\n",
       "      <td>1</td>\n",
       "      <td>Não usou UTI</td>\n",
       "      <td>0</td>\n",
       "      <td>2017</td>\n",
       "      <td>12</td>\n",
       "      <td>60+</td>\n",
       "      <td>Norte</td>\n",
       "    </tr>\n",
       "    <tr>\n",
       "      <th>5</th>\n",
       "      <td>1216100558520</td>\n",
       "      <td>74.0</td>\n",
       "      <td>Feminino</td>\n",
       "      <td>0</td>\n",
       "      <td>8</td>\n",
       "      <td>J159 - Pneumonia bacteriana NE</td>\n",
       "      <td>2017-01-17</td>\n",
       "      <td>2017</td>\n",
       "      <td>1</td>\n",
       "      <td>Não usou UTI</td>\n",
       "      <td>0</td>\n",
       "      <td>2017</td>\n",
       "      <td>12</td>\n",
       "      <td>60+</td>\n",
       "      <td>Norte</td>\n",
       "    </tr>\n",
       "    <tr>\n",
       "      <th>6</th>\n",
       "      <td>1216100558937</td>\n",
       "      <td>32.0</td>\n",
       "      <td>Feminino</td>\n",
       "      <td>1</td>\n",
       "      <td>7</td>\n",
       "      <td>J159 - Pneumonia bacteriana NE</td>\n",
       "      <td>2017-01-20</td>\n",
       "      <td>2017</td>\n",
       "      <td>1</td>\n",
       "      <td>Não usou UTI</td>\n",
       "      <td>0</td>\n",
       "      <td>2017</td>\n",
       "      <td>12</td>\n",
       "      <td>20-59</td>\n",
       "      <td>Norte</td>\n",
       "    </tr>\n",
       "    <tr>\n",
       "      <th>7</th>\n",
       "      <td>1217100046118</td>\n",
       "      <td>1.0</td>\n",
       "      <td>Feminino</td>\n",
       "      <td>0</td>\n",
       "      <td>5</td>\n",
       "      <td>J158 - Pneumonia bacteriana NE</td>\n",
       "      <td>2017-01-08</td>\n",
       "      <td>2017</td>\n",
       "      <td>1</td>\n",
       "      <td>Não usou UTI</td>\n",
       "      <td>0</td>\n",
       "      <td>2017</td>\n",
       "      <td>12</td>\n",
       "      <td>0 - 10</td>\n",
       "      <td>Norte</td>\n",
       "    </tr>\n",
       "    <tr>\n",
       "      <th>...</th>\n",
       "      <td>...</td>\n",
       "      <td>...</td>\n",
       "      <td>...</td>\n",
       "      <td>...</td>\n",
       "      <td>...</td>\n",
       "      <td>...</td>\n",
       "      <td>...</td>\n",
       "      <td>...</td>\n",
       "      <td>...</td>\n",
       "      <td>...</td>\n",
       "      <td>...</td>\n",
       "      <td>...</td>\n",
       "      <td>...</td>\n",
       "      <td>...</td>\n",
       "      <td>...</td>\n",
       "    </tr>\n",
       "    <tr>\n",
       "      <th>734144</th>\n",
       "      <td>1721101839105</td>\n",
       "      <td>75.0</td>\n",
       "      <td>Masculino</td>\n",
       "      <td>0</td>\n",
       "      <td>18</td>\n",
       "      <td>J158 - Pneumonia bacteriana NE</td>\n",
       "      <td>2021-12-13</td>\n",
       "      <td>2022</td>\n",
       "      <td>3</td>\n",
       "      <td>Não usou UTI</td>\n",
       "      <td>0</td>\n",
       "      <td>2021</td>\n",
       "      <td>17</td>\n",
       "      <td>60+</td>\n",
       "      <td>Norte</td>\n",
       "    </tr>\n",
       "    <tr>\n",
       "      <th>734148</th>\n",
       "      <td>1721101788659</td>\n",
       "      <td>66.0</td>\n",
       "      <td>Feminino</td>\n",
       "      <td>0</td>\n",
       "      <td>13</td>\n",
       "      <td>J159 - Pneumonia bacteriana NE</td>\n",
       "      <td>2021-11-22</td>\n",
       "      <td>2022</td>\n",
       "      <td>3</td>\n",
       "      <td>Não usou UTI</td>\n",
       "      <td>0</td>\n",
       "      <td>2021</td>\n",
       "      <td>17</td>\n",
       "      <td>60+</td>\n",
       "      <td>Norte</td>\n",
       "    </tr>\n",
       "    <tr>\n",
       "      <th>734150</th>\n",
       "      <td>1721101839644</td>\n",
       "      <td>81.0</td>\n",
       "      <td>Masculino</td>\n",
       "      <td>0</td>\n",
       "      <td>9</td>\n",
       "      <td>J154 - Pneumonia por Streptococus</td>\n",
       "      <td>2021-12-22</td>\n",
       "      <td>2022</td>\n",
       "      <td>3</td>\n",
       "      <td>Não usou UTI</td>\n",
       "      <td>0</td>\n",
       "      <td>2021</td>\n",
       "      <td>17</td>\n",
       "      <td>60+</td>\n",
       "      <td>Norte</td>\n",
       "    </tr>\n",
       "    <tr>\n",
       "      <th>734154</th>\n",
       "      <td>1721101761038</td>\n",
       "      <td>3.0</td>\n",
       "      <td>Feminino</td>\n",
       "      <td>0</td>\n",
       "      <td>2</td>\n",
       "      <td>J159 - Pneumonia bacteriana NE</td>\n",
       "      <td>2021-12-03</td>\n",
       "      <td>2022</td>\n",
       "      <td>3</td>\n",
       "      <td>Não usou UTI</td>\n",
       "      <td>0</td>\n",
       "      <td>2021</td>\n",
       "      <td>17</td>\n",
       "      <td>0 - 10</td>\n",
       "      <td>Norte</td>\n",
       "    </tr>\n",
       "    <tr>\n",
       "      <th>734155</th>\n",
       "      <td>1721101761060</td>\n",
       "      <td>10.0</td>\n",
       "      <td>Feminino</td>\n",
       "      <td>0</td>\n",
       "      <td>1</td>\n",
       "      <td>J159 - Pneumonia bacteriana NE</td>\n",
       "      <td>2021-12-14</td>\n",
       "      <td>2022</td>\n",
       "      <td>3</td>\n",
       "      <td>Não usou UTI</td>\n",
       "      <td>0</td>\n",
       "      <td>2021</td>\n",
       "      <td>17</td>\n",
       "      <td>0 - 10</td>\n",
       "      <td>Norte</td>\n",
       "    </tr>\n",
       "  </tbody>\n",
       "</table>\n",
       "<p>658719 rows × 15 columns</p>\n",
       "</div>"
      ],
      "text/plain": [
       "                N_AIH  IDADE       SEXO  MORTE  DIAS_PERM  \\\n",
       "0       1217100049066   74.0  Masculino      1          8   \n",
       "3       1217100051343   63.0  Masculino      0          1   \n",
       "5       1216100558520   74.0   Feminino      0          8   \n",
       "6       1216100558937   32.0   Feminino      1          7   \n",
       "7       1217100046118    1.0   Feminino      0          5   \n",
       "...               ...    ...        ...    ...        ...   \n",
       "734144  1721101839105   75.0  Masculino      0         18   \n",
       "734148  1721101788659   66.0   Feminino      0         13   \n",
       "734150  1721101839644   81.0  Masculino      0          9   \n",
       "734154  1721101761038    3.0   Feminino      0          2   \n",
       "734155  1721101761060   10.0   Feminino      0          1   \n",
       "\n",
       "                               DIAG_PRINC   DT_INTER  ANO_CMPT  MES_CMPT  \\\n",
       "0          J159 - Pneumonia bacteriana NE 2017-01-23      2017         1   \n",
       "3          J159 - Pneumonia bacteriana NE 2017-01-11      2017         1   \n",
       "5          J159 - Pneumonia bacteriana NE 2017-01-17      2017         1   \n",
       "6          J159 - Pneumonia bacteriana NE 2017-01-20      2017         1   \n",
       "7          J158 - Pneumonia bacteriana NE 2017-01-08      2017         1   \n",
       "...                                   ...        ...       ...       ...   \n",
       "734144     J158 - Pneumonia bacteriana NE 2021-12-13      2022         3   \n",
       "734148     J159 - Pneumonia bacteriana NE 2021-11-22      2022         3   \n",
       "734150  J154 - Pneumonia por Streptococus 2021-12-22      2022         3   \n",
       "734154     J159 - Pneumonia bacteriana NE 2021-12-03      2022         3   \n",
       "734155     J159 - Pneumonia bacteriana NE 2021-12-14      2022         3   \n",
       "\n",
       "           MARCA_UTI  UTI_MES_TO  ANO_INT  UF FAIXA_ETARIA REGIAO  \n",
       "0       Não usou UTI           0     2017  12          60+  Norte  \n",
       "3       Não usou UTI           0     2017  12          60+  Norte  \n",
       "5       Não usou UTI           0     2017  12          60+  Norte  \n",
       "6       Não usou UTI           0     2017  12        20-59  Norte  \n",
       "7       Não usou UTI           0     2017  12       0 - 10  Norte  \n",
       "...              ...         ...      ...  ..          ...    ...  \n",
       "734144  Não usou UTI           0     2021  17          60+  Norte  \n",
       "734148  Não usou UTI           0     2021  17          60+  Norte  \n",
       "734150  Não usou UTI           0     2021  17          60+  Norte  \n",
       "734154  Não usou UTI           0     2021  17       0 - 10  Norte  \n",
       "734155  Não usou UTI           0     2021  17       0 - 10  Norte  \n",
       "\n",
       "[658719 rows x 15 columns]"
      ]
     },
     "execution_count": 192,
     "metadata": {},
     "output_type": "execute_result"
    }
   ],
   "source": [
    "sih_pneumo2"
   ]
  },
  {
   "cell_type": "code",
   "execution_count": 193,
   "metadata": {},
   "outputs": [
    {
     "name": "stdout",
     "output_type": "stream",
     "text": [
      "Rejeitar H0\n",
      "significancia=0.050, p=0.000\n",
      "Rejeitar H0\n"
     ]
    }
   ],
   "source": [
    "#ASSOCIAÇÃO ENTRE MORTE E DIAGNÓSTICO PRINCIPAL\n",
    "diag = pd.crosstab(sih_fn['DIAG_PRINC'], sih_fn['MORTE'])\n",
    "\n",
    "stat, p, dof, expected = chi2_contingency(diag)\n",
    "\n",
    "prob = 0.95\n",
    "\n",
    "critical = chi2.ppf(prob, dof)\n",
    "\n",
    "if abs(stat) >= critical:\n",
    "\tprint('Rejeitar H0')\n",
    "else:\n",
    "\tprint('Não se pode rejeitar H0')\n",
    "\n",
    "alpha = 1.0 - prob\n",
    "\n",
    "print('significancia=%.3f, p=%.3f' % (alpha, p))\n",
    "\n",
    "if p <= alpha:\n",
    "\tprint('Rejeitar H0')\n",
    "else:\n",
    "\tprint('Não se pode rejeitar H0')"
   ]
  },
  {
   "cell_type": "code",
   "execution_count": 196,
   "metadata": {},
   "outputs": [
    {
     "name": "stdout",
     "output_type": "stream",
     "text": [
      "Rejeitar H0\n",
      "significancia=0.050, p=0.000\n",
      "Rejeitar H0\n"
     ]
    }
   ],
   "source": [
    "#ASSOCIAÇÃO ENTRE MORTE E UTI\n",
    "uti2 = pd.crosstab(sih_fn['MORTE'], sih_fn['MARCA_UTI'])\n",
    "\n",
    "stat, p, dof, expected = chi2_contingency(uti2)\n",
    "\n",
    "prob = 0.95\n",
    "\n",
    "critical = chi2.ppf(prob, dof)\n",
    "\n",
    "if abs(stat) >= critical:\n",
    "\tprint('Rejeitar H0')\n",
    "else:\n",
    "\tprint('Não se pode rejeitar H0')\n",
    "\n",
    "alpha = 1.0 - prob\n",
    "\n",
    "print('significancia=%.3f, p=%.3f' % (alpha, p))\n",
    "\n",
    "if p <= alpha:\n",
    "\tprint('Rejeitar H0')\n",
    "else:\n",
    "\tprint('Não se pode rejeitar H0')"
   ]
  },
  {
   "cell_type": "code",
   "execution_count": 197,
   "metadata": {},
   "outputs": [
    {
     "name": "stdout",
     "output_type": "stream",
     "text": [
      "Rejeitar H0\n",
      "significancia=0.050, p=0.000\n",
      "Rejeitar H0\n"
     ]
    }
   ],
   "source": [
    "#ASSOCIAÇÃO ENTRE MORTE E REGIÃO\n",
    "regiao2 = pd.crosstab(sih_fn['MORTE'], sih_fn['MARCA_UTI'])\n",
    "\n",
    "stat, p, dof, expected = chi2_contingency(regiao2)\n",
    "\n",
    "prob = 0.95\n",
    "\n",
    "critical = chi2.ppf(prob, dof)\n",
    "\n",
    "if abs(stat) >= critical:\n",
    "\tprint('Rejeitar H0')\n",
    "else:\n",
    "\tprint('Não se pode rejeitar H0')\n",
    "\n",
    "alpha = 1.0 - prob\n",
    "\n",
    "print('significancia=%.3f, p=%.3f' % (alpha, p))\n",
    "\n",
    "if p <= alpha:\n",
    "\tprint('Rejeitar H0')\n",
    "else:\n",
    "\tprint('Não se pode rejeitar H0')"
   ]
  }
 ],
 "metadata": {
  "kernelspec": {
   "display_name": "Python 3.8.10 64-bit",
   "language": "python",
   "name": "python3"
  },
  "language_info": {
   "codemirror_mode": {
    "name": "ipython",
    "version": 3
   },
   "file_extension": ".py",
   "mimetype": "text/x-python",
   "name": "python",
   "nbconvert_exporter": "python",
   "pygments_lexer": "ipython3",
   "version": "3.8.10"
  },
  "orig_nbformat": 4,
  "vscode": {
   "interpreter": {
    "hash": "916dbcbb3f70747c44a77c7bcd40155683ae19c65e1c03b4aa3499c5328201f1"
   }
  }
 },
 "nbformat": 4,
 "nbformat_minor": 2
}

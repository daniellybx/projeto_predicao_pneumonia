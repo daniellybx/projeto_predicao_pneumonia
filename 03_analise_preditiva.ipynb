{
 "cells": [
  {
   "cell_type": "markdown",
   "metadata": {},
   "source": [
    "# Predição de mortalidade em internações por pneumonias bacterianas sensíveis à Atenção Primária no Brasil, 2017-2021"
   ]
  },
  {
   "cell_type": "markdown",
   "metadata": {},
   "source": [
    "## Análise preditiva"
   ]
  },
  {
   "cell_type": "markdown",
   "metadata": {},
   "source": [
    "### 1. Importando pacotes de análise"
   ]
  },
  {
   "cell_type": "code",
   "execution_count": 72,
   "metadata": {},
   "outputs": [],
   "source": [
    "# IMPORTANDO PACOTES \n",
    "import matplotlib.pyplot as plt\n",
    "import matplotlib.ticker as ticker\n",
    "import numpy as np\n",
    "import pandas as pd  \n",
    "import chart_studio.plotly as py\n",
    "import plotly.graph_objs as gp \n",
    "import seaborn as sns\n",
    "import statsmodels.formula.api as smf\n",
    "\n",
    "from sklearn.model_selection import train_test_split"
   ]
  },
  {
   "cell_type": "markdown",
   "metadata": {},
   "source": [
    "### 2. Importando dados"
   ]
  },
  {
   "cell_type": "code",
   "execution_count": 73,
   "metadata": {},
   "outputs": [
    {
     "name": "stdout",
     "output_type": "stream",
     "text": [
      "<class 'pandas.core.frame.DataFrame'>\n",
      "Int64Index: 658719 entries, 1217100049066 to 1721101761060\n",
      "Data columns (total 8 columns):\n",
      " #   Column      Non-Null Count   Dtype  \n",
      "---  ------      --------------   -----  \n",
      " 0   IDADE       658719 non-null  float64\n",
      " 1   SEXO        658719 non-null  int64  \n",
      " 2   MORTE       658719 non-null  int64  \n",
      " 3   DIAS_PERM   658719 non-null  int64  \n",
      " 4   DIAG_PRINC  658719 non-null  int64  \n",
      " 5   MARCA_UTI   658719 non-null  int64  \n",
      " 6   UTI_MES_TO  658719 non-null  int64  \n",
      " 7   REGIAO      658719 non-null  int64  \n",
      "dtypes: float64(1), int64(7)\n",
      "memory usage: 45.2 MB\n"
     ]
    }
   ],
   "source": [
    "#IMPOTANDO DADOS\n",
    "sih_fn = pd.read_csv(\"sih_pneumonia_1721_trat.csv\", index_col= 'N_AIH')\n",
    "sih_fn.info()"
   ]
  },
  {
   "cell_type": "code",
   "execution_count": 74,
   "metadata": {},
   "outputs": [
    {
     "name": "stdout",
     "output_type": "stream",
     "text": [
      "<class 'pandas.core.frame.DataFrame'>\n",
      "Int64Index: 658719 entries, 1217100049066 to 1721101761060\n",
      "Data columns (total 8 columns):\n",
      " #   Column      Non-Null Count   Dtype  \n",
      "---  ------      --------------   -----  \n",
      " 0   IDADE       658719 non-null  float64\n",
      " 1   SEXO        658719 non-null  int64  \n",
      " 2   MORTE       658719 non-null  int64  \n",
      " 3   DIAS_PERM   658719 non-null  float64\n",
      " 4   DIAG_PRINC  658719 non-null  int64  \n",
      " 5   MARCA_UTI   658719 non-null  int64  \n",
      " 6   UTI_MES_TO  658719 non-null  int64  \n",
      " 7   REGIAO      658719 non-null  int64  \n",
      "dtypes: float64(2), int64(6)\n",
      "memory usage: 45.2 MB\n"
     ]
    }
   ],
   "source": [
    "#TRANSFORMANDO DADOS\n",
    "sih_fn[\"DIAS_PERM\"] = sih_fn[\"DIAS_PERM\"].astype(float)\n",
    "sih_fn.info()"
   ]
  },
  {
   "cell_type": "markdown",
   "metadata": {},
   "source": [
    "### 3. Definindo teste e treino"
   ]
  },
  {
   "cell_type": "code",
   "execution_count": 75,
   "metadata": {},
   "outputs": [],
   "source": [
    "#SEPARANDO OS DADOS\n",
    "train, test = train_test_split(sih_fn, train_size=0.70, random_state=42)"
   ]
  },
  {
   "cell_type": "markdown",
   "metadata": {},
   "source": [
    "### 4. Testando algoritmos de classificação"
   ]
  },
  {
   "cell_type": "markdown",
   "metadata": {},
   "source": [
    "#### 4.1 Regressão Logística"
   ]
  },
  {
   "cell_type": "code",
   "execution_count": 76,
   "metadata": {},
   "outputs": [
    {
     "name": "stdout",
     "output_type": "stream",
     "text": [
      "Optimization terminated successfully.\n",
      "         Current function value: 0.267568\n",
      "         Iterations 8\n",
      "                           Logit Regression Results                           \n",
      "==============================================================================\n",
      "Dep. Variable:                  MORTE   No. Observations:               461103\n",
      "Model:                          Logit   Df Residuals:                   461100\n",
      "Method:                           MLE   Df Model:                            2\n",
      "Date:                Sun, 18 Sep 2022   Pseudo R-squ.:                  0.1464\n",
      "Time:                        10:40:12   Log-Likelihood:            -1.2338e+05\n",
      "converged:                       True   LL-Null:                   -1.4453e+05\n",
      "Covariance Type:            nonrobust   LLR p-value:                     0.000\n",
      "==============================================================================\n",
      "                 coef    std err          z      P>|z|      [0.025      0.975]\n",
      "------------------------------------------------------------------------------\n",
      "Intercept     -4.6370      0.019   -242.881      0.000      -4.674      -4.600\n",
      "IDADE          0.0394      0.000    162.651      0.000       0.039       0.040\n",
      "SEXO           0.1320      0.011     12.480      0.000       0.111       0.153\n",
      "==============================================================================\n"
     ]
    }
   ],
   "source": [
    "log_reg1 = smf.logit(\"MORTE ~ IDADE + SEXO\", data = train).fit()\n",
    "print(log_reg1.summary())"
   ]
  },
  {
   "cell_type": "code",
   "execution_count": 77,
   "metadata": {},
   "outputs": [
    {
     "name": "stdout",
     "output_type": "stream",
     "text": [
      "Optimization terminated successfully.\n",
      "         Current function value: 0.267729\n",
      "         Iterations 8\n",
      "                           Logit Regression Results                           \n",
      "==============================================================================\n",
      "Dep. Variable:                  MORTE   No. Observations:               461103\n",
      "Model:                          Logit   Df Residuals:                   461100\n",
      "Method:                           MLE   Df Model:                            2\n",
      "Date:                Sun, 18 Sep 2022   Pseudo R-squ.:                  0.1458\n",
      "Time:                        10:40:15   Log-Likelihood:            -1.2345e+05\n",
      "converged:                       True   LL-Null:                   -1.4453e+05\n",
      "Covariance Type:            nonrobust   LLR p-value:                     0.000\n",
      "==============================================================================\n",
      "                 coef    std err          z      P>|z|      [0.025      0.975]\n",
      "------------------------------------------------------------------------------\n",
      "Intercept     -4.5369      0.019   -241.317      0.000      -4.574      -4.500\n",
      "IDADE          0.0392      0.000    162.574      0.000       0.039       0.040\n",
      "DIAS_PERM     -0.0034      0.001     -2.696      0.007      -0.006      -0.001\n",
      "==============================================================================\n"
     ]
    }
   ],
   "source": [
    "log_reg2 = smf.logit(\"MORTE ~ IDADE + DIAS_PERM\", data = train).fit()\n",
    "print(log_reg2.summary())"
   ]
  },
  {
   "cell_type": "code",
   "execution_count": 78,
   "metadata": {},
   "outputs": [
    {
     "name": "stdout",
     "output_type": "stream",
     "text": [
      "Optimization terminated successfully.\n",
      "         Current function value: 0.267659\n",
      "         Iterations 8\n",
      "                           Logit Regression Results                           \n",
      "==============================================================================\n",
      "Dep. Variable:                  MORTE   No. Observations:               461103\n",
      "Model:                          Logit   Df Residuals:                   461099\n",
      "Method:                           MLE   Df Model:                            3\n",
      "Date:                Sun, 18 Sep 2022   Pseudo R-squ.:                  0.1461\n",
      "Time:                        10:40:18   Log-Likelihood:            -1.2342e+05\n",
      "converged:                       True   LL-Null:                   -1.4453e+05\n",
      "Covariance Type:            nonrobust   LLR p-value:                     0.000\n",
      "==============================================================================\n",
      "                 coef    std err          z      P>|z|      [0.025      0.975]\n",
      "------------------------------------------------------------------------------\n",
      "Intercept     -4.5861      0.020   -231.185      0.000      -4.625      -4.547\n",
      "IDADE          0.0391      0.000    162.057      0.000       0.039       0.040\n",
      "DIAS_PERM     -0.0037      0.001     -2.950      0.003      -0.006      -0.001\n",
      "DIAG_PRINC     0.0882      0.011      7.982      0.000       0.067       0.110\n",
      "==============================================================================\n"
     ]
    }
   ],
   "source": [
    "log_reg3 = smf.logit(\"MORTE ~ IDADE + DIAS_PERM + DIAG_PRINC\", data = train).fit()\n",
    "print(log_reg3.summary())"
   ]
  },
  {
   "cell_type": "code",
   "execution_count": 79,
   "metadata": {},
   "outputs": [
    {
     "name": "stdout",
     "output_type": "stream",
     "text": [
      "Optimization terminated successfully.\n",
      "         Current function value: 0.258141\n",
      "         Iterations 8\n",
      "                           Logit Regression Results                           \n",
      "==============================================================================\n",
      "Dep. Variable:                  MORTE   No. Observations:               461103\n",
      "Model:                          Logit   Df Residuals:                   461098\n",
      "Method:                           MLE   Df Model:                            4\n",
      "Date:                Sun, 18 Sep 2022   Pseudo R-squ.:                  0.1764\n",
      "Time:                        10:40:22   Log-Likelihood:            -1.1903e+05\n",
      "converged:                       True   LL-Null:                   -1.4453e+05\n",
      "Covariance Type:            nonrobust   LLR p-value:                     0.000\n",
      "==============================================================================\n",
      "                 coef    std err          z      P>|z|      [0.025      0.975]\n",
      "------------------------------------------------------------------------------\n",
      "Intercept     -4.7415      0.021   -228.893      0.000      -4.782      -4.701\n",
      "IDADE          0.0401      0.000    160.848      0.000       0.040       0.041\n",
      "DIAS_PERM     -0.0143      0.001    -11.032      0.000      -0.017      -0.012\n",
      "DIAG_PRINC     0.0945      0.011      8.383      0.000       0.072       0.117\n",
      "MARCA_UTI      1.7770      0.018     99.534      0.000       1.742       1.812\n",
      "==============================================================================\n"
     ]
    }
   ],
   "source": [
    "log_reg4 = smf.logit(\"MORTE ~ IDADE + DIAS_PERM + DIAG_PRINC + MARCA_UTI\", data = train).fit()\n",
    "print(log_reg4.summary())"
   ]
  },
  {
   "cell_type": "code",
   "execution_count": 80,
   "metadata": {},
   "outputs": [
    {
     "name": "stdout",
     "output_type": "stream",
     "text": [
      "Optimization terminated successfully.\n",
      "         Current function value: 0.258073\n",
      "         Iterations 8\n",
      "                           Logit Regression Results                           \n",
      "==============================================================================\n",
      "Dep. Variable:                  MORTE   No. Observations:               461103\n",
      "Model:                          Logit   Df Residuals:                   461097\n",
      "Method:                           MLE   Df Model:                            5\n",
      "Date:                Sun, 18 Sep 2022   Pseudo R-squ.:                  0.1767\n",
      "Time:                        10:40:25   Log-Likelihood:            -1.1900e+05\n",
      "converged:                       True   LL-Null:                   -1.4453e+05\n",
      "Covariance Type:            nonrobust   LLR p-value:                     0.000\n",
      "==============================================================================\n",
      "                 coef    std err          z      P>|z|      [0.025      0.975]\n",
      "------------------------------------------------------------------------------\n",
      "Intercept     -4.7478      0.021   -228.984      0.000      -4.788      -4.707\n",
      "IDADE          0.0401      0.000    160.791      0.000       0.040       0.041\n",
      "DIAS_PERM     -0.0131      0.001    -10.017      0.000      -0.016      -0.011\n",
      "DIAG_PRINC     0.0940      0.011      8.333      0.000       0.072       0.116\n",
      "MARCA_UTI      2.0275      0.036     55.986      0.000       1.957       2.098\n",
      "UTI_MES_TO    -0.0696      0.009     -7.908      0.000      -0.087      -0.052\n",
      "==============================================================================\n"
     ]
    }
   ],
   "source": [
    "log_reg5 = smf.logit(\"MORTE ~ IDADE + DIAS_PERM + DIAG_PRINC + MARCA_UTI + UTI_MES_TO\", data = train).fit()\n",
    "print(log_reg5.summary())"
   ]
  },
  {
   "cell_type": "code",
   "execution_count": 83,
   "metadata": {},
   "outputs": [
    {
     "name": "stdout",
     "output_type": "stream",
     "text": [
      "Optimization terminated successfully.\n",
      "         Current function value: 0.257937\n",
      "         Iterations 8\n",
      "                           Logit Regression Results                           \n",
      "==============================================================================\n",
      "Dep. Variable:                  MORTE   No. Observations:               461103\n",
      "Model:                          Logit   Df Residuals:                   461096\n",
      "Method:                           MLE   Df Model:                            6\n",
      "Date:                Sun, 18 Sep 2022   Pseudo R-squ.:                  0.1771\n",
      "Time:                        10:42:04   Log-Likelihood:            -1.1894e+05\n",
      "converged:                       True   LL-Null:                   -1.4453e+05\n",
      "Covariance Type:            nonrobust   LLR p-value:                     0.000\n",
      "==============================================================================\n",
      "                 coef    std err          z      P>|z|      [0.025      0.975]\n",
      "------------------------------------------------------------------------------\n",
      "Intercept     -4.7839      0.021   -227.723      0.000      -4.825      -4.743\n",
      "IDADE          0.0400      0.000    160.356      0.000       0.040       0.041\n",
      "DIAS_PERM     -0.0139      0.001    -10.655      0.000      -0.016      -0.011\n",
      "DIAG_PRINC     0.0888      0.011      7.865      0.000       0.067       0.111\n",
      "MARCA_UTI      2.0164      0.036     55.656      0.000       1.945       2.087\n",
      "UTI_MES_TO    -0.0678      0.009     -7.700      0.000      -0.085      -0.051\n",
      "REGIAO         0.1225      0.011     11.243      0.000       0.101       0.144\n",
      "==============================================================================\n"
     ]
    }
   ],
   "source": [
    "log_reg6 = smf.logit(\"MORTE ~ IDADE + DIAS_PERM + DIAG_PRINC + MARCA_UTI + UTI_MES_TO + REGIAO\", data = train).fit()\n",
    "print(log_reg6.summary())"
   ]
  }
 ],
 "metadata": {
  "kernelspec": {
   "display_name": "Python 3.8.10 64-bit",
   "language": "python",
   "name": "python3"
  },
  "language_info": {
   "codemirror_mode": {
    "name": "ipython",
    "version": 3
   },
   "file_extension": ".py",
   "mimetype": "text/x-python",
   "name": "python",
   "nbconvert_exporter": "python",
   "pygments_lexer": "ipython3",
   "version": "3.8.10"
  },
  "orig_nbformat": 4,
  "vscode": {
   "interpreter": {
    "hash": "916dbcbb3f70747c44a77c7bcd40155683ae19c65e1c03b4aa3499c5328201f1"
   }
  }
 },
 "nbformat": 4,
 "nbformat_minor": 2
}

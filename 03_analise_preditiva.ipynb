{
 "cells": [
  {
   "cell_type": "markdown",
   "metadata": {},
   "source": [
    "# Predição de mortalidade em internações por pneumonias bacterianas sensíveis à Atenção Primária no Brasil, 2017-2021"
   ]
  },
  {
   "cell_type": "markdown",
   "metadata": {},
   "source": [
    "## Análise preditiva"
   ]
  },
  {
   "cell_type": "code",
   "execution_count": 1,
   "metadata": {},
   "outputs": [],
   "source": [
    "# IMPORTANDO PACOTES \n",
    "import matplotlib.pyplot as plt\n",
    "import matplotlib.ticker as ticker\n",
    "import numpy as np\n",
    "import pandas as pd  \n",
    "import chart_studio.plotly as py\n",
    "import plotly.graph_objs as gp \n",
    "import seaborn as sns\n",
    "\n",
    "from scipy.stats import iqr\n",
    "from sklearn.preprocessing import StandardScaler"
   ]
  },
  {
   "cell_type": "code",
   "execution_count": 2,
   "metadata": {},
   "outputs": [
    {
     "name": "stdout",
     "output_type": "stream",
     "text": [
      "<class 'pandas.core.frame.DataFrame'>\n",
      "RangeIndex: 323012 entries, 0 to 323011\n",
      "Data columns (total 14 columns):\n",
      " #   Column      Non-Null Count   Dtype  \n",
      "---  ------      --------------   -----  \n",
      " 0   Unnamed: 0  323012 non-null  int64  \n",
      " 1   N_AIH       323012 non-null  int64  \n",
      " 2   IDADE       323012 non-null  float64\n",
      " 3   SEXO        323012 non-null  int64  \n",
      " 4   MORTE       323012 non-null  int64  \n",
      " 5   DIAS_PERM   323012 non-null  int64  \n",
      " 6   DIAG_PRINC  323012 non-null  object \n",
      " 7   DT_INTER    323012 non-null  object \n",
      " 8   ANO_CMPT    323012 non-null  int64  \n",
      " 9   MES_CMPT    323012 non-null  int64  \n",
      " 10  MARCA_UTI   323012 non-null  object \n",
      " 11  UTI_MES_TO  323012 non-null  int64  \n",
      " 12  ANO_INT     323012 non-null  int64  \n",
      " 13  UF          323012 non-null  int64  \n",
      "dtypes: float64(1), int64(10), object(3)\n",
      "memory usage: 34.5+ MB\n"
     ]
    }
   ],
   "source": [
    "#IMPOTANDO DADOS\n",
    "sih_pneumo2 = pd.read_csv(\"sih_pneumo2_1721_trat.csv\")\n",
    "sih_pneumo2.info()\n"
   ]
  },
  {
   "cell_type": "code",
   "execution_count": 3,
   "metadata": {},
   "outputs": [
    {
     "name": "stdout",
     "output_type": "stream",
     "text": [
      "<class 'pandas.core.frame.DataFrame'>\n",
      "RangeIndex: 323012 entries, 0 to 323011\n",
      "Data columns (total 13 columns):\n",
      " #   Column      Non-Null Count   Dtype         \n",
      "---  ------      --------------   -----         \n",
      " 0   N_AIH       323012 non-null  object        \n",
      " 1   IDADE       323012 non-null  float64       \n",
      " 2   SEXO        323012 non-null  object        \n",
      " 3   MORTE       323012 non-null  int64         \n",
      " 4   DIAS_PERM   323012 non-null  int64         \n",
      " 5   DIAG_PRINC  323012 non-null  object        \n",
      " 6   DT_INTER    323012 non-null  datetime64[ns]\n",
      " 7   ANO_CMPT    323012 non-null  int64         \n",
      " 8   MES_CMPT    323012 non-null  int64         \n",
      " 9   MARCA_UTI   323012 non-null  object        \n",
      " 10  UTI_MES_TO  323012 non-null  int64         \n",
      " 11  ANO_INT     323012 non-null  int64         \n",
      " 12  UF          323012 non-null  object        \n",
      "dtypes: datetime64[ns](1), float64(1), int64(6), object(5)\n",
      "memory usage: 32.0+ MB\n"
     ]
    },
    {
     "data": {
      "text/plain": [
       "(None,\n",
       "            N_AIH  IDADE SEXO  MORTE  DIAS_PERM  \\\n",
       " 0  1217100049066   74.0    1      1          8   \n",
       " 1  1217100051343   63.0    1      0          1   \n",
       " 2  1216100558520   74.0    3      0          8   \n",
       " 3  1216100558937   32.0    3      1          7   \n",
       " 4  1217100046118    1.0    3      0          5   \n",
       " \n",
       "                        DIAG_PRINC   DT_INTER  ANO_CMPT  MES_CMPT  \\\n",
       " 0  J159 - Pneumonia bacteriana NE 2017-01-23      2017         1   \n",
       " 1  J159 - Pneumonia bacteriana NE 2017-01-11      2017         1   \n",
       " 2  J159 - Pneumonia bacteriana NE 2017-01-17      2017         1   \n",
       " 3  J159 - Pneumonia bacteriana NE 2017-01-20      2017         1   \n",
       " 4  J158 - Pneumonia bacteriana NE 2017-01-08      2017         1   \n",
       " \n",
       "       MARCA_UTI  UTI_MES_TO  ANO_INT  UF  \n",
       " 0  Não usou UTI           0     2017  12  \n",
       " 1  Não usou UTI           0     2017  12  \n",
       " 2  Não usou UTI           0     2017  12  \n",
       " 3  Não usou UTI           0     2017  12  \n",
       " 4  Não usou UTI           0     2017  12  )"
      ]
     },
     "execution_count": 3,
     "metadata": {},
     "output_type": "execute_result"
    }
   ],
   "source": [
    "#TRATANDO VARIÁVEIS\n",
    "sih_pneumo2.drop('Unnamed: 0', axis= 1, inplace= True)\n",
    "sih_pneumo2['N_AIH'] = sih_pneumo2['N_AIH'].astype(str)\n",
    "sih_pneumo2['SEXO'] = sih_pneumo2['SEXO'].astype(str)\n",
    "sih_pneumo2['DIAG_PRINC'] = sih_pneumo2['DIAG_PRINC'].astype(str)\n",
    "sih_pneumo2['UF'] = sih_pneumo2['UF'].astype(str)\n",
    "sih_pneumo2['IDADE'] = sih_pneumo2['IDADE'].astype(\"float64\")\n",
    "sih_pneumo2['DT_INTER'] = pd.to_datetime(sih_pneumo2['DT_INTER'])\n",
    "sih_pneumo2.info(), sih_pneumo2.head()"
   ]
  }
 ],
 "metadata": {
  "kernelspec": {
   "display_name": "Python 3.8.10 64-bit",
   "language": "python",
   "name": "python3"
  },
  "language_info": {
   "codemirror_mode": {
    "name": "ipython",
    "version": 3
   },
   "file_extension": ".py",
   "mimetype": "text/x-python",
   "name": "python",
   "nbconvert_exporter": "python",
   "pygments_lexer": "ipython3",
   "version": "3.8.10"
  },
  "orig_nbformat": 4,
  "vscode": {
   "interpreter": {
    "hash": "916dbcbb3f70747c44a77c7bcd40155683ae19c65e1c03b4aa3499c5328201f1"
   }
  }
 },
 "nbformat": 4,
 "nbformat_minor": 2
}
